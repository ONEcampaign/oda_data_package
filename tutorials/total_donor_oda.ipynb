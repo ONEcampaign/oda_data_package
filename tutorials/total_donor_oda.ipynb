{
 "cells": [
  {
   "cell_type": "markdown",
   "source": [
    "# ODA data by Donor\n",
    "This tutorial shows you how to build a Pandas DataFrame containing ODA data from any number of donors over a range of years and multiple different indicators.\n",
    "\n",
    "The tutorial has the following steps:\n",
    "1. Optionally, download the raw data if you haven't yet done so\n",
    "2. Import `ODAData`, the main tool used to interact with the data\n",
    "3. Create an instance of `ODAData` with the specific arguments you would like to use\n",
    "4. Load the indicators\n",
    "5. Get the DataFrame\n",
    "6. Optionally, export the DataFrame"
   ],
   "metadata": {
    "collapsed": false,
    "pycharm": {
     "name": "#%% md\n"
    }
   }
  },
  {
   "cell_type": "markdown",
   "source": [
    "## 1. Download the raw data\n",
    "\n",
    "The raw data must be downloaded every time you do a fresh installation of the `oda_data` package. The raw data is not distributed with the package given\n",
    "its size, and to make sure users are accessing the latest data when they start working with the package.\n",
    "\n",
    "Before getting started with analysis for the first time, you must download the raw data. This process can take a while depending on your internet connection,\n",
    "and on the files that you decide to download.\n",
    "\n",
    "It is highly recommended that you specify the folder where you want to store, and from where you want to read, the raw data. This must be done once in each\n",
    "notebook or script where we use the `oda_data` package.\n",
    "\n",
    "First we will import the necessary functions. In this example, we will only download the Table 1 using `download_dac1()`, but other options\n",
    "include `download_crs(years)`, `download_dac2a()`, and `download_multisystem()`"
   ],
   "metadata": {
    "collapsed": false,
    "pycharm": {
     "name": "#%% md\n"
    }
   }
  },
  {
   "cell_type": "code",
   "execution_count": 1,
   "outputs": [
    {
     "name": "stderr",
     "output_type": "stream",
     "text": [
      "C:\\Users\\MatthewPrice\\anaconda3\\envs\\oda_data_package_tutorials\\lib\\site-packages\\pydeflate\\utils.py:37: UserWarning: \n",
      "\n",
      "The underlying data for \"imf\" has not been updated in over 69 days. \n",
      "In order to use pydeflate with the most recent data, please run:\n",
      "`pydeflate.update_all_data()`\n",
      "  warnings.warn(message)\n",
      "C:\\Users\\MatthewPrice\\anaconda3\\envs\\oda_data_package_tutorials\\lib\\site-packages\\pydeflate\\utils.py:37: UserWarning: \n",
      "\n",
      "The underlying data for \"wb\" has not been updated in over 69 days. \n",
      "In order to use pydeflate with the most recent data, please run:\n",
      "`pydeflate.update_all_data()`\n",
      "  warnings.warn(message)\n",
      "INFO 2023-01-05 15:32:37,505 [common.py:download_single_table:162] Table1_Data.csv data downloaded and saved.\n"
     ]
    }
   ],
   "source": [
    "from oda_data import set_data_path, download_dac1\n",
    "\n",
    "# set the path to the folder where we want to store the data\n",
    "set_data_path(path=\"../tutorials\")\n",
    "\n",
    "# download the raw data, which will be stored in the folder above.\n",
    "# it will be read from there, too\n",
    "download_dac1()"
   ],
   "metadata": {
    "collapsed": false,
    "pycharm": {
     "name": "#%%\n"
    }
   }
  },
  {
   "cell_type": "markdown",
   "source": [
    "## 2. Import ODAData\n",
    "\n",
    "We can gather the data we need using the `ODAData` class. An object from this class can:\n",
    "- Get data for specific indicators\n",
    "- Optionally, filter the data for specific donors, recipients and years\n",
    "- Optionally, exchange and deflate data\n",
    "\n",
    "You can specify the data path if the raw data has already been downloaded, or if you haven't yet specified the download path in your notebook and script."
   ],
   "metadata": {
    "collapsed": false,
    "pycharm": {
     "name": "#%% md\n"
    }
   }
  },
  {
   "cell_type": "code",
   "execution_count": 2,
   "outputs": [],
   "source": [
    "from oda_data import ODAData, set_data_path\n",
    "\n",
    "# If you haven't set the data path, you can do it now.\n",
    "# If you haven't downloaded the raw data before, please see step 0\n",
    "set_data_path(path=\"../tutorials\")"
   ],
   "metadata": {
    "collapsed": false,
    "pycharm": {
     "name": "#%%\n"
    }
   }
  },
  {
   "cell_type": "markdown",
   "source": [
    "# 3. Instantiating the ODAData object with the desired arguments\n",
    "\n",
    "Next, we need to set the right arguments, which are used to create the right DataFrame.\n",
    "- *years*: you must specify the `years`, as an `int`, `list` or `range`\n",
    "- *donors*: you can _optionally_ specify the `donors` you want the output to have (as `int`, or `list`) of donor codes.\n",
    "- *recipients*: you can _optionally_ specify the `recipients` you want the output to have. Not all indicators\n",
    "    need or accept recipients. If using an indicator for which recipients aren't an option, a warning will be logged to\n",
    "    the console and the recipients ignored for that indicator.\n",
    "- *currency*: you can _optionally_ specify the `currency` in which you want your data to be shown. If not specified,\n",
    "    by default, `USD` will be used. Other options include `EUR`, `GBP` and `CAN`.\n",
    "- *prices*: you can _optionally_ specify the `prices` in which you want your data to be shown. If not specified,\n",
    "    by default, `current` will be used. The other option is `constant`. If specifying `constant` a `base_year` must be set.\n",
    "- *base_year*: you must specify a `base_year` if you have set `prices = 'constant`. If you have chosen `current` prices,\n",
    "    by default, `base_year` will be `None`.\n",
    "\n",
    "\n",
    "Below are some example settings for this tutorial. For clarity we will first store them in variables, but you can\n",
    "always pass them directly as arguments to the `ODAData` class."
   ],
   "metadata": {
    "collapsed": false,
    "pycharm": {
     "name": "#%% md\n"
    }
   }
  },
  {
   "cell_type": "code",
   "execution_count": 3,
   "outputs": [],
   "source": [
    "# Select years as (for example) a range. Remember ranges are exclusive of the upper bound.\n",
    "years = range(2012, 2021)\n",
    "\n",
    "# Select donors, which must be specified by their codes. To get all donors, do not use this argument.\n",
    "donors = [4, 12, 302]\n",
    "\n",
    "# Select the currency. By default 'USD' is shown but we'll get the data in Euros.\n",
    "currency = 'EUR'\n",
    "\n",
    "# Select the prices. By default, 'current' is shown, but we'll get the data in constant prices.\n",
    "prices = 'constant'\n",
    "\n",
    "# Set the base year. We must set this given that we've asked for constant data.\n",
    "base_year = 2021"
   ],
   "metadata": {
    "collapsed": false,
    "pycharm": {
     "name": "#%%\n"
    }
   }
  },
  {
   "cell_type": "markdown",
   "source": [
    "To see a list of available indicators, donor codes, and currencies, you can use a few\n",
    "methods provided by the ODAData object.\n",
    "\n",
    "For example:"
   ],
   "metadata": {
    "collapsed": false,
    "pycharm": {
     "name": "#%% md\n"
    }
   }
  },
  {
   "cell_type": "code",
   "execution_count": null,
   "outputs": [
    {
     "name": "stderr",
     "output_type": "stream",
     "text": [
      "INFO 2022-12-09 10:32:38,461 [oda_data.py:available_donors:300] Note that not all donors may be available for all indicators\n"
     ]
    },
    {
     "data": {
      "text/plain": "{\n1: Austria,\n2: Belgium,\n3: Denmark,\n4: France,\n5: Germany,\n6: Italy,\n7: Netherlands,\n8: Norway,\n9: Portugal,\n10: Sweden,\n11: Switzerland,\n12: United Kingdom,\n18: Finland,\n20: Iceland,\n21: Ireland,\n22: Luxembourg,\n40: Greece,\n50: Spain,\n61: Slovenia,\n68: Czech Republic,\n69: Slovak Republic,\n75: Hungary,\n76: Poland,\n301: Canada,\n302: United States,\n701: Japan,\n742: Korea,\n801: Australia,\n820: New Zealand,\n30: Cyprus,\n45: Malta,\n55: Turkey,\n62: Croatia,\n70: Liechtenstein,\n72: Bulgaria,\n77: Romania,\n82: Estonia,\n83: Latvia,\n84: Lithuania,\n87: Russia,\n130: Algeria,\n133: Libya,\n358: Mexico,\n543: Iraq,\n546: Israel,\n552: Kuwait,\n561: Qatar,\n566: Saudi Arabia,\n576: United Arab Emirates,\n611: Azerbaijan,\n613: Kazakhstan,\n732: Chinese Taipei,\n764: Thailand,\n765: Timor-Leste,\n104: Nordic Development Fund,\n807: UNEP,\n811: Global Environment Facility,\n812: Montreal Protocol,\n901: International Bank for Reconstruction and Development,\n902: Multilateral Investment Guarantee Agency,\n903: International Finance Corporation,\n905: International Development Association,\n906: Caribbean Development Bank,\n907: International Monetary Fund,\n909: Inter-American Development Bank,\n913: African Development Bank,\n914: African Development Fund,\n915: Asian Development Bank,\n921: Arab Fund (AFESD),\n923: UN Peacebuilding Fund,\n926: Council of Europe,\n928: World Health Organisation,\n932: Food and Agriculture Organisation,\n940: International Labour Organisation,\n944: International Atomic Energy Agency,\n948: UNECE,\n951: OPEC Fund for International Development,\n952: OAPEC,\n953: Arab Bank for Economic Development in Africa,\n954: Special Arab Aid Fund for Africa,\n956: IMF Trust Fund,\n958: IMF (Concessional Trust Funds),\n959: UNDP,\n960: UNTA,\n963: UNICEF,\n964: UNRWA,\n966: WFP,\n967: UNHCR,\n971: UNAIDS,\n974: UNFPA,\n976: Islamic Development Bank,\n978: OSCE,\n979: Islamic Monetary Fund,\n980: Arab Fund for Technical Assistance to African and Arab Countries,\n981: Black Sea Trade & Development Bank,\n982: GODE,\n983: Other Arab Agencies,\n988: IFAD,\n990: European Bank for Reconstruction and Development,\n992: UN AGENCIES,\n997: Global Partnership for Education,\n1011: Climate Investment Funds,\n1012: Adaptation Fund,\n1013: Council of Europe Development Bank,\n1014: Private Infrastructure Development Group,\n1015: Development Bank of Latin America,\n1016: Green Climate Fund,\n1017: Credit Guarantee and Investment Facility,\n1018: Global Energy Efficiency and Renewable Energy Fund,\n1019: IDB Invest,\n1020: Central Emergency Response Fund,\n1023: World Tourism Organisation,\n1024: Asian Infrastructure Investment Bank,\n1025: Center of Excellence in Finance,\n1037: International Investment Bank,\n1311: Global Alliance for Vaccines and Immunization,\n1312: Global Fund,\n1313: Global Green Growth Institute,\n918: EU Institutions,\n20001: DAC Countries, Total,\n20002: Multilaterals, Total,\n20003: G7 Countries, Total,\n20005: Official Donors, Total,\n20006: Non-DAC Countries, Total,\n20012: World Bank Group, Total,\n20013: International Monetary Fund, Total,\n20014: Inter-American Development Bank, Total,\n20015: Asian Development Bank, Total,\n20016: African Development Bank, Total,\n20021: United Nations, Total,\n20022: Regional Development Banks, Total,\n20033: World Bank, Total,\n20034: Other Multilateral, Total,\n20035: United Postcode Lotteries, Total,\n21600: Private Donors, Total\n}"
     },
     "execution_count": 4,
     "metadata": {},
     "output_type": "execute_result"
    }
   ],
   "source": [
    "ODAData().available_donors()"
   ],
   "metadata": {
    "collapsed": false,
    "pycharm": {
     "name": "#%%\n"
    }
   }
  },
  {
   "cell_type": "code",
   "execution_count": null,
   "outputs": [
    {
     "data": {
      "text/plain": "[\nUSD,\nEUR,\nGBP,\nCAD\n]"
     },
     "execution_count": 5,
     "metadata": {},
     "output_type": "execute_result"
    }
   ],
   "source": [
    "ODAData().available_currencies()"
   ],
   "metadata": {
    "collapsed": false,
    "pycharm": {
     "name": "#%%\n"
    }
   }
  },
  {
   "cell_type": "markdown",
   "source": [
    "Finally, we can specify the indicators we want to retrieve for our analysis.\n",
    "A full list of indicators can be seen by using the `.available_indicators()` method."
   ],
   "metadata": {
    "collapsed": false,
    "pycharm": {
     "name": "#%% md\n"
    }
   }
  },
  {
   "cell_type": "code",
   "execution_count": null,
   "outputs": [
    {
     "data": {
      "text/plain": "[\ntotal_oda_flow_net,\ntotal_oda_ge,\ntotal_oda_bilateral_flow_net,\ntotal_oda_bilateral_ge,\ntotal_oda_multilateral_flow_net,\ntotal_oda_multilateral_ge,\ntotal_oda_flow_gross,\ntotal_oda_flow_commitments,\ntotal_oda_grants_flow,\ntotal_oda_grants_ge,\ntotal_oda_non_grants_flow,\ntotal_oda_non_grants_ge,\ngni,\noda_gni_flow,\nod_gni_ge,\ntotal_in_donor_students_flow,\ntotal_in_donor_students_ge,\ntotal_in_donor_students_ge_linked,\nscholarships_flow,\nscholarships_ge,\nscholarships_ge_linked,\nimputed_students_flow,\nimputed_students_ge,\nimputed_students_linked,\ndebt_relief_flow,\ndebt_relief_ge,\nidrc_flow,\nidrc_ge,\nidrc_ge_linked,\neu_core_flow,\neu_core_ge,\neu_core_ge_linked,\ntotal_psi_flow,\ntotal_psi_ge,\ntotal_psi_flow_linked,\ninstitutional_psi_flow,\ninstitutional_psi_ge,\ninstitutional_psi_flow_linked,\ninstrument_psi_flow,\ninstrument_psi_ge,\ninstrument_psi_flow_linked,\nrecipient_imputed_multi_flow_net,\nrecipient_bilateral_flow_net,\nrecipient_bilateral_flow_gross,\nrecipient_loans_flow_gross,\nrecipient_loans_flow_net,\nrecipient_interest_received_flow,\nrecipient_humanitarian_flow,\nrecipient_grants_flow,\nrecipient_total_flow_net,\ncrs_bilateral_flow_disbursement_gross,\ncrs_gender_significant_flow_disbursement_gross,\ncrs_gender_principal_flow_disbursement_gross,\ncrs_gender_not_targeted_flow_disbursement_gross,\ncrs_gender_not_screened_flow_disbursement_gross,\ncrs_gender_allocable_flow_disbursement_gross,\ncrs_gender_allocable_total_flow_disbursement_gross,\ncrs_gender_total_flow_gross,\ncrs_bilateral_total_flow_gross_by_purpose,\nmultisystem_multilateral_contributions_disbursement_gross,\nmultisystem_multilateral_contributions_commitments_gross,\nimputed_multi_flow_disbursement_gross,\ntotal_bi_multi_flow_disbursement_gross\n]"
     },
     "execution_count": 6,
     "metadata": {},
     "output_type": "execute_result"
    }
   ],
   "source": [
    "ODAData().available_indicators()"
   ],
   "metadata": {
    "collapsed": false,
    "pycharm": {
     "name": "#%%\n"
    }
   }
  },
  {
   "cell_type": "markdown",
   "source": [
    "For this tutorial, we will use the \"total_oda_flow_net\" indicator, and the\n",
    "\"total_oda_flow_gross\" indicator."
   ],
   "metadata": {
    "collapsed": false,
    "pycharm": {
     "name": "#%% md\n"
    }
   }
  },
  {
   "cell_type": "code",
   "execution_count": 4,
   "outputs": [],
   "source": [
    "indicators = ['total_oda_ge','total_oda_grants_ge','total_oda_non_grants_ge','total_oda_bilateral_ge','total_oda_multilateral_ge']"
   ],
   "metadata": {
    "collapsed": false,
    "pycharm": {
     "name": "#%%\n"
    }
   }
  },
  {
   "cell_type": "markdown",
   "source": [
    "## 4. Create an instance of ODAData\n",
    "\n",
    "In order to get the data we want, we will create an instance of the `ODAData` class,\n",
    "using the arguments we specified above.\n",
    "\n",
    "We will store this instance in a variable called `oda`, which we will use later to\n",
    "load the indicators and get the DataFrame we're after.\n"
   ],
   "metadata": {
    "collapsed": false,
    "pycharm": {
     "name": "#%% md\n"
    }
   }
  },
  {
   "cell_type": "code",
   "execution_count": 5,
   "outputs": [],
   "source": [
    "oda = ODAData(years=years,\n",
    "              donors=donors,\n",
    "              currency=currency,\n",
    "              prices=prices,\n",
    "              base_year=base_year,\n",
    "              include_names=True)"
   ],
   "metadata": {
    "collapsed": false,
    "pycharm": {
     "name": "#%%\n"
    }
   }
  },
  {
   "cell_type": "markdown",
   "source": [
    "Then we loop through all your assigned indicators and tell ODAData to load them."
   ],
   "metadata": {
    "collapsed": false,
    "pycharm": {
     "name": "#%% md\n"
    }
   }
  },
  {
   "cell_type": "code",
   "execution_count": 7,
   "outputs": [
    {
     "data": {
      "text/plain": "    year                  indicator  donor_code      donor_name currency  \\\n0   2015         total_oda_flow_net          12  United Kingdom      GBP   \n1   2020         total_oda_flow_net          12  United Kingdom      GBP   \n2   2019         total_oda_flow_net          12  United Kingdom      GBP   \n3   2014         total_oda_flow_net          12  United Kingdom      GBP   \n4   2012         total_oda_flow_net          12  United Kingdom      GBP   \n5   2018         total_oda_flow_net          12  United Kingdom      GBP   \n6   2013         total_oda_flow_net          12  United Kingdom      GBP   \n7   2017         total_oda_flow_net          12  United Kingdom      GBP   \n8   2016         total_oda_flow_net          12  United Kingdom      GBP   \n9   2017               total_oda_ge          12  United Kingdom      GBP   \n10  2018               total_oda_ge          12  United Kingdom      GBP   \n11  2019               total_oda_ge          12  United Kingdom      GBP   \n12  2016               total_oda_ge          12  United Kingdom      GBP   \n13  2015               total_oda_ge          12  United Kingdom      GBP   \n14  2020               total_oda_ge          12  United Kingdom      GBP   \n15  2019        total_oda_grants_ge          12  United Kingdom      GBP   \n16  2018        total_oda_grants_ge          12  United Kingdom      GBP   \n17  2020        total_oda_grants_ge          12  United Kingdom      GBP   \n18  2017     total_oda_bilateral_ge          12  United Kingdom      GBP   \n19  2018     total_oda_bilateral_ge          12  United Kingdom      GBP   \n20  2016     total_oda_bilateral_ge          12  United Kingdom      GBP   \n21  2019     total_oda_bilateral_ge          12  United Kingdom      GBP   \n22  2020     total_oda_bilateral_ge          12  United Kingdom      GBP   \n23  2016  total_oda_multilateral_ge          12  United Kingdom      GBP   \n24  2020  total_oda_multilateral_ge          12  United Kingdom      GBP   \n25  2018  total_oda_multilateral_ge          12  United Kingdom      GBP   \n26  2019  total_oda_multilateral_ge          12  United Kingdom      GBP   \n\n      prices         value  \n0   constant  13989.447379  \n1   constant  15131.437729  \n2   constant  16175.892178  \n3   constant  13548.487441  \n4   constant  10544.729112  \n5   constant  15873.122410  \n6   constant  13446.083355  \n7   constant  15602.140622  \n8   constant  15123.939853  \n9   constant  13870.476114  \n10  constant  15830.691643  \n11  constant  16016.855913  \n12  constant  14573.061436  \n13  constant  14058.614758  \n14  constant  14592.901666  \n15  constant   9793.896220  \n16  constant   9219.596120  \n17  constant   8654.811464  \n18  constant   9750.658816  \n19  constant  10046.918553  \n20  constant   9641.536789  \n21  constant  10924.216852  \n22  constant   9608.142268  \n23  constant   4931.524647  \n24  constant   4984.759398  \n25  constant   5783.773089  \n26  constant   5092.639061  ",
      "text/html": "<div>\n<style scoped>\n    .dataframe tbody tr th:only-of-type {\n        vertical-align: middle;\n    }\n\n    .dataframe tbody tr th {\n        vertical-align: top;\n    }\n\n    .dataframe thead th {\n        text-align: right;\n    }\n</style>\n<table border=\"1\" class=\"dataframe\">\n  <thead>\n    <tr style=\"text-align: right;\">\n      <th></th>\n      <th>year</th>\n      <th>indicator</th>\n      <th>donor_code</th>\n      <th>donor_name</th>\n      <th>currency</th>\n      <th>prices</th>\n      <th>value</th>\n    </tr>\n  </thead>\n  <tbody>\n    <tr>\n      <th>0</th>\n      <td>2015</td>\n      <td>total_oda_flow_net</td>\n      <td>12</td>\n      <td>United Kingdom</td>\n      <td>GBP</td>\n      <td>constant</td>\n      <td>13989.447379</td>\n    </tr>\n    <tr>\n      <th>1</th>\n      <td>2020</td>\n      <td>total_oda_flow_net</td>\n      <td>12</td>\n      <td>United Kingdom</td>\n      <td>GBP</td>\n      <td>constant</td>\n      <td>15131.437729</td>\n    </tr>\n    <tr>\n      <th>2</th>\n      <td>2019</td>\n      <td>total_oda_flow_net</td>\n      <td>12</td>\n      <td>United Kingdom</td>\n      <td>GBP</td>\n      <td>constant</td>\n      <td>16175.892178</td>\n    </tr>\n    <tr>\n      <th>3</th>\n      <td>2014</td>\n      <td>total_oda_flow_net</td>\n      <td>12</td>\n      <td>United Kingdom</td>\n      <td>GBP</td>\n      <td>constant</td>\n      <td>13548.487441</td>\n    </tr>\n    <tr>\n      <th>4</th>\n      <td>2012</td>\n      <td>total_oda_flow_net</td>\n      <td>12</td>\n      <td>United Kingdom</td>\n      <td>GBP</td>\n      <td>constant</td>\n      <td>10544.729112</td>\n    </tr>\n    <tr>\n      <th>5</th>\n      <td>2018</td>\n      <td>total_oda_flow_net</td>\n      <td>12</td>\n      <td>United Kingdom</td>\n      <td>GBP</td>\n      <td>constant</td>\n      <td>15873.122410</td>\n    </tr>\n    <tr>\n      <th>6</th>\n      <td>2013</td>\n      <td>total_oda_flow_net</td>\n      <td>12</td>\n      <td>United Kingdom</td>\n      <td>GBP</td>\n      <td>constant</td>\n      <td>13446.083355</td>\n    </tr>\n    <tr>\n      <th>7</th>\n      <td>2017</td>\n      <td>total_oda_flow_net</td>\n      <td>12</td>\n      <td>United Kingdom</td>\n      <td>GBP</td>\n      <td>constant</td>\n      <td>15602.140622</td>\n    </tr>\n    <tr>\n      <th>8</th>\n      <td>2016</td>\n      <td>total_oda_flow_net</td>\n      <td>12</td>\n      <td>United Kingdom</td>\n      <td>GBP</td>\n      <td>constant</td>\n      <td>15123.939853</td>\n    </tr>\n    <tr>\n      <th>9</th>\n      <td>2017</td>\n      <td>total_oda_ge</td>\n      <td>12</td>\n      <td>United Kingdom</td>\n      <td>GBP</td>\n      <td>constant</td>\n      <td>13870.476114</td>\n    </tr>\n    <tr>\n      <th>10</th>\n      <td>2018</td>\n      <td>total_oda_ge</td>\n      <td>12</td>\n      <td>United Kingdom</td>\n      <td>GBP</td>\n      <td>constant</td>\n      <td>15830.691643</td>\n    </tr>\n    <tr>\n      <th>11</th>\n      <td>2019</td>\n      <td>total_oda_ge</td>\n      <td>12</td>\n      <td>United Kingdom</td>\n      <td>GBP</td>\n      <td>constant</td>\n      <td>16016.855913</td>\n    </tr>\n    <tr>\n      <th>12</th>\n      <td>2016</td>\n      <td>total_oda_ge</td>\n      <td>12</td>\n      <td>United Kingdom</td>\n      <td>GBP</td>\n      <td>constant</td>\n      <td>14573.061436</td>\n    </tr>\n    <tr>\n      <th>13</th>\n      <td>2015</td>\n      <td>total_oda_ge</td>\n      <td>12</td>\n      <td>United Kingdom</td>\n      <td>GBP</td>\n      <td>constant</td>\n      <td>14058.614758</td>\n    </tr>\n    <tr>\n      <th>14</th>\n      <td>2020</td>\n      <td>total_oda_ge</td>\n      <td>12</td>\n      <td>United Kingdom</td>\n      <td>GBP</td>\n      <td>constant</td>\n      <td>14592.901666</td>\n    </tr>\n    <tr>\n      <th>15</th>\n      <td>2019</td>\n      <td>total_oda_grants_ge</td>\n      <td>12</td>\n      <td>United Kingdom</td>\n      <td>GBP</td>\n      <td>constant</td>\n      <td>9793.896220</td>\n    </tr>\n    <tr>\n      <th>16</th>\n      <td>2018</td>\n      <td>total_oda_grants_ge</td>\n      <td>12</td>\n      <td>United Kingdom</td>\n      <td>GBP</td>\n      <td>constant</td>\n      <td>9219.596120</td>\n    </tr>\n    <tr>\n      <th>17</th>\n      <td>2020</td>\n      <td>total_oda_grants_ge</td>\n      <td>12</td>\n      <td>United Kingdom</td>\n      <td>GBP</td>\n      <td>constant</td>\n      <td>8654.811464</td>\n    </tr>\n    <tr>\n      <th>18</th>\n      <td>2017</td>\n      <td>total_oda_bilateral_ge</td>\n      <td>12</td>\n      <td>United Kingdom</td>\n      <td>GBP</td>\n      <td>constant</td>\n      <td>9750.658816</td>\n    </tr>\n    <tr>\n      <th>19</th>\n      <td>2018</td>\n      <td>total_oda_bilateral_ge</td>\n      <td>12</td>\n      <td>United Kingdom</td>\n      <td>GBP</td>\n      <td>constant</td>\n      <td>10046.918553</td>\n    </tr>\n    <tr>\n      <th>20</th>\n      <td>2016</td>\n      <td>total_oda_bilateral_ge</td>\n      <td>12</td>\n      <td>United Kingdom</td>\n      <td>GBP</td>\n      <td>constant</td>\n      <td>9641.536789</td>\n    </tr>\n    <tr>\n      <th>21</th>\n      <td>2019</td>\n      <td>total_oda_bilateral_ge</td>\n      <td>12</td>\n      <td>United Kingdom</td>\n      <td>GBP</td>\n      <td>constant</td>\n      <td>10924.216852</td>\n    </tr>\n    <tr>\n      <th>22</th>\n      <td>2020</td>\n      <td>total_oda_bilateral_ge</td>\n      <td>12</td>\n      <td>United Kingdom</td>\n      <td>GBP</td>\n      <td>constant</td>\n      <td>9608.142268</td>\n    </tr>\n    <tr>\n      <th>23</th>\n      <td>2016</td>\n      <td>total_oda_multilateral_ge</td>\n      <td>12</td>\n      <td>United Kingdom</td>\n      <td>GBP</td>\n      <td>constant</td>\n      <td>4931.524647</td>\n    </tr>\n    <tr>\n      <th>24</th>\n      <td>2020</td>\n      <td>total_oda_multilateral_ge</td>\n      <td>12</td>\n      <td>United Kingdom</td>\n      <td>GBP</td>\n      <td>constant</td>\n      <td>4984.759398</td>\n    </tr>\n    <tr>\n      <th>25</th>\n      <td>2018</td>\n      <td>total_oda_multilateral_ge</td>\n      <td>12</td>\n      <td>United Kingdom</td>\n      <td>GBP</td>\n      <td>constant</td>\n      <td>5783.773089</td>\n    </tr>\n    <tr>\n      <th>26</th>\n      <td>2019</td>\n      <td>total_oda_multilateral_ge</td>\n      <td>12</td>\n      <td>United Kingdom</td>\n      <td>GBP</td>\n      <td>constant</td>\n      <td>5092.639061</td>\n    </tr>\n  </tbody>\n</table>\n</div>"
     },
     "execution_count": 7,
     "metadata": {},
     "output_type": "execute_result"
    }
   ],
   "source": [
    "# Add all the indicators in our `indicators` list\n",
    "for indicator in indicators:\n",
    "    oda.load_indicator(indicator)\n",
    "\n",
    "# get a DataFrame with all the dat\n",
    "df = oda.get_data('all')\n",
    "\n",
    "# show the resulting dataframe\n",
    "df"
   ],
   "metadata": {
    "collapsed": false,
    "pycharm": {
     "name": "#%%\n"
    }
   }
  },
  {
   "cell_type": "code",
   "execution_count": null,
   "outputs": [],
   "source": [
    "df.to_csv(r'../tutorials/total_donor.csv', index = False)"
   ],
   "metadata": {
    "collapsed": false,
    "pycharm": {
     "name": "#%%\n"
    }
   }
  }
 ],
 "metadata": {
  "kernelspec": {
   "display_name": "Python 3",
   "language": "python",
   "name": "python3"
  },
  "language_info": {
   "codemirror_mode": {
    "name": "ipython",
    "version": 2
   },
   "file_extension": ".py",
   "mimetype": "text/x-python",
   "name": "python",
   "nbconvert_exporter": "python",
   "pygments_lexer": "ipython2",
   "version": "2.7.6"
  }
 },
 "nbformat": 4,
 "nbformat_minor": 0
}