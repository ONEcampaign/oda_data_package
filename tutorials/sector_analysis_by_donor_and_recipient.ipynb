{
 "cells": [
  {
   "cell_type": "markdown",
   "source": [
    "# ODA data by Recipient\n",
    "This tutorial shows you how to build a Pandas DataFrame containing ODA data to any number sectors and recipients, from any number of donors, over a range of years.\n",
    "\n",
    "The tutorial has the following steps:\n",
    "1. Optionally, download the raw data if you haven't yet done so\n",
    "2. Import `ODAData`, the main tool used to interact with the data\n",
    "3. Create an instance of `ODAData` with the specific arguments you would like to use\n",
    "4. Load the indicators\n",
    "5. Get the DataFrame\n",
    "6. Optionally, export the DataFrame"
   ],
   "metadata": {
    "collapsed": false,
    "pycharm": {
     "name": "#%% md\n"
    }
   }
  },
  {
   "cell_type": "markdown",
   "source": [
    "## 1. Download the raw data\n",
    "\n",
    "The raw data must be downloaded every time you do a fresh installation of the `oda_data` package. The raw data is not distributed with the package given its size, and to make sure users are accessing the latest data when they start working with the package.\n",
    "\n",
    "Before getting started with analysis for the first time, you must download the raw data. This process can take a while depending on your internet connection, and on the files that you decide to download.\n",
    "\n",
    "It is highly recommended that you specify the folder where you want to store and read the raw data. This must be done once in each notebook or script where we use the `oda_data` package.\n",
    "\n",
    "First we will import the necessary functions. In this example, we will only download the CRS data using `download_crs(years)`, but other options include `download_dac1()`, `download_dac2a()`, and `download_multisystem()`.\n",
    "\n",
    "To reduce file size, we set the small_version parameter to True which removes XXX. You must also set years, as below."
   ],
   "metadata": {
    "collapsed": false,
    "pycharm": {
     "name": "#%% md\n"
    }
   }
  },
  {
   "cell_type": "code",
   "execution_count": 1,
   "outputs": [],
   "source": [
    "from oda_data import set_data_path\n",
    "\n",
    "# set the path to the folder where we want to store the data\n",
    "set_data_path(path=\"../tutorials\")"
   ],
   "metadata": {
    "collapsed": false,
    "pycharm": {
     "name": "#%%\n"
    }
   }
  },
  {
   "cell_type": "markdown",
   "source": [
    "## 2. Import ODAData\n",
    "\n",
    "We can gather the data we need using the `ODAData` class. An object from this class can:\n",
    "    - Get data for specific indicators\n",
    "        - Optionally, filter the data for specific donors, recipients and years\n",
    "        - Optionally, exchange and deflate data\n",
    "\n",
    "You can specify the data path if the raw data has already been downloaded, or if you haven't yet specified the download path in your notebook and script."
   ],
   "metadata": {
    "collapsed": false,
    "pycharm": {
     "name": "#%% md\n"
    }
   }
  },
  {
   "cell_type": "code",
   "execution_count": 2,
   "outputs": [],
   "source": [
    "from oda_data import ODAData\n",
    "\n",
    "from oda_data.tools.groupings import recipient_groupings"
   ],
   "metadata": {
    "collapsed": false,
    "pycharm": {
     "name": "#%%\n"
    }
   }
  },
  {
   "cell_type": "markdown",
   "source": [
    "## 3. Instantiating the ODAData object with the desired arguments\n",
    "\n",
    "Next, we need to set the right arguments, which are used to create the right DataFrame.\n",
    "- *years*: you must specify the `years`, as an `int`, `list` or `range`.\n",
    "- *donors*: you can _optionally_ specify the `donors` you want the output to have (as `int`, or `list`) of donor codes.\n",
    "- *recipients*: you can _optionally_ specify the `recipients` you want the output to have. Not all indicators need or accept recipients. If using an indicator for which recipients aren't an option, a warning will be logged to the console and the recipients ignored for that indicator.\n",
    "- *currency*: you can _optionally_ specify the `currency` in which you want your data to be shown. If not specified, by default, `USD` will be used. Other options include `EUR`, `GBP` and `CAN`.\n",
    "- *prices*: you can _optionally_ specify the `prices` in which you want your data to be shown. If not specified, by default, `current` will be used. The other option is `constant`. If specifying `constant` a `base_year` must be set.\n",
    "- *base_year*: you must specify a `base_year` if you have set `prices = 'constant'`. If you have chosen `current` prices,\n",
    "by default, `base_year` will be `None`.\n",
    "\n",
    "\n",
    "Below are some example settings for this tutorial. For clarity, we will first store them in variables, but you can always pass them directly as arguments to the `ODAData` class.\n",
    "You can see the available options using the .available_xxx() methods below."
   ],
   "metadata": {
    "collapsed": false,
    "pycharm": {
     "name": "#%% md\n"
    }
   }
  },
  {
   "cell_type": "code",
   "execution_count": 3,
   "outputs": [
    {
     "data": {
      "text/plain": "dict_keys(['all_recipients', 'all_developing_countries_regions', 'african_countries', 'africa_regional', 'african_countries_regional', 'sahel', 'ldc_countries', 'france_priority', 'dac2a_aggregates'])"
     },
     "execution_count": 3,
     "metadata": {},
     "output_type": "execute_result"
    }
   ],
   "source": [
    "recipient_groupings().keys()"
   ],
   "metadata": {
    "collapsed": false,
    "pycharm": {
     "name": "#%%\n"
    }
   }
  },
  {
   "cell_type": "code",
   "execution_count": 4,
   "outputs": [
    {
     "data": {
      "text/plain": "{'all_recipients': {30: 'Cyprus',\n  35: 'Gibraltar',\n  45: 'Malta',\n  55: 'Turkey',\n  57: 'Kosovo',\n  61: 'Slovenia',\n  62: 'Croatia',\n  63: 'Serbia',\n  64: 'Bosnia and Herzegovina',\n  65: 'Montenegro',\n  66: 'North Macedonia',\n  71: 'Albania',\n  85: 'Ukraine',\n  86: 'Belarus',\n  88: 'States Ex-Yugoslavia unspecified',\n  89: 'Europe, regional',\n  93: 'Moldova',\n  130: 'Algeria',\n  133: 'Libya',\n  136: 'Morocco',\n  139: 'Tunisia',\n  142: 'Egypt',\n  189: 'North of Sahara, regional',\n  218: 'South Africa',\n  225: 'Angola',\n  227: 'Botswana',\n  228: 'Burundi',\n  229: 'Cameroon',\n  230: 'Cabo Verde',\n  231: 'Central African Republic',\n  232: 'Chad',\n  233: 'Comoros',\n  234: 'Congo',\n  235: 'Democratic Republic of the Congo',\n  236: 'Benin',\n  237: 'East African Community',\n  238: 'Ethiopia',\n  239: 'Gabon',\n  240: 'Gambia',\n  241: 'Ghana',\n  243: 'Guinea',\n  244: 'Guinea-Bissau',\n  245: 'Equatorial Guinea',\n  247: \"Cote d'Ivoire\",\n  248: 'Kenya',\n  249: 'Lesotho',\n  251: 'Liberia',\n  252: 'Madagascar',\n  253: 'Malawi',\n  255: 'Mali',\n  256: 'Mauritania',\n  257: 'Mauritius',\n  258: 'Mayotte',\n  259: 'Mozambique',\n  260: 'Niger',\n  261: 'Nigeria',\n  265: 'Zimbabwe',\n  266: 'Rwanda',\n  268: 'Sao Tome and Principe',\n  269: 'Senegal',\n  270: 'Seychelles',\n  271: 'Eritrea',\n  272: 'Sierra Leone',\n  273: 'Somalia',\n  274: 'Djibouti',\n  275: 'Namibia',\n  276: 'Saint Helena',\n  278: 'Sudan',\n  279: 'South Sudan',\n  280: 'Eswatini',\n  282: 'Tanzania',\n  283: 'Togo',\n  285: 'Uganda',\n  287: 'Burkina Faso',\n  288: 'Zambia',\n  289: 'South of Sahara, regional',\n  298: 'Africa, regional',\n  328: 'Bahamas',\n  329: 'Barbados',\n  331: 'Bermuda',\n  336: 'Costa Rica',\n  338: 'Cuba',\n  340: 'Dominican Republic',\n  342: 'El Salvador',\n  347: 'Guatemala',\n  349: 'Haiti',\n  351: 'Honduras',\n  352: 'Belize',\n  354: 'Jamaica',\n  358: 'Mexico',\n  361: 'Netherlands Antilles',\n  364: 'Nicaragua',\n  366: 'Panama',\n  373: 'Aruba',\n  375: 'Trinidad and Tobago',\n  376: 'Anguilla',\n  377: 'Antigua and Barbuda',\n  378: 'Dominica',\n  381: 'Grenada',\n  382: 'Saint Kitts and Nevis',\n  383: 'Saint Lucia',\n  384: 'Saint Vincent and the Grenadines',\n  385: 'Montserrat',\n  386: 'Cayman Islands',\n  387: 'Turks and Caicos Islands',\n  388: 'British Virgin Islands',\n  389: 'Caribbean & Central America, regional',\n  425: 'Argentina',\n  428: 'Bolivia',\n  431: 'Brazil',\n  434: 'Chile',\n  437: 'Colombia',\n  440: 'Ecuador',\n  446: 'Guyana',\n  451: 'Paraguay',\n  454: 'Peru',\n  457: 'Suriname',\n  460: 'Uruguay',\n  463: 'Venezuela',\n  489: 'South America, regional',\n  498: 'America, regional',\n  530: 'Bahrain',\n  540: 'Iran',\n  543: 'Iraq',\n  546: 'Israel',\n  549: 'Jordan',\n  550: 'West Bank and Gaza Strip',\n  552: 'Kuwait',\n  555: 'Lebanon',\n  558: 'Oman',\n  561: 'Qatar',\n  566: 'Saudi Arabia',\n  573: 'Syrian Arab Republic',\n  576: 'United Arab Emirates',\n  580: 'Yemen',\n  589: 'Middle East, regional',\n  610: 'Armenia',\n  611: 'Azerbaijan',\n  612: 'Georgia',\n  613: 'Kazakhstan',\n  614: 'Kyrgyzstan',\n  615: 'Tajikistan',\n  616: 'Turkmenistan',\n  617: 'Uzbekistan',\n  619: 'Central Asia, regional',\n  625: 'Afghanistan',\n  630: 'Bhutan',\n  635: 'Myanmar',\n  640: 'Sri Lanka',\n  645: 'India',\n  650: 'Indus Basin',\n  655: 'Maldives',\n  660: 'Nepal',\n  665: 'Pakistan',\n  666: 'Bangladesh',\n  679: 'South Asia, regional',\n  689: 'South & Central Asia, regional',\n  725: 'Brunei Darussalam',\n  728: 'Cambodia',\n  730: \"China (People's Republic of)\",\n  732: 'Chinese Taipei',\n  735: 'Hong Kong (China)',\n  738: 'Indonesia',\n  740: \"Democratic People's Republic of Korea\",\n  742: 'Korea',\n  745: \"Lao People's Democratic Republic\",\n  748: 'Macau (China)',\n  751: 'Malaysia',\n  753: 'Mongolia',\n  755: 'Philippines',\n  761: 'Singapore',\n  764: 'Thailand',\n  765: 'Timor-Leste',\n  769: 'Viet Nam',\n  789: 'Far East Asia, regional',\n  798: 'Asia, regional',\n  816: 'Other Regional Banks',\n  831: 'Cook Islands',\n  832: 'Fiji',\n  836: 'Kiribati',\n  840: 'French Polynesia',\n  845: 'Nauru',\n  850: 'New Caledonia',\n  854: 'Vanuatu',\n  856: 'Niue',\n  858: 'Northern Mariana Islands',\n  859: 'Marshall Islands',\n  860: 'Micronesia',\n  861: 'Palau',\n  862: 'Papua New Guinea',\n  866: 'Solomon Islands',\n  868: 'Tokelau',\n  870: 'Tonga',\n  872: 'Tuvalu',\n  876: 'Wallis and Futuna',\n  880: 'Samoa',\n  889: 'Oceania, regional',\n  900: 'Other World Bank (AMCs)',\n  901: 'IBRD',\n  902: 'MIGA',\n  903: 'IFC',\n  904: 'IDA-MDRI',\n  905: 'IDA',\n  906: 'Caribbean Dev. Bank',\n  907: 'IMF',\n  909: 'IDB',\n  910: 'CABEI',\n  912: 'IDB Special Oper. Fund',\n  913: 'Af. D B',\n  914: 'African Dev. Fund',\n  915: 'Asian Dev. Bank',\n  916: 'AsDB Special Funds',\n  917: 'EC',\n  918: 'EDF',\n  919: 'EIB',\n  927: 'Other EU institutions',\n  959: 'UNDP',\n  963: 'UNICEF',\n  964: 'UNRWA',\n  966: 'WFP',\n  967: 'UNHCR',\n  974: 'UNFPA',\n  975: 'Other UN',\n  988: 'IFAD',\n  989: 'Other Multilateral',\n  1031: 'Caribbean, regional',\n  9998: 'Developing countries, unspecified',\n  10001: 'Africa, Total',\n  10002: 'North of Sahara, Total',\n  10003: 'South of Sahara, Total',\n  10004: 'America, Total',\n  10005: 'Caribbean & Central America, Total',\n  10006: 'South America, Total',\n  10007: 'Asia, Total',\n  10008: 'Far East Asia, Total',\n  10009: 'South & Central Asia, Total',\n  10010: 'Europe, Total',\n  10011: 'Middle East, Total',\n  10012: 'Oceania, Total',\n  10013: 'CEEC, Total',\n  10014: 'NIS, Total',\n  10016: 'LDCs, Total',\n  10017: 'Other LICs, Total',\n  10018: 'LMICs, Total',\n  10019: 'UMICs, Total',\n  10024: 'Part I Unallocated by income',\n  10025: 'MADCTs, Total',\n  10026: 'Part II Countries, Total',\n  10030: 'HIPCs, Total',\n  10040: 'ACP Countries, Total',\n  10041: 'Club du Sahel, Total',\n  10045: 'WorldBank Low income countries',\n  10046: 'WorldBank Lower-middle income countries',\n  10047: 'WorldBank Upper-middle income countries',\n  10048: 'WorldBank High income countries',\n  10049: 'Countries not classified by the World Bank',\n  10050: 'Eastern Africa, Total',\n  10051: 'Middle Africa, Total',\n  10052: 'Southern Africa, Total',\n  10053: 'Western Africa, Total',\n  10054: 'Caribbean, Total',\n  10055: 'Central America, Total',\n  10056: 'Northern America, Total',\n  10057: 'Melanesia, Total',\n  10058: 'Micronesia, Total',\n  10059: 'Polynesia, Total',\n  10100: 'Developing Countries, Total',\n  10150: 'All Multilateral Recipients, Total',\n  10200: 'All Recipients, Total',\n  10201: 'Land-Locked countries, Total',\n  10202: 'Small island states, Total',\n  10203: 'Fragile states, Total',\n  1027: 'Eastern Africa, regional',\n  1030: 'Western Africa, regional'},\n 'all_developing_countries_regions': {30: 'Cyprus',\n  35: 'Gibraltar',\n  45: 'Malta',\n  55: 'Turkey',\n  57: 'Kosovo',\n  61: 'Slovenia',\n  62: 'Croatia',\n  63: 'Serbia',\n  64: 'Bosnia and Herzegovina',\n  65: 'Montenegro',\n  66: 'North Macedonia',\n  71: 'Albania',\n  85: 'Ukraine',\n  86: 'Belarus',\n  93: 'Moldova',\n  130: 'Algeria',\n  133: 'Libya',\n  136: 'Morocco',\n  139: 'Tunisia',\n  142: 'Egypt',\n  218: 'South Africa',\n  225: 'Angola',\n  227: 'Botswana',\n  228: 'Burundi',\n  229: 'Cameroon',\n  230: 'Cabo Verde',\n  231: 'Central African Republic',\n  232: 'Chad',\n  233: 'Comoros',\n  234: 'Congo',\n  235: 'Democratic Republic of the Congo',\n  236: 'Benin',\n  238: 'Ethiopia',\n  239: 'Gabon',\n  240: 'Gambia',\n  241: 'Ghana',\n  243: 'Guinea',\n  244: 'Guinea-Bissau',\n  245: 'Equatorial Guinea',\n  247: \"Cote d'Ivoire\",\n  248: 'Kenya',\n  249: 'Lesotho',\n  251: 'Liberia',\n  252: 'Madagascar',\n  253: 'Malawi',\n  255: 'Mali',\n  256: 'Mauritania',\n  257: 'Mauritius',\n  258: 'Mayotte',\n  259: 'Mozambique',\n  260: 'Niger',\n  261: 'Nigeria',\n  265: 'Zimbabwe',\n  266: 'Rwanda',\n  268: 'Sao Tome and Principe',\n  269: 'Senegal',\n  270: 'Seychelles',\n  271: 'Eritrea',\n  272: 'Sierra Leone',\n  273: 'Somalia',\n  274: 'Djibouti',\n  275: 'Namibia',\n  276: 'Saint Helena',\n  278: 'Sudan',\n  279: 'South Sudan',\n  280: 'Eswatini',\n  282: 'Tanzania',\n  283: 'Togo',\n  285: 'Uganda',\n  287: 'Burkina Faso',\n  288: 'Zambia',\n  328: 'Bahamas',\n  329: 'Barbados',\n  331: 'Bermuda',\n  336: 'Costa Rica',\n  338: 'Cuba',\n  340: 'Dominican Republic',\n  342: 'El Salvador',\n  347: 'Guatemala',\n  349: 'Haiti',\n  351: 'Honduras',\n  352: 'Belize',\n  354: 'Jamaica',\n  358: 'Mexico',\n  361: 'Netherlands Antilles',\n  364: 'Nicaragua',\n  366: 'Panama',\n  373: 'Aruba',\n  375: 'Trinidad and Tobago',\n  376: 'Anguilla',\n  377: 'Antigua and Barbuda',\n  378: 'Dominica',\n  381: 'Grenada',\n  382: 'Saint Kitts and Nevis',\n  383: 'Saint Lucia',\n  384: 'Saint Vincent and the Grenadines',\n  385: 'Montserrat',\n  386: 'Cayman Islands',\n  387: 'Turks and Caicos Islands',\n  388: 'British Virgin Islands',\n  425: 'Argentina',\n  428: 'Bolivia',\n  431: 'Brazil',\n  434: 'Chile',\n  437: 'Colombia',\n  440: 'Ecuador',\n  446: 'Guyana',\n  451: 'Paraguay',\n  454: 'Peru',\n  457: 'Suriname',\n  460: 'Uruguay',\n  463: 'Venezuela',\n  530: 'Bahrain',\n  540: 'Iran',\n  543: 'Iraq',\n  546: 'Israel',\n  549: 'Jordan',\n  550: 'West Bank and Gaza Strip',\n  552: 'Kuwait',\n  555: 'Lebanon',\n  558: 'Oman',\n  561: 'Qatar',\n  566: 'Saudi Arabia',\n  573: 'Syrian Arab Republic',\n  576: 'United Arab Emirates',\n  580: 'Yemen',\n  610: 'Armenia',\n  611: 'Azerbaijan',\n  612: 'Georgia',\n  613: 'Kazakhstan',\n  614: 'Kyrgyzstan',\n  615: 'Tajikistan',\n  616: 'Turkmenistan',\n  617: 'Uzbekistan',\n  625: 'Afghanistan',\n  630: 'Bhutan',\n  635: 'Myanmar',\n  640: 'Sri Lanka',\n  645: 'India',\n  655: 'Maldives',\n  660: 'Nepal',\n  665: 'Pakistan',\n  666: 'Bangladesh',\n  725: 'Brunei Darussalam',\n  728: 'Cambodia',\n  730: \"China (People's Republic of)\",\n  732: 'Chinese Taipei',\n  735: 'Hong Kong (China)',\n  738: 'Indonesia',\n  740: \"Democratic People's Republic of Korea\",\n  742: 'Korea',\n  745: \"Lao People's Democratic Republic\",\n  748: 'Macau (China)',\n  751: 'Malaysia',\n  753: 'Mongolia',\n  755: 'Philippines',\n  761: 'Singapore',\n  764: 'Thailand',\n  765: 'Timor-Leste',\n  769: 'Viet Nam',\n  831: 'Cook Islands',\n  832: 'Fiji',\n  836: 'Kiribati',\n  840: 'French Polynesia',\n  845: 'Nauru',\n  850: 'New Caledonia',\n  854: 'Vanuatu',\n  856: 'Niue',\n  858: 'Northern Mariana Islands',\n  859: 'Marshall Islands',\n  860: 'Micronesia',\n  861: 'Palau',\n  862: 'Papua New Guinea',\n  866: 'Solomon Islands',\n  868: 'Tokelau',\n  870: 'Tonga',\n  872: 'Tuvalu',\n  876: 'Wallis and Futuna',\n  880: 'Samoa',\n  889: 'Oceania, regional',\n  1031: 'Caribbean, regional',\n  1027: 'Eastern Africa, regional',\n  1030: 'Western Africa, regional'},\n 'african_countries': {130: 'Algeria',\n  133: 'Libya',\n  136: 'Morocco',\n  139: 'Tunisia',\n  142: 'Egypt',\n  218: 'South Africa',\n  225: 'Angola',\n  227: 'Botswana',\n  228: 'Burundi',\n  229: 'Cameroon',\n  230: 'Cabo Verde',\n  231: 'Central African Republic',\n  232: 'Chad',\n  233: 'Comoros',\n  234: 'Congo',\n  235: 'Democratic Republic of the Congo',\n  236: 'Benin',\n  238: 'Ethiopia',\n  239: 'Gabon',\n  240: 'Gambia',\n  241: 'Ghana',\n  243: 'Guinea',\n  244: 'Guinea-Bissau',\n  245: 'Equatorial Guinea',\n  247: \"Cote d'Ivoire\",\n  248: 'Kenya',\n  249: 'Lesotho',\n  251: 'Liberia',\n  252: 'Madagascar',\n  253: 'Malawi',\n  255: 'Mali',\n  256: 'Mauritania',\n  257: 'Mauritius',\n  258: 'Mayotte',\n  259: 'Mozambique',\n  260: 'Niger',\n  261: 'Nigeria',\n  265: 'Zimbabwe',\n  266: 'Rwanda',\n  268: 'Sao Tome and Principe',\n  269: 'Senegal',\n  270: 'Seychelles',\n  271: 'Eritrea',\n  272: 'Sierra Leone',\n  273: 'Somalia',\n  274: 'Djibouti',\n  275: 'Namibia',\n  276: 'Saint Helena',\n  278: 'Sudan',\n  279: 'South Sudan',\n  280: 'Eswatini',\n  282: 'Tanzania',\n  283: 'Togo',\n  285: 'Uganda',\n  287: 'Burkina Faso',\n  288: 'Zambia'},\n 'africa_regional': {189: 'North of Sahara, regional',\n  289: 'South of Sahara, regional',\n  298: 'Africa, regional',\n  1027: 'Eastern Africa, regional',\n  1030: 'Western Africa, regional',\n  1028: 'Middle Africa, regional',\n  1029: 'Southern Africa, regional'},\n 'african_countries_regional': {189: 'North of Sahara, regional',\n  289: 'South of Sahara, regional',\n  298: 'Africa, regional',\n  1027: 'Eastern Africa, regional',\n  1030: 'Western Africa, regional',\n  1028: 'Middle Africa, regional',\n  1029: 'Southern Africa, regional',\n  130: 'Algeria',\n  133: 'Libya',\n  136: 'Morocco',\n  139: 'Tunisia',\n  142: 'Egypt',\n  218: 'South Africa',\n  225: 'Angola',\n  227: 'Botswana',\n  228: 'Burundi',\n  229: 'Cameroon',\n  230: 'Cabo Verde',\n  231: 'Central African Republic',\n  232: 'Chad',\n  233: 'Comoros',\n  234: 'Congo',\n  235: 'Democratic Republic of the Congo',\n  236: 'Benin',\n  238: 'Ethiopia',\n  239: 'Gabon',\n  240: 'Gambia',\n  241: 'Ghana',\n  243: 'Guinea',\n  244: 'Guinea-Bissau',\n  245: 'Equatorial Guinea',\n  247: \"Cote d'Ivoire\",\n  248: 'Kenya',\n  249: 'Lesotho',\n  251: 'Liberia',\n  252: 'Madagascar',\n  253: 'Malawi',\n  255: 'Mali',\n  256: 'Mauritania',\n  257: 'Mauritius',\n  258: 'Mayotte',\n  259: 'Mozambique',\n  260: 'Niger',\n  261: 'Nigeria',\n  265: 'Zimbabwe',\n  266: 'Rwanda',\n  268: 'Sao Tome and Principe',\n  269: 'Senegal',\n  270: 'Seychelles',\n  271: 'Eritrea',\n  272: 'Sierra Leone',\n  273: 'Somalia',\n  274: 'Djibouti',\n  275: 'Namibia',\n  276: 'Saint Helena',\n  278: 'Sudan',\n  279: 'South Sudan',\n  280: 'Eswatini',\n  282: 'Tanzania',\n  283: 'Togo',\n  285: 'Uganda',\n  287: 'Burkina Faso',\n  288: 'Zambia'},\n 'sahel': {232: 'Chad',\n  255: 'Mali',\n  256: 'Mauritania',\n  260: 'Niger',\n  287: 'Burkina Faso'},\n 'ldc_countries': {225: 'Angola',\n  228: 'Burundi',\n  231: 'Central African Republic',\n  232: 'Chad',\n  233: 'Comoros',\n  235: 'Democratic Republic of the Congo',\n  236: 'Benin',\n  238: 'Ethiopia',\n  240: 'Gambia',\n  243: 'Guinea',\n  244: 'Guinea-Bissau',\n  249: 'Lesotho',\n  251: 'Liberia',\n  252: 'Madagascar',\n  253: 'Malawi',\n  255: 'Mali',\n  256: 'Mauritania',\n  259: 'Mozambique',\n  260: 'Niger',\n  266: 'Rwanda',\n  268: 'Sao Tome and Principe',\n  269: 'Senegal',\n  271: 'Eritrea',\n  272: 'Sierra Leone',\n  273: 'Somalia',\n  274: 'Djibouti',\n  278: 'Sudan',\n  279: 'South Sudan',\n  282: 'Tanzania',\n  283: 'Togo',\n  285: 'Uganda',\n  287: 'Burkina Faso',\n  288: 'Zambia',\n  349: 'Haiti',\n  580: 'Yemen',\n  625: 'Afghanistan',\n  630: 'Bhutan',\n  635: 'Myanmar',\n  660: 'Nepal',\n  666: 'Bangladesh',\n  728: 'Cambodia',\n  745: \"Lao People's Democratic Republic\",\n  765: 'Timor-Leste',\n  836: 'Kiribati',\n  854: 'Vanuatu',\n  866: 'Solomon Islands',\n  872: 'Tuvalu'},\n 'france_priority': {228: 'Burundi',\n  231: 'Central African Republic',\n  232: 'Chad',\n  233: 'Comoros',\n  235: 'Democratic Republic of the Congo',\n  236: 'Benin',\n  238: 'Ethiopia',\n  240: 'Gambia',\n  243: 'Guinea',\n  251: 'Liberia',\n  252: 'Madagascar',\n  255: 'Mali',\n  256: 'Mauritania',\n  260: 'Niger',\n  269: 'Senegal',\n  274: 'Djibouti',\n  283: 'Togo',\n  287: 'Burkina Faso',\n  349: 'Haiti'},\n 'dac2a_aggregates': {1027: 'Eastern Africa, regional',\n  1028: 'Middle Africa, regional',\n  1029: 'Southern Africa, regional',\n  1030: 'Western Africa, regional',\n  1031: 'Caribbean, regional',\n  1032: 'Central America, regional',\n  1033: 'Melanesia, regional',\n  1034: 'Micronesia, regional',\n  9998: 'Developing countries, unspecified',\n  10001: 'Africa, Total',\n  10002: 'North of Sahara, Total',\n  10003: 'South of Sahara, Total',\n  10004: 'America, Total',\n  10005: 'Caribbean & Central America, Total',\n  10006: 'South America, Total',\n  10007: 'Asia, Total',\n  10008: 'Far East Asia, Total',\n  10009: 'South & Central Asia, Total',\n  10010: 'Europe, Total',\n  10011: 'Middle East, Total',\n  10012: 'Oceania, Total',\n  10013: 'CEEC, Total',\n  10014: 'NIS, Total',\n  10016: 'LDCs, Total',\n  10017: 'Other LICs, Total',\n  10018: 'LMICs, Total',\n  10019: 'UMICs, Total',\n  10024: 'Part I Unallocated by income',\n  10030: 'HIPCs, Total',\n  10040: 'ACP Countries, Total',\n  10041: 'Club du Sahel, Total',\n  10045: 'WorldBank Low income countries',\n  10046: 'WorldBank Lower-middle income countries',\n  10047: 'WorldBank Upper-middle income countries',\n  10048: 'WorldBank High income countries',\n  10049: 'Countries not classified by the World Bank',\n  10050: 'Eastern Africa, Total',\n  10051: 'Middle Africa, Total',\n  10052: 'Southern Africa, Total',\n  10053: 'Western Africa, Total',\n  10054: 'Caribbean, Total',\n  10055: 'Central America, Total',\n  10057: 'Melanesia, Total',\n  10058: 'Micronesia, Total',\n  10059: 'Polynesia, Total',\n  10100: 'Developing Countries, Total',\n  10150: 'All Multilateral Recipients, Total',\n  10200: 'All Recipients, Total',\n  10201: 'Land-Locked countries, Total',\n  10202: 'Small island states, Total',\n  10203: 'Fragile states, Total'}}"
     },
     "execution_count": 4,
     "metadata": {},
     "output_type": "execute_result"
    }
   ],
   "source": [
    "recipient_groupings()"
   ],
   "metadata": {
    "collapsed": false,
    "pycharm": {
     "name": "#%%\n"
    }
   }
  },
  {
   "cell_type": "code",
   "execution_count": 4,
   "outputs": [],
   "source": [],
   "metadata": {
    "collapsed": false,
    "pycharm": {
     "name": "#%%\n"
    }
   }
  },
  {
   "cell_type": "code",
   "execution_count": 5,
   "outputs": [],
   "source": [
    "# Select years as (for example) a range. Remember ranges are exclusive of the upper bound.\n",
    "years = range(2018,2021)\n",
    "\n",
    "# Select donors, which must be specified by their codes. To get all donors, do not use this argument.\n",
    "donors = [4, 5, 12, 302]\n",
    "\n",
    "# Select recipients, which must be specified by their codes. In this example, we have used Africa, total.\n",
    "recipients = list(recipient_groupings()['african_countries_regional'])\n",
    "\n",
    "# Select the currency. By default 'USD' is shown but we'll get the data in Euros.\n",
    "currency = 'EUR'\n",
    "\n",
    "# Select the prices. By default, 'current' is shown, but we'll get the data in constant prices.\n",
    "prices = 'constant'\n",
    "\n",
    "# Set the base year. We must set this given that we've asked for constant data.\n",
    "base_year = 2021"
   ],
   "metadata": {
    "collapsed": false,
    "pycharm": {
     "name": "#%%\n"
    }
   }
  },
  {
   "cell_type": "code",
   "execution_count": 6,
   "outputs": [
    {
     "name": "stderr",
     "output_type": "stream",
     "text": [
      "INFO 2023-01-06 17:06:03,798 [oda_data.py:available_donors:300] Note that not all donors may be available for all indicators\n"
     ]
    },
    {
     "data": {
      "text/plain": "{\n1: Austria,\n2: Belgium,\n3: Denmark,\n4: France,\n5: Germany,\n6: Italy,\n7: Netherlands,\n8: Norway,\n9: Portugal,\n10: Sweden,\n11: Switzerland,\n12: United Kingdom,\n18: Finland,\n20: Iceland,\n21: Ireland,\n22: Luxembourg,\n40: Greece,\n50: Spain,\n61: Slovenia,\n68: Czech Republic,\n69: Slovak Republic,\n75: Hungary,\n76: Poland,\n301: Canada,\n302: United States,\n701: Japan,\n742: Korea,\n801: Australia,\n820: New Zealand,\n30: Cyprus,\n45: Malta,\n55: Turkey,\n62: Croatia,\n70: Liechtenstein,\n72: Bulgaria,\n77: Romania,\n82: Estonia,\n83: Latvia,\n84: Lithuania,\n87: Russia,\n130: Algeria,\n133: Libya,\n358: Mexico,\n543: Iraq,\n546: Israel,\n552: Kuwait,\n561: Qatar,\n566: Saudi Arabia,\n576: United Arab Emirates,\n611: Azerbaijan,\n613: Kazakhstan,\n732: Chinese Taipei,\n764: Thailand,\n765: Timor-Leste,\n104: Nordic Development Fund,\n807: UNEP,\n811: Global Environment Facility,\n812: Montreal Protocol,\n901: International Bank for Reconstruction and Development,\n902: Multilateral Investment Guarantee Agency,\n903: International Finance Corporation,\n905: International Development Association,\n906: Caribbean Development Bank,\n907: International Monetary Fund,\n909: Inter-American Development Bank,\n913: African Development Bank,\n914: African Development Fund,\n915: Asian Development Bank,\n921: Arab Fund (AFESD),\n923: UN Peacebuilding Fund,\n926: Council of Europe,\n928: World Health Organisation,\n932: Food and Agriculture Organisation,\n940: International Labour Organisation,\n944: International Atomic Energy Agency,\n948: UNECE,\n951: OPEC Fund for International Development,\n952: OAPEC,\n953: Arab Bank for Economic Development in Africa,\n954: Special Arab Aid Fund for Africa,\n956: IMF Trust Fund,\n958: IMF (Concessional Trust Funds),\n959: UNDP,\n960: UNTA,\n963: UNICEF,\n964: UNRWA,\n966: WFP,\n967: UNHCR,\n971: UNAIDS,\n974: UNFPA,\n976: Islamic Development Bank,\n978: OSCE,\n979: Islamic Monetary Fund,\n980: Arab Fund for Technical Assistance to African and Arab Countries,\n981: Black Sea Trade & Development Bank,\n982: GODE,\n983: Other Arab Agencies,\n988: IFAD,\n990: European Bank for Reconstruction and Development,\n992: UN AGENCIES,\n997: Global Partnership for Education,\n1011: Climate Investment Funds,\n1012: Adaptation Fund,\n1013: Council of Europe Development Bank,\n1014: Private Infrastructure Development Group,\n1015: Development Bank of Latin America,\n1016: Green Climate Fund,\n1017: Credit Guarantee and Investment Facility,\n1018: Global Energy Efficiency and Renewable Energy Fund,\n1019: IDB Invest,\n1020: Central Emergency Response Fund,\n1023: World Tourism Organisation,\n1024: Asian Infrastructure Investment Bank,\n1025: Center of Excellence in Finance,\n1037: International Investment Bank,\n1311: Global Alliance for Vaccines and Immunization,\n1312: Global Fund,\n1313: Global Green Growth Institute,\n918: EU Institutions,\n20001: DAC Countries, Total,\n20002: Multilaterals, Total,\n20003: G7 Countries, Total,\n20005: Official Donors, Total,\n20006: Non-DAC Countries, Total,\n20012: World Bank Group, Total,\n20013: International Monetary Fund, Total,\n20014: Inter-American Development Bank, Total,\n20015: Asian Development Bank, Total,\n20016: African Development Bank, Total,\n20021: United Nations, Total,\n20022: Regional Development Banks, Total,\n20033: World Bank, Total,\n20034: Other Multilateral, Total,\n20035: United Postcode Lotteries, Total,\n21600: Private Donors, Total\n}"
     },
     "execution_count": 6,
     "metadata": {},
     "output_type": "execute_result"
    }
   ],
   "source": [
    "ODAData().available_donors()"
   ],
   "metadata": {
    "collapsed": false,
    "pycharm": {
     "name": "#%%\n"
    }
   }
  },
  {
   "cell_type": "code",
   "execution_count": 7,
   "outputs": [
    {
     "name": "stderr",
     "output_type": "stream",
     "text": [
      "INFO 2023-01-06 17:06:03,818 [oda_data.py:available_recipients:306] Note that not all recipients may be available for all indicators\n"
     ]
    },
    {
     "data": {
      "text/plain": "{\n30: Cyprus,\n35: Gibraltar,\n45: Malta,\n55: Turkey,\n57: Kosovo,\n61: Slovenia,\n62: Croatia,\n63: Serbia,\n64: Bosnia and Herzegovina,\n65: Montenegro,\n66: North Macedonia,\n71: Albania,\n85: Ukraine,\n86: Belarus,\n88: States Ex-Yugoslavia unspecified,\n89: Europe, regional,\n93: Moldova,\n130: Algeria,\n133: Libya,\n136: Morocco,\n139: Tunisia,\n142: Egypt,\n189: North of Sahara, regional,\n218: South Africa,\n225: Angola,\n227: Botswana,\n228: Burundi,\n229: Cameroon,\n230: Cabo Verde,\n231: Central African Republic,\n232: Chad,\n233: Comoros,\n234: Congo,\n235: Democratic Republic of the Congo,\n236: Benin,\n237: East African Community,\n238: Ethiopia,\n239: Gabon,\n240: Gambia,\n241: Ghana,\n243: Guinea,\n244: Guinea-Bissau,\n245: Equatorial Guinea,\n247: Cote d'Ivoire,\n248: Kenya,\n249: Lesotho,\n251: Liberia,\n252: Madagascar,\n253: Malawi,\n255: Mali,\n256: Mauritania,\n257: Mauritius,\n258: Mayotte,\n259: Mozambique,\n260: Niger,\n261: Nigeria,\n265: Zimbabwe,\n266: Rwanda,\n268: Sao Tome and Principe,\n269: Senegal,\n270: Seychelles,\n271: Eritrea,\n272: Sierra Leone,\n273: Somalia,\n274: Djibouti,\n275: Namibia,\n276: Saint Helena,\n278: Sudan,\n279: South Sudan,\n280: Eswatini,\n282: Tanzania,\n283: Togo,\n285: Uganda,\n287: Burkina Faso,\n288: Zambia,\n289: South of Sahara, regional,\n298: Africa, regional,\n328: Bahamas,\n329: Barbados,\n331: Bermuda,\n336: Costa Rica,\n338: Cuba,\n340: Dominican Republic,\n342: El Salvador,\n347: Guatemala,\n349: Haiti,\n351: Honduras,\n352: Belize,\n354: Jamaica,\n358: Mexico,\n361: Netherlands Antilles,\n364: Nicaragua,\n366: Panama,\n373: Aruba,\n375: Trinidad and Tobago,\n376: Anguilla,\n377: Antigua and Barbuda,\n378: Dominica,\n381: Grenada,\n382: Saint Kitts and Nevis,\n383: Saint Lucia,\n384: Saint Vincent and the Grenadines,\n385: Montserrat,\n386: Cayman Islands,\n387: Turks and Caicos Islands,\n388: British Virgin Islands,\n389: Caribbean & Central America, regional,\n425: Argentina,\n428: Bolivia,\n431: Brazil,\n434: Chile,\n437: Colombia,\n440: Ecuador,\n446: Guyana,\n451: Paraguay,\n454: Peru,\n457: Suriname,\n460: Uruguay,\n463: Venezuela,\n489: South America, regional,\n498: America, regional,\n530: Bahrain,\n540: Iran,\n543: Iraq,\n546: Israel,\n549: Jordan,\n550: West Bank and Gaza Strip,\n552: Kuwait,\n555: Lebanon,\n558: Oman,\n561: Qatar,\n566: Saudi Arabia,\n573: Syrian Arab Republic,\n576: United Arab Emirates,\n580: Yemen,\n589: Middle East, regional,\n610: Armenia,\n611: Azerbaijan,\n612: Georgia,\n613: Kazakhstan,\n614: Kyrgyzstan,\n615: Tajikistan,\n616: Turkmenistan,\n617: Uzbekistan,\n619: Central Asia, regional,\n625: Afghanistan,\n630: Bhutan,\n635: Myanmar,\n640: Sri Lanka,\n645: India,\n650: Indus Basin,\n655: Maldives,\n660: Nepal,\n665: Pakistan,\n666: Bangladesh,\n679: South Asia, regional,\n689: South & Central Asia, regional,\n725: Brunei Darussalam,\n728: Cambodia,\n730: China (People's Republic of),\n732: Chinese Taipei,\n735: Hong Kong (China),\n738: Indonesia,\n740: Democratic People's Republic of Korea,\n742: Korea,\n745: Lao People's Democratic Republic,\n748: Macau (China),\n751: Malaysia,\n753: Mongolia,\n755: Philippines,\n761: Singapore,\n764: Thailand,\n765: Timor-Leste,\n769: Viet Nam,\n789: Far East Asia, regional,\n798: Asia, regional,\n816: Other Regional Banks,\n831: Cook Islands,\n832: Fiji,\n836: Kiribati,\n840: French Polynesia,\n845: Nauru,\n850: New Caledonia,\n854: Vanuatu,\n856: Niue,\n858: Northern Mariana Islands,\n859: Marshall Islands,\n860: Micronesia,\n861: Palau,\n862: Papua New Guinea,\n866: Solomon Islands,\n868: Tokelau,\n870: Tonga,\n872: Tuvalu,\n876: Wallis and Futuna,\n880: Samoa,\n889: Oceania, regional,\n900: Other World Bank (AMCs),\n901: IBRD,\n902: MIGA,\n903: IFC,\n904: IDA-MDRI,\n905: IDA,\n906: Caribbean Dev. Bank,\n907: IMF,\n909: IDB,\n910: CABEI,\n912: IDB Special Oper. Fund,\n913: Af. D B,\n914: African Dev. Fund,\n915: Asian Dev. Bank,\n916: AsDB Special Funds,\n917: EC,\n918: EDF,\n919: EIB,\n927: Other EU institutions,\n959: UNDP,\n963: UNICEF,\n964: UNRWA,\n966: WFP,\n967: UNHCR,\n974: UNFPA,\n975: Other UN,\n988: IFAD,\n989: Other Multilateral,\n1031: Caribbean, regional,\n9998: Developing countries, unspecified,\n10001: Africa, Total,\n10002: North of Sahara, Total,\n10003: South of Sahara, Total,\n10004: America, Total,\n10005: Caribbean & Central America, Total,\n10006: South America, Total,\n10007: Asia, Total,\n10008: Far East Asia, Total,\n10009: South & Central Asia, Total,\n10010: Europe, Total,\n10011: Middle East, Total,\n10012: Oceania, Total,\n10013: CEEC, Total,\n10014: NIS, Total,\n10016: LDCs, Total,\n10017: Other LICs, Total,\n10018: LMICs, Total,\n10019: UMICs, Total,\n10024: Part I Unallocated by income,\n10025: MADCTs, Total,\n10026: Part II Countries, Total,\n10030: HIPCs, Total,\n10040: ACP Countries, Total,\n10041: Club du Sahel, Total,\n10045: WorldBank Low income countries,\n10046: WorldBank Lower-middle income countries,\n10047: WorldBank Upper-middle income countries,\n10048: WorldBank High income countries,\n10049: Countries not classified by the World Bank,\n10050: Eastern Africa, Total,\n10051: Middle Africa, Total,\n10052: Southern Africa, Total,\n10053: Western Africa, Total,\n10054: Caribbean, Total,\n10055: Central America, Total,\n10056: Northern America, Total,\n10057: Melanesia, Total,\n10058: Micronesia, Total,\n10059: Polynesia, Total,\n10100: Developing Countries, Total,\n10150: All Multilateral Recipients, Total,\n10200: All Recipients, Total,\n10201: Land-Locked countries, Total,\n10202: Small island states, Total,\n10203: Fragile states, Total,\n1027: Eastern Africa, regional,\n1030: Western Africa, regional,\n1028: Middle Africa, regional,\n1029: Southern Africa, regional,\n1032: Central America, regional,\n1033: Melanesia, regional,\n1034: Micronesia, regional\n}"
     },
     "execution_count": 7,
     "metadata": {},
     "output_type": "execute_result"
    }
   ],
   "source": [
    "ODAData().available_recipients()"
   ],
   "metadata": {
    "collapsed": false,
    "pycharm": {
     "name": "#%%\n"
    }
   }
  },
  {
   "cell_type": "code",
   "execution_count": 8,
   "outputs": [
    {
     "data": {
      "text/plain": "[\nUSD,\nEUR,\nGBP,\nCAD\n]"
     },
     "execution_count": 8,
     "metadata": {},
     "output_type": "execute_result"
    }
   ],
   "source": [
    "ODAData().available_currencies()"
   ],
   "metadata": {
    "collapsed": false,
    "pycharm": {
     "name": "#%%\n"
    }
   }
  },
  {
   "cell_type": "code",
   "execution_count": 9,
   "outputs": [
    {
     "data": {
      "text/plain": "[\ntotal_oda_flow_net,\ntotal_oda_ge,\ntotal_oda_bilateral_flow_net,\ntotal_oda_bilateral_ge,\ntotal_oda_multilateral_flow_net,\ntotal_oda_multilateral_ge,\ntotal_oda_flow_gross,\ntotal_oda_flow_commitments,\ntotal_oda_grants_flow,\ntotal_oda_grants_ge,\ntotal_oda_non_grants_flow,\ntotal_oda_non_grants_ge,\ngni,\noda_gni_flow,\nod_gni_ge,\ntotal_in_donor_students_flow,\ntotal_in_donor_students_ge,\ntotal_in_donor_students_ge_linked,\nscholarships_flow,\nscholarships_ge,\nscholarships_ge_linked,\nimputed_students_flow,\nimputed_students_ge,\nimputed_students_linked,\ndebt_relief_flow,\ndebt_relief_ge,\nidrc_flow,\nidrc_ge,\nidrc_ge_linked,\neu_core_flow,\neu_core_ge,\neu_core_ge_linked,\ntotal_psi_flow,\ntotal_psi_ge,\ntotal_psi_flow_linked,\ninstitutional_psi_flow,\ninstitutional_psi_ge,\ninstitutional_psi_flow_linked,\ninstrument_psi_flow,\ninstrument_psi_ge,\ninstrument_psi_flow_linked,\nrecipient_imputed_multi_flow_net,\nrecipient_bilateral_flow_net,\nrecipient_bilateral_flow_gross,\nrecipient_loans_flow_gross,\nrecipient_loans_flow_net,\nrecipient_interest_received_flow,\nrecipient_humanitarian_flow,\nrecipient_grants_flow,\nrecipient_total_flow_net,\ncrs_bilateral_flow_disbursement_gross,\ncrs_gender_significant_flow_disbursement_gross,\ncrs_gender_principal_flow_disbursement_gross,\ncrs_gender_not_targeted_flow_disbursement_gross,\ncrs_gender_not_screened_flow_disbursement_gross,\ncrs_gender_allocable_flow_disbursement_gross,\ncrs_gender_allocable_total_flow_disbursement_gross,\ncrs_gender_total_flow_gross,\ncrs_bilateral_total_flow_gross_by_purpose,\nmultisystem_multilateral_contributions_disbursement_gross,\nmultisystem_multilateral_contributions_commitments_gross,\nimputed_multi_flow_disbursement_gross,\ntotal_bi_multi_flow_disbursement_gross\n]"
     },
     "execution_count": 9,
     "metadata": {},
     "output_type": "execute_result"
    }
   ],
   "source": [
    "ODAData().available_indicators()"
   ],
   "metadata": {
    "collapsed": false,
    "pycharm": {
     "name": "#%%\n"
    }
   }
  },
  {
   "cell_type": "markdown",
   "source": [
    "    ## 4. Create an instance of ODAData\n",
    "\n",
    "In order to get the data we want, we will create an instance of the `ODAData` class using the arguments we specified above.\n",
    "\n",
    "We will store this instance in a variable called `oda`, which we will use later to load the indicators and get the DataFrame we're after."
   ],
   "metadata": {
    "collapsed": false,
    "pycharm": {
     "name": "#%% md\n"
    }
   }
  },
  {
   "cell_type": "code",
   "execution_count": 10,
   "outputs": [
    {
     "ename": "FileNotFoundError",
     "evalue": "[Errno 2] No such file or directory: 'C:\\\\Users\\\\MatthewPrice\\\\Coding\\\\oda_data_package\\\\tutorials\\\\crs_2018_raw.feather'",
     "output_type": "error",
     "traceback": [
      "\u001B[1;31m---------------------------------------------------------------------------\u001B[0m",
      "\u001B[1;31mFileNotFoundError\u001B[0m                         Traceback (most recent call last)",
      "Cell \u001B[1;32mIn [10], line 8\u001B[0m\n\u001B[0;32m      1\u001B[0m oda \u001B[38;5;241m=\u001B[39m ODAData(years\u001B[38;5;241m=\u001B[39myears,\n\u001B[0;32m      2\u001B[0m               recipients\u001B[38;5;241m=\u001B[39mrecipients,\n\u001B[0;32m      3\u001B[0m               donors\u001B[38;5;241m=\u001B[39mdonors,\n\u001B[1;32m   (...)\u001B[0m\n\u001B[0;32m      6\u001B[0m               base_year\u001B[38;5;241m=\u001B[39mbase_year,\n\u001B[0;32m      7\u001B[0m               include_names\u001B[38;5;241m=\u001B[39m\u001B[38;5;28;01mTrue\u001B[39;00m)\n\u001B[1;32m----> 8\u001B[0m \u001B[43moda\u001B[49m\u001B[38;5;241;43m.\u001B[39;49m\u001B[43mload_indicator\u001B[49m\u001B[43m(\u001B[49m\u001B[38;5;124;43m'\u001B[39;49m\u001B[38;5;124;43mtotal_bi_multi_flow_disbursement_gross\u001B[39;49m\u001B[38;5;124;43m'\u001B[39;49m\u001B[43m)\u001B[49m\n",
      "File \u001B[1;32m~\\Coding\\oda_data_package\\oda_data\\classes\\oda_data.py:356\u001B[0m, in \u001B[0;36mODAData.load_indicator\u001B[1;34m(self, indicator)\u001B[0m\n\u001B[0;32m    345\u001B[0m \u001B[38;5;124;03m\"\"\"Loads data for the specified indicator. Any parameters specified for\u001B[39;00m\n\u001B[0;32m    346\u001B[0m \u001B[38;5;124;03mthe object (years, donors, prices, etc.) are applied to the data.\u001B[39;00m\n\u001B[0;32m    347\u001B[0m \n\u001B[1;32m   (...)\u001B[0m\n\u001B[0;32m    352\u001B[0m \n\u001B[0;32m    353\u001B[0m \u001B[38;5;124;03m\"\"\"\u001B[39;00m\n\u001B[0;32m    355\u001B[0m \u001B[38;5;66;03m# Load necessary data to the object\u001B[39;00m\n\u001B[1;32m--> 356\u001B[0m \u001B[38;5;28;43mself\u001B[39;49m\u001B[38;5;241;43m.\u001B[39;49m\u001B[43m_load_raw_data\u001B[49m\u001B[43m(\u001B[49m\u001B[43mindicator\u001B[49m\u001B[43m)\u001B[49m\n\u001B[0;32m    358\u001B[0m \u001B[38;5;66;03m# Indicator type\u001B[39;00m\n\u001B[0;32m    359\u001B[0m ind_type \u001B[38;5;241m=\u001B[39m \u001B[38;5;28mself\u001B[39m\u001B[38;5;241m.\u001B[39m_indicators_json[indicator][\u001B[38;5;124m\"\u001B[39m\u001B[38;5;124mtype\u001B[39m\u001B[38;5;124m\"\u001B[39m]\n",
      "File \u001B[1;32m~\\Coding\\oda_data_package\\oda_data\\classes\\oda_data.py:137\u001B[0m, in \u001B[0;36mODAData._load_raw_data\u001B[1;34m(self, indicator)\u001B[0m\n\u001B[0;32m    135\u001B[0m \u001B[38;5;66;03m# Load the data if it is not already loaded\u001B[39;00m\n\u001B[0;32m    136\u001B[0m \u001B[38;5;28;01mif\u001B[39;00m source \u001B[38;5;129;01mnot\u001B[39;00m \u001B[38;5;129;01min\u001B[39;00m \u001B[38;5;28mself\u001B[39m\u001B[38;5;241m.\u001B[39m_data\u001B[38;5;241m.\u001B[39mkeys():\n\u001B[1;32m--> 137\u001B[0m     \u001B[38;5;28mself\u001B[39m\u001B[38;5;241m.\u001B[39m_data[source] \u001B[38;5;241m=\u001B[39m \u001B[43mREADERS\u001B[49m\u001B[43m[\u001B[49m\u001B[43msource\u001B[49m\u001B[43m]\u001B[49m\u001B[43m(\u001B[49m\u001B[43myears\u001B[49m\u001B[38;5;241;43m=\u001B[39;49m\u001B[38;5;28;43mself\u001B[39;49m\u001B[38;5;241;43m.\u001B[39;49m\u001B[43myears\u001B[49m\u001B[43m)\u001B[49m\n",
      "File \u001B[1;32m~\\Coding\\oda_data_package\\oda_data\\read_data\\read.py:28\u001B[0m, in \u001B[0;36mread_crs\u001B[1;34m(years)\u001B[0m\n\u001B[0;32m     25\u001B[0m \u001B[38;5;66;03m# Loop over years\u001B[39;00m\n\u001B[0;32m     26\u001B[0m \u001B[38;5;28;01mfor\u001B[39;00m year \u001B[38;5;129;01min\u001B[39;00m years:\n\u001B[0;32m     27\u001B[0m     df \u001B[38;5;241m=\u001B[39m pd\u001B[38;5;241m.\u001B[39mconcat(\n\u001B[1;32m---> 28\u001B[0m         [df, \u001B[43mpd\u001B[49m\u001B[38;5;241;43m.\u001B[39;49m\u001B[43mread_feather\u001B[49m\u001B[43m(\u001B[49m\u001B[43mconfig\u001B[49m\u001B[38;5;241;43m.\u001B[39;49m\u001B[43mOdaPATHS\u001B[49m\u001B[38;5;241;43m.\u001B[39;49m\u001B[43mraw_data\u001B[49m\u001B[43m \u001B[49m\u001B[38;5;241;43m/\u001B[39;49m\u001B[43m \u001B[49m\u001B[38;5;124;43mf\u001B[39;49m\u001B[38;5;124;43m\"\u001B[39;49m\u001B[38;5;124;43mcrs_\u001B[39;49m\u001B[38;5;132;43;01m{\u001B[39;49;00m\u001B[43myear\u001B[49m\u001B[38;5;132;43;01m}\u001B[39;49;00m\u001B[38;5;124;43m_raw.feather\u001B[39;49m\u001B[38;5;124;43m\"\u001B[39;49m\u001B[43m)\u001B[49m]\n\u001B[0;32m     29\u001B[0m     )\n\u001B[0;32m     30\u001B[0m \u001B[38;5;28;01mreturn\u001B[39;00m df\n",
      "File \u001B[1;32m~\\anaconda3\\envs\\oda_data_package_tutorials\\lib\\site-packages\\pandas\\io\\feather_format.py:128\u001B[0m, in \u001B[0;36mread_feather\u001B[1;34m(path, columns, use_threads, storage_options)\u001B[0m\n\u001B[0;32m    125\u001B[0m import_optional_dependency(\u001B[38;5;124m\"\u001B[39m\u001B[38;5;124mpyarrow\u001B[39m\u001B[38;5;124m\"\u001B[39m)\n\u001B[0;32m    126\u001B[0m \u001B[38;5;28;01mfrom\u001B[39;00m \u001B[38;5;21;01mpyarrow\u001B[39;00m \u001B[38;5;28;01mimport\u001B[39;00m feather\n\u001B[1;32m--> 128\u001B[0m \u001B[38;5;28;01mwith\u001B[39;00m \u001B[43mget_handle\u001B[49m\u001B[43m(\u001B[49m\n\u001B[0;32m    129\u001B[0m \u001B[43m    \u001B[49m\u001B[43mpath\u001B[49m\u001B[43m,\u001B[49m\u001B[43m \u001B[49m\u001B[38;5;124;43m\"\u001B[39;49m\u001B[38;5;124;43mrb\u001B[39;49m\u001B[38;5;124;43m\"\u001B[39;49m\u001B[43m,\u001B[49m\u001B[43m \u001B[49m\u001B[43mstorage_options\u001B[49m\u001B[38;5;241;43m=\u001B[39;49m\u001B[43mstorage_options\u001B[49m\u001B[43m,\u001B[49m\u001B[43m \u001B[49m\u001B[43mis_text\u001B[49m\u001B[38;5;241;43m=\u001B[39;49m\u001B[38;5;28;43;01mFalse\u001B[39;49;00m\n\u001B[0;32m    130\u001B[0m \u001B[43m\u001B[49m\u001B[43m)\u001B[49m \u001B[38;5;28;01mas\u001B[39;00m handles:\n\u001B[0;32m    132\u001B[0m     \u001B[38;5;28;01mreturn\u001B[39;00m feather\u001B[38;5;241m.\u001B[39mread_feather(\n\u001B[0;32m    133\u001B[0m         handles\u001B[38;5;241m.\u001B[39mhandle, columns\u001B[38;5;241m=\u001B[39mcolumns, use_threads\u001B[38;5;241m=\u001B[39m\u001B[38;5;28mbool\u001B[39m(use_threads)\n\u001B[0;32m    134\u001B[0m     )\n",
      "File \u001B[1;32m~\\anaconda3\\envs\\oda_data_package_tutorials\\lib\\site-packages\\pandas\\io\\common.py:865\u001B[0m, in \u001B[0;36mget_handle\u001B[1;34m(path_or_buf, mode, encoding, compression, memory_map, is_text, errors, storage_options)\u001B[0m\n\u001B[0;32m    856\u001B[0m         handle \u001B[38;5;241m=\u001B[39m \u001B[38;5;28mopen\u001B[39m(\n\u001B[0;32m    857\u001B[0m             handle,\n\u001B[0;32m    858\u001B[0m             ioargs\u001B[38;5;241m.\u001B[39mmode,\n\u001B[1;32m   (...)\u001B[0m\n\u001B[0;32m    861\u001B[0m             newline\u001B[38;5;241m=\u001B[39m\u001B[38;5;124m\"\u001B[39m\u001B[38;5;124m\"\u001B[39m,\n\u001B[0;32m    862\u001B[0m         )\n\u001B[0;32m    863\u001B[0m     \u001B[38;5;28;01melse\u001B[39;00m:\n\u001B[0;32m    864\u001B[0m         \u001B[38;5;66;03m# Binary mode\u001B[39;00m\n\u001B[1;32m--> 865\u001B[0m         handle \u001B[38;5;241m=\u001B[39m \u001B[38;5;28;43mopen\u001B[39;49m\u001B[43m(\u001B[49m\u001B[43mhandle\u001B[49m\u001B[43m,\u001B[49m\u001B[43m \u001B[49m\u001B[43mioargs\u001B[49m\u001B[38;5;241;43m.\u001B[39;49m\u001B[43mmode\u001B[49m\u001B[43m)\u001B[49m\n\u001B[0;32m    866\u001B[0m     handles\u001B[38;5;241m.\u001B[39mappend(handle)\n\u001B[0;32m    868\u001B[0m \u001B[38;5;66;03m# Convert BytesIO or file objects passed with an encoding\u001B[39;00m\n",
      "\u001B[1;31mFileNotFoundError\u001B[0m: [Errno 2] No such file or directory: 'C:\\\\Users\\\\MatthewPrice\\\\Coding\\\\oda_data_package\\\\tutorials\\\\crs_2018_raw.feather'"
     ]
    }
   ],
   "source": [
    "oda = ODAData(years=years,\n",
    "              recipients=recipients,\n",
    "              donors=donors,\n",
    "              currency=currency,\n",
    "              prices=prices,\n",
    "              base_year=base_year,\n",
    "              include_names=True)\n",
    "oda.load_indicator('total_bi_multi_flow_disbursement_gross')"
   ],
   "metadata": {
    "collapsed": false,
    "pycharm": {
     "name": "#%%\n"
    }
   }
  },
  {
   "cell_type": "code",
   "execution_count": null,
   "outputs": [],
   "source": [
    "df = oda.get_data()"
   ],
   "metadata": {
    "collapsed": false,
    "pycharm": {
     "name": "#%%\n"
    }
   }
  },
  {
   "cell_type": "code",
   "execution_count": 11,
   "outputs": [
    {
     "data": {
      "text/plain": "'0.1.8'"
     },
     "execution_count": 11,
     "metadata": {},
     "output_type": "execute_result"
    }
   ],
   "source": [
    "import oda_data\n",
    "oda_data.__version__"
   ],
   "metadata": {
    "collapsed": false,
    "pycharm": {
     "name": "#%%\n"
    }
   }
  },
  {
   "cell_type": "code",
   "execution_count": null,
   "outputs": [],
   "source": [],
   "metadata": {
    "collapsed": false,
    "pycharm": {
     "name": "#%%\n"
    }
   }
  }
 ],
 "metadata": {
  "kernelspec": {
   "display_name": "Python 3",
   "language": "python",
   "name": "python3"
  },
  "language_info": {
   "codemirror_mode": {
    "name": "ipython",
    "version": 2
   },
   "file_extension": ".py",
   "mimetype": "text/x-python",
   "name": "python",
   "nbconvert_exporter": "python",
   "pygments_lexer": "ipython2",
   "version": "2.7.6"
  }
 },
 "nbformat": 4,
 "nbformat_minor": 0
}