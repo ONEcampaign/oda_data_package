{
 "cells": [
  {
   "cell_type": "markdown",
   "source": [
    "# ODA data by Recipient\n",
    "This tutorial shows you how to build a Pandas DataFrame containing ODA data to any number sectors and recipients, from any number of donors, over a range of years.\n",
    "\n",
    "The tutorial has the following steps:\n",
    "1. Optionally, download the raw data if you haven't yet done so\n",
    "2. Import `ODAData`, the main tool used to interact with the data\n",
    "3. Create an instance of `ODAData` with the specific arguments you would like to use\n",
    "4. Load the indicators\n",
    "5. Get the DataFrame\n",
    "6. Optionally, export the DataFrame"
   ],
   "metadata": {
    "collapsed": false,
    "pycharm": {
     "name": "#%% md\n"
    }
   }
  },
  {
   "cell_type": "markdown",
   "source": [
    "## 1. Download the raw data\n",
    "\n",
    "The raw data must be downloaded every time you do a fresh installation of the `oda_data` package. The raw data is not distributed with the package given its size, and to make sure users are accessing the latest data when they start working with the package.\n",
    "\n",
    "Before getting started with analysis for the first time, you must download the raw data. This process can take a while depending on your internet connection, and on the files that you decide to download.\n",
    "\n",
    "It is highly recommended that you specify the folder where you want to store and read the raw data. This must be done once in each notebook or script where we use the `oda_data` package.\n",
    "\n",
    "First we will import the necessary functions. In this example, we will only download the CRS data using `download_crs(years)`, but other options include `download_dac1()`, `download_dac2a()`, and `download_multisystem()`.\n",
    "\n",
    "To reduce file size, we set the small_version parameter to True which removes XXX. You must also set years, as below."
   ],
   "metadata": {
    "collapsed": false,
    "pycharm": {
     "name": "#%% md\n"
    }
   }
  },
  {
   "cell_type": "code",
   "execution_count": 1,
   "outputs": [
    {
     "name": "stderr",
     "output_type": "stream",
     "text": [
      "INFO 2022-12-13 17:19:55,422 [crs.py:_download:31] Downloading CRS data for 2019... This may take a while.\n",
      "WARNING 2022-12-13 17:21:46,142 [common.py:_validate_columns:59] Column usd_irtc not in DataFrame\n",
      "WARNING 2022-12-13 17:21:46,158 [common.py:_validate_columns:59] Column expected_completion_date not in DataFrame\n",
      "WARNING 2022-12-13 17:21:46,158 [common.py:_validate_columns:59] Column pdgg not in DataFrame\n",
      "WARNING 2022-12-13 17:21:46,158 [common.py:_validate_columns:59] Column rmnch not in DataFrame\n",
      "WARNING 2022-12-13 17:21:46,158 [common.py:_validate_columns:59] Column drr not in DataFrame\n",
      "WARNING 2022-12-13 17:21:46,158 [common.py:_validate_columns:59] Column ftc not in DataFrame\n",
      "WARNING 2022-12-13 17:21:46,158 [common.py:_validate_columns:59] Column pba not in DataFrame\n",
      "INFO 2022-12-13 17:21:48,566 [crs.py:_save:27] CRS 2019 data downloaded and saved.\n",
      "INFO 2022-12-13 17:21:48,582 [crs.py:_download:31] Downloading CRS data for 2020... This may take a while.\n",
      "WARNING 2022-12-13 17:23:54,662 [common.py:_validate_columns:59] Column usd_irtc not in DataFrame\n",
      "WARNING 2022-12-13 17:23:54,662 [common.py:_validate_columns:59] Column expected_completion_date not in DataFrame\n",
      "WARNING 2022-12-13 17:23:54,670 [common.py:_validate_columns:59] Column pdgg not in DataFrame\n",
      "WARNING 2022-12-13 17:23:54,670 [common.py:_validate_columns:59] Column rmnch not in DataFrame\n",
      "WARNING 2022-12-13 17:23:54,670 [common.py:_validate_columns:59] Column drr not in DataFrame\n",
      "WARNING 2022-12-13 17:23:54,670 [common.py:_validate_columns:59] Column ftc not in DataFrame\n",
      "WARNING 2022-12-13 17:23:54,672 [common.py:_validate_columns:59] Column pba not in DataFrame\n",
      "INFO 2022-12-13 17:23:56,885 [crs.py:_save:27] CRS 2020 data downloaded and saved.\n"
     ]
    }
   ],
   "source": [
    "from oda_data import set_data_path, download_crs\n",
    "\n",
    "# set the path to the folder where we want to store the data\n",
    "set_data_path(path=\"../tutorials\")\n",
    "\n",
    "# download the raw data, which will be stored in the folder above.\n",
    "# it will be read from there, too\n",
    "\n",
    "download_crs(years=range(2019,2021), small_version=True)"
   ],
   "metadata": {
    "collapsed": false,
    "pycharm": {
     "name": "#%%\n"
    }
   }
  },
  {
   "cell_type": "markdown",
   "source": [
    "## 2. Import ODAData\n",
    "\n",
    "We can gather the data we need using the `ODAData` class. An object from this class can:\n",
    "    - Get data for specific indicators\n",
    "        - Optionally, filter the data for specific donors, recipients and years\n",
    "        - Optionally, exchange and deflate data\n",
    "\n",
    "You can specify the data path if the raw data has already been downloaded, or if you haven't yet specified the download path in your notebook and script."
   ],
   "metadata": {
    "collapsed": false,
    "pycharm": {
     "name": "#%% md\n"
    }
   }
  },
  {
   "cell_type": "code",
   "execution_count": 2,
   "outputs": [],
   "source": [
    "from oda_data import ODAData, set_data_path\n",
    "\n",
    "# If you haven't set the data path, you can do it now.\n",
    "# If you haven't downloaded the raw data before, please see step 1\n",
    "set_data_path(path=\"../tutorials\")"
   ],
   "metadata": {
    "collapsed": false,
    "pycharm": {
     "name": "#%%\n"
    }
   }
  },
  {
   "cell_type": "markdown",
   "source": [
    "## 3. Instantiating the ODAData object with the desired arguments\n",
    "\n",
    "Next, we need to set the right arguments, which are used to create the right DataFrame.\n",
    "- *years*: you must specify the `years`, as an `int`, `list` or `range`.\n",
    "- *donors*: you can _optionally_ specify the `donors` you want the output to have (as `int`, or `list`) of donor codes.\n",
    "- *recipients*: you can _optionally_ specify the `recipients` you want the output to have. Not all indicators need or accept recipients. If using an indicator for which recipients aren't an option, a warning will be logged to the console and the recipients ignored for that indicator.\n",
    "- *currency*: you can _optionally_ specify the `currency` in which you want your data to be shown. If not specified, by default, `USD` will be used. Other options include `EUR`, `GBP` and `CAN`.\n",
    "- *prices*: you can _optionally_ specify the `prices` in which you want your data to be shown. If not specified, by default, `current` will be used. The other option is `constant`. If specifying `constant` a `base_year` must be set.\n",
    "- *base_year*: you must specify a `base_year` if you have set `prices = 'constant'`. If you have chosen `current` prices,\n",
    "by default, `base_year` will be `None`.\n",
    "\n",
    "\n",
    "Below are some example settings for this tutorial. For clarity, we will first store them in variables, but you can always pass them directly as arguments to the `ODAData` class.\n",
    "You can see the available options using the .available_xxx() methods below."
   ],
   "metadata": {
    "collapsed": false,
    "pycharm": {
     "name": "#%% md\n"
    }
   }
  },
  {
   "cell_type": "code",
   "execution_count": 4,
   "outputs": [
    {
     "data": {
      "text/plain": "[\ntotal_oda_flow_net,\ntotal_oda_ge,\ntotal_oda_bilateral_flow_net,\ntotal_oda_bilateral_ge,\ntotal_oda_multilateral_flow_net,\ntotal_oda_multilateral_ge,\ntotal_oda_flow_gross,\ntotal_oda_flow_commitments,\ntotal_oda_grants_flow,\ntotal_oda_grants_ge,\ntotal_oda_non_grants_flow,\ntotal_oda_non_grants_ge,\ngni,\noda_gni_flow,\nod_gni_ge,\ntotal_in_donor_students_flow,\ntotal_in_donor_students_ge,\ntotal_in_donor_students_ge_linked,\nscholarships_flow,\nscholarships_ge,\nscholarships_ge_linked,\nimputed_students_flow,\nimputed_students_ge,\nimputed_students_linked,\ndebt_relief_flow,\ndebt_relief_ge,\nidrc_flow,\nidrc_ge,\nidrc_ge_linked,\neu_core_flow,\neu_core_ge,\neu_core_ge_linked,\ntotal_psi_flow,\ntotal_psi_ge,\ntotal_psi_flow_linked,\ninstitutional_psi_flow,\ninstitutional_psi_ge,\ninstitutional_psi_flow_linked,\ninstrument_psi_flow,\ninstrument_psi_ge,\ninstrument_psi_flow_linked,\nrecipient_imputed_multi_flow_net,\nrecipient_bilateral_flow_net,\nrecipient_bilateral_flow_gross,\nrecipient_loans_flow_gross,\nrecipient_loans_flow_net,\nrecipient_interest_received_flow,\nrecipient_humanitarian_flow,\nrecipient_grants_flow,\nrecipient_total_flow_net,\ncrs_bilateral_flow_disbursement_gross,\ncrs_gender_significant_flow_disbursement_gross,\ncrs_gender_principal_flow_disbursement_gross,\ncrs_gender_not_targeted_flow_disbursement_gross,\ncrs_gender_not_screened_flow_disbursement_gross,\ncrs_gender_allocable_flow_disbursement_gross,\ncrs_gender_allocable_total_flow_disbursement_gross,\ncrs_gender_total_flow_gross,\ncrs_bilateral_total_flow_gross_by_purpose,\nmultisystem_multilateral_contributions_disbursement_gross,\nmultisystem_multilateral_contributions_commitments_gross,\nimputed_multi_flow_disbursement_gross,\ntotal_bi_multi_flow_disbursement_gross\n]"
     },
     "execution_count": 4,
     "metadata": {},
     "output_type": "execute_result"
    }
   ],
   "source": [
    "ODAData().available_indicators()"
   ],
   "metadata": {
    "collapsed": false,
    "pycharm": {
     "name": "#%%\n"
    }
   }
  },
  {
   "cell_type": "code",
   "execution_count": null,
   "outputs": [],
   "source": [],
   "metadata": {
    "collapsed": false,
    "pycharm": {
     "name": "#%%\n"
    }
   }
  }
 ],
 "metadata": {
  "kernelspec": {
   "display_name": "Python 3",
   "language": "python",
   "name": "python3"
  },
  "language_info": {
   "codemirror_mode": {
    "name": "ipython",
    "version": 2
   },
   "file_extension": ".py",
   "mimetype": "text/x-python",
   "name": "python",
   "nbconvert_exporter": "python",
   "pygments_lexer": "ipython2",
   "version": "2.7.6"
  }
 },
 "nbformat": 4,
 "nbformat_minor": 0
}