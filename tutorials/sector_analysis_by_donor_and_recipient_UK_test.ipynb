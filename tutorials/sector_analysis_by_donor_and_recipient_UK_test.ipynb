{
 "cells": [
  {
   "cell_type": "markdown",
   "source": [
    "# ODA data by Recipient\n",
    "This tutorial shows you how to build a Pandas DataFrame containing ODA data to any number sectors and recipients, from any number of donors, over a range of years.\n",
    "\n",
    "The tutorial has the following steps:\n",
    "1. Optionally, download the raw data if you haven't yet done so\n",
    "2. Import `ODAData`, the main tool used to interact with the data\n",
    "3. Create an instance of `ODAData` with the specific arguments you would like to use\n",
    "4. Load the indicators\n",
    "5. Get the DataFrame\n",
    "6. Optionally, export the DataFrame"
   ],
   "metadata": {
    "collapsed": false,
    "pycharm": {
     "name": "#%% md\n"
    }
   }
  },
  {
   "cell_type": "markdown",
   "source": [
    "## 1. Download the raw data\n",
    "\n",
    "The raw data must be downloaded every time you do a fresh installation of the `oda_data` package. The raw data is not distributed with the package given its size, and to make sure users are accessing the latest data when they start working with the package.\n",
    "\n",
    "Before getting started with analysis for the first time, you must download the raw data. This process can take a while depending on your internet connection, and on the files that you decide to download.\n",
    "\n",
    "It is highly recommended that you specify the folder where you want to store and read the raw data. This must be done once in each notebook or script where we use the `oda_data` package.\n",
    "\n",
    "First we will import the necessary functions. In this example, we will only download the CRS data using `download_crs(years)`, but other options include `download_dac1()`, `download_dac2a()`, and `download_multisystem()`.\n",
    "\n",
    "To reduce file size, we set the small_version parameter to True which removes XXX. You must also set years, as below."
   ],
   "metadata": {
    "collapsed": false,
    "pycharm": {
     "name": "#%% md\n"
    }
   }
  },
  {
   "cell_type": "code",
   "execution_count": 1,
   "outputs": [],
   "source": [
    "from oda_data import set_data_path\n",
    "\n",
    "# set the path to the folder where we want to store the data\n",
    "set_data_path(path=\"../tutorials\")"
   ],
   "metadata": {
    "collapsed": false,
    "pycharm": {
     "name": "#%%\n"
    }
   }
  },
  {
   "cell_type": "markdown",
   "source": [
    "## 2. Import ODAData\n",
    "\n",
    "We can gather the data we need using the `ODAData` class. An object from this class can:\n",
    "    - Get data for specific indicators\n",
    "        - Optionally, filter the data for specific donors, recipients and years\n",
    "        - Optionally, exchange and deflate data\n",
    "\n",
    "You can specify the data path if the raw data has already been downloaded, or if you haven't yet specified the download path in your notebook and script."
   ],
   "metadata": {
    "collapsed": false,
    "pycharm": {
     "name": "#%% md\n"
    }
   }
  },
  {
   "cell_type": "code",
   "execution_count": 2,
   "outputs": [],
   "source": [
    "from oda_data import ODAData\n",
    "\n",
    "from oda_data.tools.groupings import recipient_groupings"
   ],
   "metadata": {
    "collapsed": false,
    "pycharm": {
     "name": "#%%\n"
    }
   }
  },
  {
   "cell_type": "markdown",
   "source": [
    "## 3. Instantiating the ODAData object with the desired arguments\n",
    "\n",
    "Next, we need to set the right arguments, which are used to create the right DataFrame.\n",
    "- *years*: you must specify the `years`, as an `int`, `list` or `range`.\n",
    "- *donors*: you can _optionally_ specify the `donors` you want the output to have (as `int`, or `list`) of donor codes.\n",
    "- *recipients*: you can _optionally_ specify the `recipients` you want the output to have. Not all indicators need or accept recipients. If using an indicator for which recipients aren't an option, a warning will be logged to the console and the recipients ignored for that indicator.\n",
    "- *currency*: you can _optionally_ specify the `currency` in which you want your data to be shown. If not specified, by default, `USD` will be used. Other options include `EUR`, `GBP` and `CAN`.\n",
    "- *prices*: you can _optionally_ specify the `prices` in which you want your data to be shown. If not specified, by default, `current` will be used. The other option is `constant`. If specifying `constant` a `base_year` must be set.\n",
    "- *base_year*: you must specify a `base_year` if you have set `prices = 'constant'`. If you have chosen `current` prices,\n",
    "by default, `base_year` will be `None`.\n",
    "\n",
    "\n",
    "Below are some example settings for this tutorial. For clarity, we will first store them in variables, but you can always pass them directly as arguments to the `ODAData` class.\n",
    "You can see the available options using the .available_xxx() methods below."
   ],
   "metadata": {
    "collapsed": false,
    "pycharm": {
     "name": "#%% md\n"
    }
   }
  },
  {
   "cell_type": "code",
   "execution_count": null,
   "outputs": [],
   "source": [
    "recipient_groupings().keys()"
   ],
   "metadata": {
    "collapsed": false,
    "pycharm": {
     "name": "#%%\n"
    }
   }
  },
  {
   "cell_type": "code",
   "execution_count": null,
   "outputs": [],
   "source": [
    "recipient_groupings()"
   ],
   "metadata": {
    "collapsed": false,
    "pycharm": {
     "name": "#%%\n"
    }
   }
  },
  {
   "cell_type": "code",
   "execution_count": null,
   "outputs": [],
   "source": [],
   "metadata": {
    "collapsed": false,
    "pycharm": {
     "name": "#%%\n"
    }
   }
  },
  {
   "cell_type": "code",
   "execution_count": 3,
   "outputs": [],
   "source": [
    "# Select years as (for example) a range. Remember ranges are exclusive of the upper bound.\n",
    "years = range(2012,2022)\n",
    "\n",
    "# Select donors, which must be specified by their codes. To get all donors, do not use this argument.\n",
    "donors = 12\n",
    "\n",
    "# Select recipients. In this example, we have used Developing Countries, total.\n",
    "recipients = None\n",
    "\n",
    "# Select the currency. By default 'USD' is shown but we'll get the data in Euros.\n",
    "currency = 'GBP'\n",
    "\n",
    "# Select the prices. By default, 'current' is shown, but we'll get the data in constant prices.\n",
    "prices = 'constant'\n",
    "\n",
    "# Set the base year. We must set this given that we've asked for constant data.\n",
    "base_year = 2021"
   ],
   "metadata": {
    "collapsed": false,
    "pycharm": {
     "name": "#%%\n"
    }
   }
  },
  {
   "cell_type": "code",
   "execution_count": null,
   "outputs": [],
   "source": [
    "ODAData().available_donors()"
   ],
   "metadata": {
    "collapsed": false,
    "pycharm": {
     "name": "#%%\n"
    }
   }
  },
  {
   "cell_type": "code",
   "execution_count": null,
   "outputs": [],
   "source": [
    "ODAData().available_recipients()"
   ],
   "metadata": {
    "collapsed": false,
    "pycharm": {
     "name": "#%%\n"
    }
   }
  },
  {
   "cell_type": "code",
   "execution_count": null,
   "outputs": [],
   "source": [
    "ODAData().available_currencies()"
   ],
   "metadata": {
    "collapsed": false,
    "pycharm": {
     "name": "#%%\n"
    }
   }
  },
  {
   "cell_type": "code",
   "execution_count": null,
   "outputs": [],
   "source": [
    "ODAData().available_indicators()"
   ],
   "metadata": {
    "collapsed": false,
    "pycharm": {
     "name": "#%%\n"
    }
   }
  },
  {
   "cell_type": "markdown",
   "source": [
    "    ## 4. Create an instance of ODAData\n",
    "\n",
    "In order to get the data we want, we will create an instance of the `ODAData` class using the arguments we specified above.\n",
    "\n",
    "We will store this instance in a variable called `oda`, which we will use later to load the indicators and get the DataFrame we're after."
   ],
   "metadata": {
    "collapsed": false,
    "pycharm": {
     "name": "#%% md\n"
    }
   }
  },
  {
   "cell_type": "code",
   "execution_count": 4,
   "outputs": [
    {
     "data": {
      "text/plain": "ODAData(years=range(2012, 2022), donors=[12], recipients=None, currency='GBP', prices='constant', base_year=2021, include_names=True)"
     },
     "execution_count": 4,
     "metadata": {},
     "output_type": "execute_result"
    }
   ],
   "source": [
    "oda = ODAData(years=years,\n",
    "              recipients=recipients,\n",
    "              donors=donors,\n",
    "              currency=currency,\n",
    "              prices=prices,\n",
    "              base_year=base_year,\n",
    "              include_names=True)\n",
    "oda.load_indicator('crs_gender_total_flow_gross')"
   ],
   "metadata": {
    "collapsed": false,
    "pycharm": {
     "name": "#%%\n"
    }
   }
  },
  {
   "cell_type": "code",
   "execution_count": 5,
   "outputs": [],
   "source": [
    "df = oda.add_share_of_total(True).get_data()"
   ],
   "metadata": {
    "collapsed": false,
    "pycharm": {
     "name": "#%%\n"
    }
   }
  },
  {
   "cell_type": "code",
   "execution_count": null,
   "outputs": [],
   "source": [],
   "metadata": {
    "collapsed": false,
    "pycharm": {
     "name": "#%%\n"
    }
   }
  },
  {
   "cell_type": "code",
   "execution_count": 6,
   "outputs": [
    {
     "name": "stderr",
     "output_type": "stream",
     "text": [
      "C:\\Users\\MatthewPrice\\AppData\\Local\\Temp\\ipykernel_16172\\3649604311.py:1: FutureWarning: Indexing with multiple keys (implicitly converted to a tuple of keys) will be deprecated, use a list instead.\n",
      "  df.groupby(['year','currency','prices'])['value','share'].sum(numeric_only=True)\n"
     ]
    },
    {
     "data": {
      "text/plain": "                              value     share\nyear currency prices                         \n2012 GBP      constant   162.735436   2.75160\n2013 GBP      constant  3839.612873  49.90004\n2014 GBP      constant  3741.224352  47.97811\n2015 GBP      constant   161.267757   1.98984\n2016 GBP      constant  1719.350739  19.80790\n2017 GBP      constant  4739.160518  53.61882\n2018 GBP      constant   269.830609   2.98963\n2019 GBP      constant  5515.825377  55.39557\n2020 GBP      constant  4938.191725  60.94353\n2021 GBP      constant   642.827628  11.76377",
      "text/html": "<div>\n<style scoped>\n    .dataframe tbody tr th:only-of-type {\n        vertical-align: middle;\n    }\n\n    .dataframe tbody tr th {\n        vertical-align: top;\n    }\n\n    .dataframe thead th {\n        text-align: right;\n    }\n</style>\n<table border=\"1\" class=\"dataframe\">\n  <thead>\n    <tr style=\"text-align: right;\">\n      <th></th>\n      <th></th>\n      <th></th>\n      <th>value</th>\n      <th>share</th>\n    </tr>\n    <tr>\n      <th>year</th>\n      <th>currency</th>\n      <th>prices</th>\n      <th></th>\n      <th></th>\n    </tr>\n  </thead>\n  <tbody>\n    <tr>\n      <th>2012</th>\n      <th>GBP</th>\n      <th>constant</th>\n      <td>162.735436</td>\n      <td>2.75160</td>\n    </tr>\n    <tr>\n      <th>2013</th>\n      <th>GBP</th>\n      <th>constant</th>\n      <td>3839.612873</td>\n      <td>49.90004</td>\n    </tr>\n    <tr>\n      <th>2014</th>\n      <th>GBP</th>\n      <th>constant</th>\n      <td>3741.224352</td>\n      <td>47.97811</td>\n    </tr>\n    <tr>\n      <th>2015</th>\n      <th>GBP</th>\n      <th>constant</th>\n      <td>161.267757</td>\n      <td>1.98984</td>\n    </tr>\n    <tr>\n      <th>2016</th>\n      <th>GBP</th>\n      <th>constant</th>\n      <td>1719.350739</td>\n      <td>19.80790</td>\n    </tr>\n    <tr>\n      <th>2017</th>\n      <th>GBP</th>\n      <th>constant</th>\n      <td>4739.160518</td>\n      <td>53.61882</td>\n    </tr>\n    <tr>\n      <th>2018</th>\n      <th>GBP</th>\n      <th>constant</th>\n      <td>269.830609</td>\n      <td>2.98963</td>\n    </tr>\n    <tr>\n      <th>2019</th>\n      <th>GBP</th>\n      <th>constant</th>\n      <td>5515.825377</td>\n      <td>55.39557</td>\n    </tr>\n    <tr>\n      <th>2020</th>\n      <th>GBP</th>\n      <th>constant</th>\n      <td>4938.191725</td>\n      <td>60.94353</td>\n    </tr>\n    <tr>\n      <th>2021</th>\n      <th>GBP</th>\n      <th>constant</th>\n      <td>642.827628</td>\n      <td>11.76377</td>\n    </tr>\n  </tbody>\n</table>\n</div>"
     },
     "execution_count": 6,
     "metadata": {},
     "output_type": "execute_result"
    }
   ],
   "source": [
    "df.groupby(['year','currency','prices'])['value','share'].sum(numeric_only=True)"
   ],
   "metadata": {
    "collapsed": false,
    "pycharm": {
     "name": "#%%\n"
    }
   }
  },
  {
   "cell_type": "code",
   "execution_count": null,
   "outputs": [],
   "source": [
    "import oda_data\n",
    "oda_data.__version__"
   ],
   "metadata": {
    "collapsed": false,
    "pycharm": {
     "name": "#%%\n"
    }
   }
  },
  {
   "cell_type": "code",
   "execution_count": 7,
   "outputs": [],
   "source": [
    "df.to_csv(r'../tutorials/UK_oda_CRS_gender.csv', index = False)"
   ],
   "metadata": {
    "collapsed": false,
    "pycharm": {
     "name": "#%%\n"
    }
   }
  },
  {
   "cell_type": "code",
   "execution_count": null,
   "outputs": [],
   "source": [],
   "metadata": {
    "collapsed": false,
    "pycharm": {
     "name": "#%%\n"
    }
   }
  }
 ],
 "metadata": {
  "kernelspec": {
   "display_name": "Python 3",
   "language": "python",
   "name": "python3"
  },
  "language_info": {
   "codemirror_mode": {
    "name": "ipython",
    "version": 2
   },
   "file_extension": ".py",
   "mimetype": "text/x-python",
   "name": "python",
   "nbconvert_exporter": "python",
   "pygments_lexer": "ipython2",
   "version": "2.7.6"
  }
 },
 "nbformat": 4,
 "nbformat_minor": 0
}