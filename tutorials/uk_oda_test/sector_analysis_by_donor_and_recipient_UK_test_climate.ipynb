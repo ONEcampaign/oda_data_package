{
 "cells": [
  {
   "cell_type": "markdown",
   "source": [
    "# ODA data by Sector (with donor and recipient)\n",
    "This tutorial shows you how to build a Pandas DataFrame containing ODA data from any number of donors to any number of recipients, across sectors available in the list of indicators, over a range of years.\n",
    "\n",
    "The tutorial has the following steps:\n",
    "1. Import `ODAData`, the main tool used to interact with the data\n",
    "2. Set the arguments\n",
    "3. Create an instance of `ODAData` with the specific arguments you would like to use\n",
    "4. Load the indicators and get the DataFrame\n",
    "5. Optionally, export the DataFrame"
   ],
   "metadata": {
    "collapsed": false,
    "pycharm": {
     "name": "#%% md\n"
    }
   }
  },
  {
   "cell_type": "markdown",
   "source": [
    "## 1. Import ODAData\n",
    "\n",
    "We can gather the data we need using the `ODAData` class. An object from this class can:\n",
    "- Get data for specific indicators\n",
    "- Optionally, filter the data for specific donors, recipients and years\n",
    "- Optionally, exchange and deflate data\n",
    "\n",
    "`oda_data` automatically downloads the relevant datasets (i.e. DAC1, DAC2a or CRS tables) depending on the indicators selected in step 3.\n",
    "It is highly recommended that you specify the folder where you want to store, and from where you want to read, this raw data. This must be done once in each notebook or script where we use the `oda_data` package. You can specify the data path if the raw data has already been downloaded, or if you haven't yet specified the download path in your notebook and script."
   ],
   "metadata": {
    "collapsed": false,
    "pycharm": {
     "name": "#%% md\n"
    }
   }
  },
  {
   "cell_type": "code",
   "execution_count": 1,
   "outputs": [],
   "source": [
    "from oda_data import ODAData, set_data_path\n",
    "\n",
    "# If you haven't set the data path, you can do it now.\n",
    "set_data_path(path=\"../uk_oda_test/data\")"
   ],
   "metadata": {
    "collapsed": false,
    "pycharm": {
     "name": "#%%\n"
    }
   }
  },
  {
   "cell_type": "markdown",
   "source": [
    "# 2. Set the arguments for the DataFrame\n",
    "\n",
    "Next, we need to set the right arguments, which are used to create the right DataFrame.\n",
    "- *years*: you must specify the `years`, as an `int`, `list` or `range`\n",
    "- *donors*: you can _optionally_ specify the `donors` you want the output to have (as `int`, or `list`) of donor codes.\n",
    "- *recipients*: you can _optionally_ specify the `recipients` you want the output to have. Not all indicators\n",
    "    need or accept recipients. If using an indicator for which recipients are not an option, a warning will be logged to\n",
    "    the console and the recipients ignored for that indicator.\n",
    "- *currency*: you can _optionally_ specify the `currency` in which you want your data to be shown. If not specified,\n",
    "    by default, `USD` will be used. Other options include `EUR`, `GBP` and `CAN`.\n",
    "- *prices*: you can _optionally_ specify the `prices` in which you want your data to be shown. If not specified,\n",
    "    by default, `current` will be used. The other option is `constant`. If specifying `constant` a `base_year` must be set.\n",
    "- *base_year*: you must specify a `base_year` if you have set `prices = 'constant'`. If you have chosen `current` prices,\n",
    "    by default, `base_year` will be `None`.\n",
    "\n",
    "\n",
    "Below are some example settings for this tutorial. For clarity, we will first store them in variables, but you can\n",
    "always pass them directly as arguments to the `ODAData` class."
   ],
   "metadata": {
    "collapsed": false,
    "pycharm": {
     "name": "#%% md\n"
    }
   }
  },
  {
   "cell_type": "code",
   "execution_count": 2,
   "outputs": [],
   "source": [
    "# Select years as (for example) a range. Remember ranges are exclusive of the upper bound.\n",
    "years = range(2012,2022)\n",
    "\n",
    "# Select donors, which must be specified by their codes. To get all donors, do not use this argument.\n",
    "donors = 12\n",
    "\n",
    "# Select recipients. In this example, we have used Developing Countries, total.\n",
    "recipients = None\n",
    "\n",
    "# Select the currency. By default 'USD' is shown but we'll get the data in Euros.\n",
    "currency = 'GBP'\n",
    "\n",
    "# Select the prices. By default, 'current' is shown, but we'll get the data in constant prices.\n",
    "prices = 'constant'\n",
    "\n",
    "# Set the base year. We must set this given that we've asked for constant data.\n",
    "base_year = 2021"
   ],
   "metadata": {
    "collapsed": false,
    "pycharm": {
     "name": "#%%\n"
    }
   }
  },
  {
   "cell_type": "code",
   "execution_count": 3,
   "outputs": [
    {
     "name": "stderr",
     "output_type": "stream",
     "text": [
      "INFO 2023-01-26 15:34:10,812 [oda_data.py:available_donors:445] Note that not all donors may be available for all indicators\n"
     ]
    },
    {
     "data": {
      "text/plain": "{\n1: Austria,\n2: Belgium,\n3: Denmark,\n4: France,\n5: Germany,\n6: Italy,\n7: Netherlands,\n8: Norway,\n9: Portugal,\n10: Sweden,\n11: Switzerland,\n12: United Kingdom,\n18: Finland,\n20: Iceland,\n21: Ireland,\n22: Luxembourg,\n40: Greece,\n50: Spain,\n61: Slovenia,\n68: Czech Republic,\n69: Slovak Republic,\n75: Hungary,\n76: Poland,\n301: Canada,\n302: United States,\n701: Japan,\n742: Korea,\n801: Australia,\n820: New Zealand,\n30: Cyprus,\n45: Malta,\n55: Turkey,\n62: Croatia,\n70: Liechtenstein,\n72: Bulgaria,\n77: Romania,\n82: Estonia,\n83: Latvia,\n84: Lithuania,\n87: Russia,\n130: Algeria,\n133: Libya,\n358: Mexico,\n543: Iraq,\n546: Israel,\n552: Kuwait,\n561: Qatar,\n566: Saudi Arabia,\n576: United Arab Emirates,\n611: Azerbaijan,\n613: Kazakhstan,\n732: Chinese Taipei,\n764: Thailand,\n765: Timor-Leste,\n104: Nordic Development Fund,\n807: UNEP,\n811: Global Environment Facility,\n812: Montreal Protocol,\n901: International Bank for Reconstruction and Development,\n902: Multilateral Investment Guarantee Agency,\n903: International Finance Corporation,\n905: International Development Association,\n906: Caribbean Development Bank,\n907: International Monetary Fund,\n909: Inter-American Development Bank,\n913: African Development Bank,\n914: African Development Fund,\n915: Asian Development Bank,\n921: Arab Fund (AFESD),\n923: UN Peacebuilding Fund,\n926: Council of Europe,\n928: World Health Organisation,\n932: Food and Agriculture Organisation,\n940: International Labour Organisation,\n944: International Atomic Energy Agency,\n948: UNECE,\n951: OPEC Fund for International Development,\n952: OAPEC,\n953: Arab Bank for Economic Development in Africa,\n954: Special Arab Aid Fund for Africa,\n956: IMF Trust Fund,\n958: IMF (Concessional Trust Funds),\n959: UNDP,\n960: UNTA,\n963: UNICEF,\n964: UNRWA,\n966: WFP,\n967: UNHCR,\n971: UNAIDS,\n974: UNFPA,\n976: Islamic Development Bank,\n978: OSCE,\n979: Islamic Monetary Fund,\n980: Arab Fund for Technical Assistance to African and Arab Countries,\n981: Black Sea Trade & Development Bank,\n982: GODE,\n983: Other Arab Agencies,\n988: IFAD,\n990: European Bank for Reconstruction and Development,\n992: UN AGENCIES,\n997: Global Partnership for Education,\n1011: Climate Investment Funds,\n1012: Adaptation Fund,\n1013: Council of Europe Development Bank,\n1014: Private Infrastructure Development Group,\n1015: Development Bank of Latin America,\n1016: Green Climate Fund,\n1017: Credit Guarantee and Investment Facility,\n1018: Global Energy Efficiency and Renewable Energy Fund,\n1019: IDB Invest,\n1020: Central Emergency Response Fund,\n1023: World Tourism Organisation,\n1024: Asian Infrastructure Investment Bank,\n1025: Center of Excellence in Finance,\n1037: International Investment Bank,\n1311: Global Alliance for Vaccines and Immunization,\n1312: Global Fund,\n1313: Global Green Growth Institute,\n918: EU Institutions,\n20001: DAC Countries, Total,\n20002: Multilaterals, Total,\n20003: G7 Countries, Total,\n20005: Official Donors, Total,\n20006: Non-DAC Countries, Total,\n20012: World Bank Group, Total,\n20013: International Monetary Fund, Total,\n20014: Inter-American Development Bank, Total,\n20015: Asian Development Bank, Total,\n20016: African Development Bank, Total,\n20021: United Nations, Total,\n20022: Regional Development Banks, Total,\n20033: World Bank, Total,\n20034: Other Multilateral, Total,\n20035: United Postcode Lotteries, Total,\n21600: Private Donors, Total\n}"
     },
     "execution_count": 3,
     "metadata": {},
     "output_type": "execute_result"
    }
   ],
   "source": [
    "ODAData().available_donors()"
   ],
   "metadata": {
    "collapsed": false,
    "pycharm": {
     "name": "#%%\n"
    }
   }
  },
  {
   "cell_type": "code",
   "execution_count": 4,
   "outputs": [
    {
     "name": "stderr",
     "output_type": "stream",
     "text": [
      "INFO 2023-01-26 15:34:10,849 [oda_data.py:available_recipients:451] Note that not all recipients may be available for all indicators\n"
     ]
    },
    {
     "data": {
      "text/plain": "{\n30: Cyprus,\n35: Gibraltar,\n45: Malta,\n55: Turkey,\n57: Kosovo,\n61: Slovenia,\n62: Croatia,\n63: Serbia,\n64: Bosnia and Herzegovina,\n65: Montenegro,\n66: North Macedonia,\n71: Albania,\n85: Ukraine,\n86: Belarus,\n88: States Ex-Yugoslavia unspecified,\n89: Europe, regional,\n93: Moldova,\n130: Algeria,\n133: Libya,\n136: Morocco,\n139: Tunisia,\n142: Egypt,\n189: North of Sahara, regional,\n218: South Africa,\n225: Angola,\n227: Botswana,\n228: Burundi,\n229: Cameroon,\n230: Cabo Verde,\n231: Central African Republic,\n232: Chad,\n233: Comoros,\n234: Congo,\n235: Democratic Republic of the Congo,\n236: Benin,\n237: East African Community,\n238: Ethiopia,\n239: Gabon,\n240: Gambia,\n241: Ghana,\n243: Guinea,\n244: Guinea-Bissau,\n245: Equatorial Guinea,\n247: Cote d'Ivoire,\n248: Kenya,\n249: Lesotho,\n251: Liberia,\n252: Madagascar,\n253: Malawi,\n255: Mali,\n256: Mauritania,\n257: Mauritius,\n258: Mayotte,\n259: Mozambique,\n260: Niger,\n261: Nigeria,\n265: Zimbabwe,\n266: Rwanda,\n268: Sao Tome and Principe,\n269: Senegal,\n270: Seychelles,\n271: Eritrea,\n272: Sierra Leone,\n273: Somalia,\n274: Djibouti,\n275: Namibia,\n276: Saint Helena,\n278: Sudan,\n279: South Sudan,\n280: Eswatini,\n282: Tanzania,\n283: Togo,\n285: Uganda,\n287: Burkina Faso,\n288: Zambia,\n289: South of Sahara, regional,\n298: Africa, regional,\n328: Bahamas,\n329: Barbados,\n331: Bermuda,\n336: Costa Rica,\n338: Cuba,\n340: Dominican Republic,\n342: El Salvador,\n347: Guatemala,\n349: Haiti,\n351: Honduras,\n352: Belize,\n354: Jamaica,\n358: Mexico,\n361: Netherlands Antilles,\n364: Nicaragua,\n366: Panama,\n373: Aruba,\n375: Trinidad and Tobago,\n376: Anguilla,\n377: Antigua and Barbuda,\n378: Dominica,\n381: Grenada,\n382: Saint Kitts and Nevis,\n383: Saint Lucia,\n384: Saint Vincent and the Grenadines,\n385: Montserrat,\n386: Cayman Islands,\n387: Turks and Caicos Islands,\n388: British Virgin Islands,\n389: Caribbean & Central America, regional,\n425: Argentina,\n428: Bolivia,\n431: Brazil,\n434: Chile,\n437: Colombia,\n440: Ecuador,\n446: Guyana,\n451: Paraguay,\n454: Peru,\n457: Suriname,\n460: Uruguay,\n463: Venezuela,\n489: South America, regional,\n498: America, regional,\n530: Bahrain,\n540: Iran,\n543: Iraq,\n546: Israel,\n549: Jordan,\n550: West Bank and Gaza Strip,\n552: Kuwait,\n555: Lebanon,\n558: Oman,\n561: Qatar,\n566: Saudi Arabia,\n573: Syrian Arab Republic,\n576: United Arab Emirates,\n580: Yemen,\n589: Middle East, regional,\n610: Armenia,\n611: Azerbaijan,\n612: Georgia,\n613: Kazakhstan,\n614: Kyrgyzstan,\n615: Tajikistan,\n616: Turkmenistan,\n617: Uzbekistan,\n619: Central Asia, regional,\n625: Afghanistan,\n630: Bhutan,\n635: Myanmar,\n640: Sri Lanka,\n645: India,\n650: Indus Basin,\n655: Maldives,\n660: Nepal,\n665: Pakistan,\n666: Bangladesh,\n679: South Asia, regional,\n689: South & Central Asia, regional,\n725: Brunei Darussalam,\n728: Cambodia,\n730: China (People's Republic of),\n732: Chinese Taipei,\n735: Hong Kong (China),\n738: Indonesia,\n740: Democratic People's Republic of Korea,\n742: Korea,\n745: Lao People's Democratic Republic,\n748: Macau (China),\n751: Malaysia,\n753: Mongolia,\n755: Philippines,\n761: Singapore,\n764: Thailand,\n765: Timor-Leste,\n769: Viet Nam,\n789: Far East Asia, regional,\n798: Asia, regional,\n816: Other Regional Banks,\n831: Cook Islands,\n832: Fiji,\n836: Kiribati,\n840: French Polynesia,\n845: Nauru,\n850: New Caledonia,\n854: Vanuatu,\n856: Niue,\n858: Northern Mariana Islands,\n859: Marshall Islands,\n860: Micronesia,\n861: Palau,\n862: Papua New Guinea,\n866: Solomon Islands,\n868: Tokelau,\n870: Tonga,\n872: Tuvalu,\n876: Wallis and Futuna,\n880: Samoa,\n889: Oceania, regional,\n900: Other World Bank (AMCs),\n901: IBRD,\n902: MIGA,\n903: IFC,\n904: IDA-MDRI,\n905: IDA,\n906: Caribbean Dev. Bank,\n907: IMF,\n909: IDB,\n910: CABEI,\n912: IDB Special Oper. Fund,\n913: Af. D B,\n914: African Dev. Fund,\n915: Asian Dev. Bank,\n916: AsDB Special Funds,\n917: EC,\n918: EDF,\n919: EIB,\n927: Other EU institutions,\n959: UNDP,\n963: UNICEF,\n964: UNRWA,\n966: WFP,\n967: UNHCR,\n974: UNFPA,\n975: Other UN,\n988: IFAD,\n989: Other Multilateral,\n1031: Caribbean, regional,\n9998: Developing countries, unspecified,\n10001: Africa, Total,\n10002: North of Sahara, Total,\n10003: South of Sahara, Total,\n10004: America, Total,\n10005: Caribbean & Central America, Total,\n10006: South America, Total,\n10007: Asia, Total,\n10008: Far East Asia, Total,\n10009: South & Central Asia, Total,\n10010: Europe, Total,\n10011: Middle East, Total,\n10012: Oceania, Total,\n10013: CEEC, Total,\n10014: NIS, Total,\n10016: LDCs, Total,\n10017: Other LICs, Total,\n10018: LMICs, Total,\n10019: UMICs, Total,\n10024: Part I Unallocated by income,\n10025: MADCTs, Total,\n10026: Part II Countries, Total,\n10030: HIPCs, Total,\n10040: ACP Countries, Total,\n10041: Club du Sahel, Total,\n10045: WorldBank Low income countries,\n10046: WorldBank Lower-middle income countries,\n10047: WorldBank Upper-middle income countries,\n10048: WorldBank High income countries,\n10049: Countries not classified by the World Bank,\n10050: Eastern Africa, Total,\n10051: Middle Africa, Total,\n10052: Southern Africa, Total,\n10053: Western Africa, Total,\n10054: Caribbean, Total,\n10055: Central America, Total,\n10056: Northern America, Total,\n10057: Melanesia, Total,\n10058: Micronesia, Total,\n10059: Polynesia, Total,\n10100: Developing Countries, Total,\n10150: All Multilateral Recipients, Total,\n10200: All Recipients, Total,\n10201: Land-Locked countries, Total,\n10202: Small island states, Total,\n10203: Fragile states, Total,\n1027: Eastern Africa, regional,\n1030: Western Africa, regional,\n1028: Middle Africa, regional,\n1029: Southern Africa, regional,\n1032: Central America, regional,\n1033: Melanesia, regional,\n1034: Micronesia, regional\n}"
     },
     "execution_count": 4,
     "metadata": {},
     "output_type": "execute_result"
    }
   ],
   "source": [
    "ODAData().available_recipients()"
   ],
   "metadata": {
    "collapsed": false,
    "pycharm": {
     "name": "#%%\n"
    }
   }
  },
  {
   "cell_type": "code",
   "execution_count": 5,
   "outputs": [
    {
     "data": {
      "text/plain": "[\nUSD,\nEUR,\nGBP,\nCAD\n]"
     },
     "execution_count": 5,
     "metadata": {},
     "output_type": "execute_result"
    }
   ],
   "source": [
    "ODAData().available_currencies()"
   ],
   "metadata": {
    "collapsed": false,
    "pycharm": {
     "name": "#%%\n"
    }
   }
  },
  {
   "cell_type": "markdown",
   "source": [
    "Finally, we can specify the indicators we want to retrieve for our analysis.\n",
    "    A full list of indicators can be seen by using the `.available_indicators()` method."
   ],
   "metadata": {
    "collapsed": false,
    "pycharm": {
     "name": "#%% md\n"
    }
   }
  },
  {
   "cell_type": "code",
   "execution_count": 6,
   "outputs": [
    {
     "data": {
      "text/plain": "[\ntotal_oda_flow_net,\ntotal_oda_ge,\ntotal_oda_official_definition,\ntotal_oda_bilateral_flow_net,\ntotal_oda_bilateral_ge,\ntotal_oda_multilateral_flow_net,\ntotal_oda_multilateral_ge,\ntotal_oda_flow_gross,\ntotal_oda_flow_commitments,\ntotal_oda_grants_flow,\ntotal_oda_grants_ge,\ntotal_oda_non_grants_flow,\ntotal_oda_non_grants_ge,\ntotal_covid_oda_ge,\ntotal_covid_oda_flow,\ntotal_covid_oda_ge_linked,\ntotal_health_covid_oda_ge,\ntotal_health_covid_oda_flow,\ntotal_health_covid_oda_ge_linked,\ntotal_covid_vaccine_donations_oda_ge,\ntotal_covid_vaccine_donations_oda_flow,\ntotal_covid_vaccine_donations_oda_ge_linked,\ntotal_covid_vaccine_donations_domestic_supply_oda_ge,\ntotal_covid_vaccine_donations_domestic_supply_oda_flow,\ntotal_covid_vaccine_donations_domestic_supply_oda_ge_linked,\ntotal_covid_vaccine_donations_dev_purchase_oda_ge,\ntotal_covid_vaccine_donations_dev_purchase_oda_flow,\ntotal_covid_vaccine_donations_dev_purchase_oda_ge_linked,\ntotal_covid_ancillary_oda_ge,\ntotal_covid_ancillary_oda_flow,\ntotal_covid_ancillary_oda_ge_linked,\ngni,\noda_gni_flow,\noda_gni_ge,\ntotal_in_donor_students_flow,\ntotal_in_donor_students_ge,\ntotal_in_donor_students_ge_linked,\nscholarships_flow,\nscholarships_ge,\nscholarships_ge_linked,\nimputed_students_flow,\nimputed_students_ge,\nimputed_students_linked,\ndebt_relief_flow,\ndebt_relief_ge,\nidrc_flow,\nidrc_ge,\nidrc_ge_linked,\neu_core_flow,\neu_core_ge,\neu_core_ge_linked,\none_non_core_oda_flow,\none_non_core_oda_ge,\none_non_core_oda_ge_linked,\none_core_oda_flow,\none_core_oda_ge,\none_core_oda_ge_linked,\ntotal_psi_flow,\ntotal_psi_ge,\ntotal_psi_flow_linked,\ninstitutional_psi_flow,\ninstitutional_psi_ge,\ninstitutional_psi_flow_linked,\ninstrument_psi_flow,\ninstrument_psi_ge,\ninstrument_psi_flow_linked,\nrecipient_imputed_multi_flow_net,\nrecipient_bilateral_flow_net,\nrecipient_bilateral_flow_gross,\nrecipient_loans_flow_gross,\nrecipient_loans_flow_net,\nrecipient_interest_received_flow,\nrecipient_humanitarian_flow,\nrecipient_grants_flow,\nrecipient_total_flow_net,\ncrs_bilateral_flow_disbursement_gross,\ncrs_bilateral_all_flows_disbursement_gross,\ncrs_gender_significant_flow_disbursement_gross,\ncrs_gender_principal_flow_disbursement_gross,\ncrs_gender_not_targeted_flow_disbursement_gross,\ncrs_gender_not_screened_flow_disbursement_gross,\ncrs_gender_allocable_flow_disbursement_gross,\ncrs_gender_allocable_total_flow_disbursement_gross,\ncrs_gender_total_flow_gross,\ncrs_bilateral_total_flow_gross_by_purpose,\nmultisystem_multilateral_contributions_disbursement_gross,\nmultisystem_multilateral_contributions_commitments_gross,\nimputed_multi_flow_disbursement_gross,\ntotal_bi_multi_flow_disbursement_gross,\ncrs_climate_allocable_flow_disbursement_gross,\ncrs_climate_mitigation_significant_flow_disbursement_gross,\ncrs_climate_mitigation_principal_flow_disbursement_gross,\ncrs_climate_mitigation_not_targeted_flow_disbursement_gross,\ncrs_climate_mitigation_not_screened_flow_disbursement_gross,\ncrs_climate_mitigation_total_flow_gross,\ncrs_climate_adaptation_significant_flow_disbursement_gross,\ncrs_climate_adaptation_principal_flow_disbursement_gross,\ncrs_climate_adaptation_not_targeted_flow_disbursement_gross,\ncrs_climate_adaptation_not_screened_flow_disbursement_gross,\ncrs_climate_adaptation_total_flow_gross,\ncrs_climate_mitigation_adaptation_overlap_significant_flow_disbursement_gross\n]"
     },
     "execution_count": 6,
     "metadata": {},
     "output_type": "execute_result"
    }
   ],
   "source": [
    "ODAData().available_indicators()"
   ],
   "metadata": {
    "collapsed": false,
    "pycharm": {
     "name": "#%%\n"
    }
   }
  },
  {
   "cell_type": "markdown",
   "source": [
    "For this tutorial, we will use the 'crs_gender_significant_flow_disbursement_gross', 'crs_gender_principal_flow_disbursement_gross', and 'crs_gender_total_flow_gross' indicators."
   ],
   "metadata": {
    "collapsed": false,
    "pycharm": {
     "name": "#%% md\n"
    }
   }
  },
  {
   "cell_type": "code",
   "execution_count": 7,
   "outputs": [],
   "source": [
    "indicators = ['crs_climate_allocable_flow_disbursement_gross',\n",
    "              'crs_climate_mitigation_total_flow_gross',\n",
    "              'crs_climate_adaptation_total_flow_gross',\n",
    "              'crs_climate_mitigation_adaptation_overlap_significant_flow_disbursement_gross']"
   ],
   "metadata": {
    "collapsed": false,
    "pycharm": {
     "name": "#%%\n"
    }
   }
  },
  {
   "cell_type": "markdown",
   "source": [
    "## 3. Create an instance of ODAData\n",
    "\n",
    "In order to get the data we want, we will create an instance of the `ODAData` class, using the arguments we specified above.\n",
    "\n",
    "We will store this instance in a variable called `oda`, which we will use later to load the indicators and get the DataFrame we're after.\n"
   ],
   "metadata": {
    "collapsed": false,
    "pycharm": {
     "name": "#%% md\n"
    }
   }
  },
  {
   "cell_type": "code",
   "execution_count": 8,
   "outputs": [],
   "source": [
    "oda = ODAData(years=years,\n",
    "              recipients=recipients,\n",
    "              donors=donors,\n",
    "              currency=currency,\n",
    "              prices=prices,\n",
    "              base_year=base_year,\n",
    "              include_names=True)"
   ],
   "metadata": {
    "collapsed": false,
    "pycharm": {
     "name": "#%%\n"
    }
   }
  },
  {
   "cell_type": "markdown",
   "source": [
    "## 4. Load the indicators and get the DataFrame\n",
    "\n",
    "Then we loop through all your assigned indicators and tell ODAData to load them. ODAData will now download the relevant datasets, so this may take some time."
   ],
   "metadata": {
    "collapsed": false,
    "pycharm": {
     "name": "#%% md\n"
    }
   }
  },
  {
   "cell_type": "code",
   "execution_count": 9,
   "outputs": [],
   "source": [
    "# Load the indicators\n",
    "oda.load_indicator(indicators)\n",
    "\n",
    "# Get a DataFrame with all the data. Here, we also add the share of total.\n",
    "df = oda.get_data()\n",
    "\n",
    "# Finally, group the DataFrame rows by year, currency, prices and indicator\n",
    "df = df.groupby(['donor_name','year','currency','prices','indicator'], observed=True, dropna=False)[['donor_name','indicator','value']].sum(numeric_only=True).reset_index(drop=False)"
   ],
   "metadata": {
    "collapsed": false,
    "pycharm": {
     "name": "#%%\n"
    }
   }
  },
  {
   "cell_type": "markdown",
   "source": [
    "## 5. Optionally export DataFrame as CSV\n",
    "\n",
    "Finally, we can export the DataFrame as a CSV if required."
   ],
   "metadata": {
    "collapsed": false,
    "pycharm": {
     "name": "#%% md\n"
    }
   }
  },
  {
   "cell_type": "code",
   "execution_count": 10,
   "outputs": [],
   "source": [
    "df = df.pivot(index=[\"donor_name\",\"year\",\"currency\",\"prices\"],columns=[\"indicator\"],values='value').reset_index(drop=False)"
   ],
   "metadata": {
    "collapsed": false,
    "pycharm": {
     "name": "#%%\n"
    }
   }
  },
  {
   "cell_type": "code",
   "execution_count": 11,
   "outputs": [],
   "source": [
    "# create column for adaptation data excluding overlap\n",
    "df['adaptation_excluding_overlap'] = df['crs_climate_adaptation_total_flow_gross']-df['crs_climate_mitigation_adaptation_overlap_significant_flow_disbursement_gross']\n",
    "\n",
    "# create column for mitigation data excluding overlap\n",
    "df['mitigation_excluding_overlap'] = df['crs_climate_mitigation_total_flow_gross']-df['crs_climate_mitigation_adaptation_overlap_significant_flow_disbursement_gross']\n",
    "\n",
    "# create column for total climate data\n",
    "df['climate_total'] = df['adaptation_excluding_overlap']+df['mitigation_excluding_overlap']+df['crs_climate_mitigation_adaptation_overlap_significant_flow_disbursement_gross']"
   ],
   "metadata": {
    "collapsed": false,
    "pycharm": {
     "name": "#%%\n"
    }
   }
  },
  {
   "cell_type": "code",
   "execution_count": 13,
   "outputs": [],
   "source": [
    "df.to_csv(r'../output/UK_oda_CRS_climate.csv', index = False)"
   ],
   "metadata": {
    "collapsed": false,
    "pycharm": {
     "name": "#%%\n"
    }
   }
  },
  {
   "cell_type": "code",
   "execution_count": null,
   "outputs": [],
   "source": [],
   "metadata": {
    "collapsed": false,
    "pycharm": {
     "name": "#%%\n"
    }
   }
  }
 ],
 "metadata": {
  "kernelspec": {
   "display_name": "Python 3",
   "language": "python",
   "name": "python3"
  },
  "language_info": {
   "codemirror_mode": {
    "name": "ipython",
    "version": 2
   },
   "file_extension": ".py",
   "mimetype": "text/x-python",
   "name": "python",
   "nbconvert_exporter": "python",
   "pygments_lexer": "ipython2",
   "version": "2.7.6"
  }
 },
 "nbformat": 4,
 "nbformat_minor": 0
}
