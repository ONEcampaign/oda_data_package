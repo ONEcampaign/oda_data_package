{
 "cells": [
  {
   "cell_type": "markdown",
   "source": [
    "# ODA data by Donor\n",
    "This tutorial shows you how to build a Pandas DataFrame containing ODA data from any number of donors over a range of years and multiple different indicators.\n",
    "\n",
    "The tutorial has the following steps:\n",
    "1. Import `ODAData`, the main tool used to interact with the data\n",
    "2. Set the arguments\n",
    "3. Create an instance of `ODAData` with the specific arguments you would like to use\n",
    "4. Load the indicators and get the DataFrame\n",
    "5. Optionally, export the DataFrame"
   ],
   "metadata": {
    "collapsed": false,
    "pycharm": {
     "name": "#%% md\n"
    }
   }
  },
  {
   "cell_type": "markdown",
   "source": [
    "## 1. Import ODAData\n",
    "\n",
    "We can gather the data we need using the `ODAData` class. An object from this class can:\n",
    "- Get data for specific indicators\n",
    "- Optionally, filter the data for specific donors, recipients and years\n",
    "- Optionally, exchange and deflate data\n",
    "\n",
    "`oda_data` automatically downloads the relevant datasets (i.e. DAC1, DAC2a or CRS tables) depending on the indicators selected in step 3.\n",
    "It is highly recommended that you specify the folder where you want to store, and from where you want to read, this raw data. This must be done once in each notebook or script where we use the `oda_data` package. You can specify the data path if the raw data has already been downloaded, or if you haven't yet specified the download path in your notebook and script."
   ],
   "metadata": {
    "collapsed": false,
    "pycharm": {
     "name": "#%% md\n"
    }
   }
  },
  {
   "cell_type": "code",
   "execution_count": 1,
   "outputs": [],
   "source": [
    "from oda_data import ODAData, set_data_path\n",
    "\n",
    "# If you haven't set the data path, you can do it now.\n",
    "# If you haven't downloaded the raw data before, please see step 0\n",
    "set_data_path(path=\"../uk_oda_test/data\")"
   ],
   "metadata": {
    "collapsed": false,
    "pycharm": {
     "name": "#%%\n"
    }
   }
  },
  {
   "cell_type": "markdown",
   "source": [
    "# 2. Set the arguments for the DataFrame\n",
    "\n",
    "Next, we need to set the right arguments, which are used to create the right DataFrame.\n",
    "- *years*: you must specify the `years`, as an `int`, `list` or `range`\n",
    "- *donors*: you can _optionally_ specify the `donors` you want the output to have (as `int`, or `list`) of donor codes.\n",
    "- *recipients*: you can _optionally_ specify the `recipients` you want the output to have. Not all indicators\n",
    "    need or accept recipients. If using an indicator for which recipients are not an option, a warning will be logged to\n",
    "    the console and the recipients ignored for that indicator.\n",
    "- *currency*: you can _optionally_ specify the `currency` in which you want your data to be shown. If not specified,\n",
    "    by default, `USD` will be used. Other options include `EUR`, `GBP` and `CAN`.\n",
    "- *prices*: you can _optionally_ specify the `prices` in which you want your data to be shown. If not specified,\n",
    "    by default, `current` will be used. The other option is `constant`. If specifying `constant` a `base_year` must be set.\n",
    "- *base_year*: you must specify a `base_year` if you have set `prices = 'constant'`. If you have chosen `current` prices,\n",
    "    by default, `base_year` will be `None`.\n",
    "\n",
    "\n",
    "Below are some example settings for this tutorial. For clarity, we will first store them in variables, but you can\n",
    "always pass them directly as arguments to the `ODAData` class."
   ],
   "metadata": {
    "collapsed": false,
    "pycharm": {
     "name": "#%% md\n"
    }
   }
  },
  {
   "cell_type": "code",
   "execution_count": 1,
   "outputs": [],
   "source": [
    "# Select years as (for example) a range. Remember ranges are exclusive of the upper bound.\n",
    "years = range(2012, 2022)\n",
    "\n",
    "# Select donors, which must be specified by their codes. Here, we are selecting the UK only.\n",
    "donors = [12]\n",
    "\n",
    "# Select the currency. By default 'USD' is shown but we'll get the data in British Pounds.\n",
    "currency = 'GBP'\n",
    "\n",
    "# Select the prices. By default, 'current' is shown, but we'll get the data in constant prices.\n",
    "prices = 'constant'\n",
    "\n",
    "# Set the base year. We must set this given that we've asked for constant data.\n",
    "base_year = 2021"
   ],
   "metadata": {
    "collapsed": false,
    "pycharm": {
     "name": "#%%\n"
    }
   }
  },
  {
   "cell_type": "markdown",
   "source": [
    "To see a list of available indicators, donor codes, and currencies, you can use a few methods provided by the ODAData object.\n",
    "\n",
    "For example:"
   ],
   "metadata": {
    "collapsed": false,
    "pycharm": {
     "name": "#%% md\n"
    }
   }
  },
  {
   "cell_type": "code",
   "execution_count": 3,
   "outputs": [
    {
     "name": "stderr",
     "output_type": "stream",
     "text": [
      "INFO 2023-01-17 16:29:20,131 [oda_data.py:available_donors:445] Note that not all donors may be available for all indicators\n"
     ]
    },
    {
     "data": {
      "text/plain": "{\n1: Austria,\n2: Belgium,\n3: Denmark,\n4: France,\n5: Germany,\n6: Italy,\n7: Netherlands,\n8: Norway,\n9: Portugal,\n10: Sweden,\n11: Switzerland,\n12: United Kingdom,\n18: Finland,\n20: Iceland,\n21: Ireland,\n22: Luxembourg,\n40: Greece,\n50: Spain,\n61: Slovenia,\n68: Czech Republic,\n69: Slovak Republic,\n75: Hungary,\n76: Poland,\n301: Canada,\n302: United States,\n701: Japan,\n742: Korea,\n801: Australia,\n820: New Zealand,\n30: Cyprus,\n45: Malta,\n55: Turkey,\n62: Croatia,\n70: Liechtenstein,\n72: Bulgaria,\n77: Romania,\n82: Estonia,\n83: Latvia,\n84: Lithuania,\n87: Russia,\n130: Algeria,\n133: Libya,\n358: Mexico,\n543: Iraq,\n546: Israel,\n552: Kuwait,\n561: Qatar,\n566: Saudi Arabia,\n576: United Arab Emirates,\n611: Azerbaijan,\n613: Kazakhstan,\n732: Chinese Taipei,\n764: Thailand,\n765: Timor-Leste,\n104: Nordic Development Fund,\n807: UNEP,\n811: Global Environment Facility,\n812: Montreal Protocol,\n901: International Bank for Reconstruction and Development,\n902: Multilateral Investment Guarantee Agency,\n903: International Finance Corporation,\n905: International Development Association,\n906: Caribbean Development Bank,\n907: International Monetary Fund,\n909: Inter-American Development Bank,\n913: African Development Bank,\n914: African Development Fund,\n915: Asian Development Bank,\n921: Arab Fund (AFESD),\n923: UN Peacebuilding Fund,\n926: Council of Europe,\n928: World Health Organisation,\n932: Food and Agriculture Organisation,\n940: International Labour Organisation,\n944: International Atomic Energy Agency,\n948: UNECE,\n951: OPEC Fund for International Development,\n952: OAPEC,\n953: Arab Bank for Economic Development in Africa,\n954: Special Arab Aid Fund for Africa,\n956: IMF Trust Fund,\n958: IMF (Concessional Trust Funds),\n959: UNDP,\n960: UNTA,\n963: UNICEF,\n964: UNRWA,\n966: WFP,\n967: UNHCR,\n971: UNAIDS,\n974: UNFPA,\n976: Islamic Development Bank,\n978: OSCE,\n979: Islamic Monetary Fund,\n980: Arab Fund for Technical Assistance to African and Arab Countries,\n981: Black Sea Trade & Development Bank,\n982: GODE,\n983: Other Arab Agencies,\n988: IFAD,\n990: European Bank for Reconstruction and Development,\n992: UN AGENCIES,\n997: Global Partnership for Education,\n1011: Climate Investment Funds,\n1012: Adaptation Fund,\n1013: Council of Europe Development Bank,\n1014: Private Infrastructure Development Group,\n1015: Development Bank of Latin America,\n1016: Green Climate Fund,\n1017: Credit Guarantee and Investment Facility,\n1018: Global Energy Efficiency and Renewable Energy Fund,\n1019: IDB Invest,\n1020: Central Emergency Response Fund,\n1023: World Tourism Organisation,\n1024: Asian Infrastructure Investment Bank,\n1025: Center of Excellence in Finance,\n1037: International Investment Bank,\n1311: Global Alliance for Vaccines and Immunization,\n1312: Global Fund,\n1313: Global Green Growth Institute,\n918: EU Institutions,\n20001: DAC Countries, Total,\n20002: Multilaterals, Total,\n20003: G7 Countries, Total,\n20005: Official Donors, Total,\n20006: Non-DAC Countries, Total,\n20012: World Bank Group, Total,\n20013: International Monetary Fund, Total,\n20014: Inter-American Development Bank, Total,\n20015: Asian Development Bank, Total,\n20016: African Development Bank, Total,\n20021: United Nations, Total,\n20022: Regional Development Banks, Total,\n20033: World Bank, Total,\n20034: Other Multilateral, Total,\n20035: United Postcode Lotteries, Total,\n21600: Private Donors, Total\n}"
     },
     "execution_count": 3,
     "metadata": {},
     "output_type": "execute_result"
    }
   ],
   "source": [
    "ODAData().available_donors()"
   ],
   "metadata": {
    "collapsed": false,
    "pycharm": {
     "name": "#%%\n"
    }
   }
  },
  {
   "cell_type": "code",
   "execution_count": 4,
   "outputs": [
    {
     "data": {
      "text/plain": "[\nUSD,\nEUR,\nGBP,\nCAD\n]"
     },
     "execution_count": 4,
     "metadata": {},
     "output_type": "execute_result"
    }
   ],
   "source": [
    "ODAData().available_currencies()"
   ],
   "metadata": {
    "collapsed": false,
    "pycharm": {
     "name": "#%%\n"
    }
   }
  },
  {
   "cell_type": "markdown",
   "source": [
    "Finally, we can specify the indicators we want to retrieve for our analysis.\n",
    "A full list of indicators can be seen by using the `.available_indicators()` method."
   ],
   "metadata": {
    "collapsed": false,
    "pycharm": {
     "name": "#%% md\n"
    }
   }
  },
  {
   "cell_type": "code",
   "execution_count": 5,
   "outputs": [
    {
     "data": {
      "text/plain": "[\ntotal_oda_flow_net,\ntotal_oda_ge,\ntotal_oda_official_definition,\ntotal_oda_bilateral_flow_net,\ntotal_oda_bilateral_ge,\ntotal_oda_multilateral_flow_net,\ntotal_oda_multilateral_ge,\ntotal_oda_flow_gross,\ntotal_oda_flow_commitments,\ntotal_oda_grants_flow,\ntotal_oda_grants_ge,\ntotal_oda_non_grants_flow,\ntotal_oda_non_grants_ge,\ntotal_covid_oda_ge,\ntotal_covid_oda_flow,\ntotal_covid_oda_ge_linked,\ntotal_health_covid_oda_ge,\ntotal_health_covid_oda_flow,\ntotal_health_covid_oda_ge_linked,\ntotal_covid_vaccine_donations_oda_ge,\ntotal_covid_vaccine_donations_oda_flow,\ntotal_covid_vaccine_donations_oda_ge_linked,\ntotal_covid_vaccine_donations_domestic_supply_oda_ge,\ntotal_covid_vaccine_donations_domestic_supply_oda_flow,\ntotal_covid_vaccine_donations_domestic_supply_oda_ge_linked,\ntotal_covid_vaccine_donations_dev_purchase_oda_ge,\ntotal_covid_vaccine_donations_dev_purchase_oda_flow,\ntotal_covid_vaccine_donations_dev_purchase_oda_ge_linked,\ntotal_covid_ancillary_oda_ge,\ntotal_covid_ancillary_oda_flow,\ntotal_covid_ancillary_oda_ge_linked,\ngni,\noda_gni_flow,\noda_gni_ge,\ntotal_in_donor_students_flow,\ntotal_in_donor_students_ge,\ntotal_in_donor_students_ge_linked,\nscholarships_flow,\nscholarships_ge,\nscholarships_ge_linked,\nimputed_students_flow,\nimputed_students_ge,\nimputed_students_linked,\ndebt_relief_flow,\ndebt_relief_ge,\nidrc_flow,\nidrc_ge,\nidrc_ge_linked,\neu_core_flow,\neu_core_ge,\neu_core_ge_linked,\none_non_core_oda_flow,\none_non_core_oda_ge,\none_non_core_oda_ge_linked,\none_core_oda_flow,\none_core_oda_ge,\none_core_oda_ge_linked,\ntotal_psi_flow,\ntotal_psi_ge,\ntotal_psi_flow_linked,\ninstitutional_psi_flow,\ninstitutional_psi_ge,\ninstitutional_psi_flow_linked,\ninstrument_psi_flow,\ninstrument_psi_ge,\ninstrument_psi_flow_linked,\nrecipient_imputed_multi_flow_net,\nrecipient_bilateral_flow_net,\nrecipient_bilateral_flow_gross,\nrecipient_loans_flow_gross,\nrecipient_loans_flow_net,\nrecipient_interest_received_flow,\nrecipient_humanitarian_flow,\nrecipient_grants_flow,\nrecipient_total_flow_net,\ncrs_bilateral_flow_disbursement_gross,\ncrs_bilateral_all_flows_disbursement_gross,\ncrs_gender_significant_flow_disbursement_gross,\ncrs_gender_principal_flow_disbursement_gross,\ncrs_gender_not_targeted_flow_disbursement_gross,\ncrs_gender_not_screened_flow_disbursement_gross,\ncrs_gender_allocable_flow_disbursement_gross,\ncrs_gender_allocable_total_flow_disbursement_gross,\ncrs_gender_total_flow_gross,\ncrs_bilateral_total_flow_gross_by_purpose,\nmultisystem_multilateral_contributions_disbursement_gross,\nmultisystem_multilateral_contributions_commitments_gross,\nimputed_multi_flow_disbursement_gross,\ntotal_bi_multi_flow_disbursement_gross\n]"
     },
     "execution_count": 5,
     "metadata": {},
     "output_type": "execute_result"
    }
   ],
   "source": [
    "ODAData().available_indicators()"
   ],
   "metadata": {
    "collapsed": false,
    "pycharm": {
     "name": "#%%\n"
    }
   }
  },
  {
   "cell_type": "markdown",
   "source": [
    "We are interested in Total ODA, bilateral vs multilateral ODA, grants vs non-grants, idrc, and core ODA. Hence, we need to load the following indicators (plus a few extras for additional analysis)."
   ],
   "metadata": {
    "collapsed": false,
    "pycharm": {
     "name": "#%% md\n"
    }
   }
  },
  {
   "cell_type": "code",
   "execution_count": 6,
   "outputs": [],
   "source": [
    "indicators = ['total_oda_official_definition', 'total_oda_ge','total_oda_grants_ge','total_oda_non_grants_ge','gni','total_oda_bilateral_ge','total_oda_multilateral_ge','total_oda_flow_net','total_oda_grants_flow','total_oda_non_grants_flow','total_oda_non_grants_ge','total_oda_bilateral_flow_net','total_oda_multilateral_flow_net', 'idrc_flow', 'idrc_ge', 'idrc_ge_linked', 'one_core_oda_flow', 'one_core_oda_ge', 'one_core_oda_ge_linked','total_psi_ge', 'institutional_psi_ge', 'instrument_psi_ge']"
   ],
   "metadata": {
    "collapsed": false,
    "pycharm": {
     "name": "#%%\n"
    }
   }
  },
  {
   "cell_type": "markdown",
   "source": [
    "## 3. Create an instance of ODAData\n",
    "\n",
    "In order to get the data we want, we will create an instance of the `ODAData` class, using the arguments we specified above.\n",
    "\n",
    "We will store this instance in a variable called `oda`, which we will use later to load the indicators and get the DataFrame we're after.\n"
   ],
   "metadata": {
    "collapsed": false,
    "pycharm": {
     "name": "#%% md\n"
    }
   }
  },
  {
   "cell_type": "code",
   "execution_count": 7,
   "outputs": [],
   "source": [
    "oda = ODAData(years=years,\n",
    "              donors=donors,\n",
    "              currency=currency,\n",
    "              prices=prices,\n",
    "              base_year=base_year,\n",
    "              include_names=True)"
   ],
   "metadata": {
    "collapsed": false,
    "pycharm": {
     "name": "#%%\n"
    }
   }
  },
  {
   "cell_type": "markdown",
   "source": [
    "## 4. Load the indicators and get the DataFrame\n",
    "\n",
    "Then we loop through all your assigned indicators and tell ODAData to load them.\n",
    "\n",
    "We have added the method `add_share_of_total` which calculates the relevant share of the indicator of the donors total."
   ],
   "metadata": {
    "collapsed": false,
    "pycharm": {
     "name": "#%% md\n"
    }
   }
  },
  {
   "cell_type": "code",
   "execution_count": 8,
   "outputs": [
    {
     "data": {
      "text/plain": "     year                      indicator  donor_code      donor_name  \\\n0    2012                            gni          12  United Kingdom   \n1    2012                      idrc_flow          12  United Kingdom   \n2    2012                 idrc_ge_linked          12  United Kingdom   \n3    2012              one_core_oda_flow          12  United Kingdom   \n4    2012   total_oda_bilateral_flow_net          12  United Kingdom   \n..    ...                            ...         ...             ...   \n151  2021      total_oda_multilateral_ge          12  United Kingdom   \n152  2021      total_oda_non_grants_flow          12  United Kingdom   \n153  2021        total_oda_non_grants_ge          12  United Kingdom   \n154  2021  total_oda_official_definition          12  United Kingdom   \n155  2021                   total_psi_ge          12  United Kingdom   \n\n                          share_of currency    prices         value      share  \n0                              NaN      GBP  constant  1.876459e+06        NaN  \n1               total_oda_flow_net      GBP  constant  3.412661e+01    0.32365  \n2                              NaN      GBP  constant  3.412661e+01        NaN  \n3               total_oda_flow_net      GBP  constant  1.039835e+04   98.61670  \n4               total_oda_flow_net      GBP  constant  6.577411e+03   62.37935  \n..                             ...      ...       ...           ...        ...  \n151                   total_oda_ge      GBP  constant  4.276919e+03   37.44250  \n152             total_oda_flow_net      GBP  constant  8.975469e+02    7.58451  \n153                   total_oda_ge      GBP  constant  8.734614e+02    7.64676  \n154  total_oda_official_definition      GBP  constant  1.142263e+04  100.00000  \n155                   total_oda_ge      GBP  constant  6.691962e+02    5.85851  \n\n[156 rows x 9 columns]",
      "text/html": "<div>\n<style scoped>\n    .dataframe tbody tr th:only-of-type {\n        vertical-align: middle;\n    }\n\n    .dataframe tbody tr th {\n        vertical-align: top;\n    }\n\n    .dataframe thead th {\n        text-align: right;\n    }\n</style>\n<table border=\"1\" class=\"dataframe\">\n  <thead>\n    <tr style=\"text-align: right;\">\n      <th></th>\n      <th>year</th>\n      <th>indicator</th>\n      <th>donor_code</th>\n      <th>donor_name</th>\n      <th>share_of</th>\n      <th>currency</th>\n      <th>prices</th>\n      <th>value</th>\n      <th>share</th>\n    </tr>\n  </thead>\n  <tbody>\n    <tr>\n      <th>0</th>\n      <td>2012</td>\n      <td>gni</td>\n      <td>12</td>\n      <td>United Kingdom</td>\n      <td>NaN</td>\n      <td>GBP</td>\n      <td>constant</td>\n      <td>1.876459e+06</td>\n      <td>NaN</td>\n    </tr>\n    <tr>\n      <th>1</th>\n      <td>2012</td>\n      <td>idrc_flow</td>\n      <td>12</td>\n      <td>United Kingdom</td>\n      <td>total_oda_flow_net</td>\n      <td>GBP</td>\n      <td>constant</td>\n      <td>3.412661e+01</td>\n      <td>0.32365</td>\n    </tr>\n    <tr>\n      <th>2</th>\n      <td>2012</td>\n      <td>idrc_ge_linked</td>\n      <td>12</td>\n      <td>United Kingdom</td>\n      <td>NaN</td>\n      <td>GBP</td>\n      <td>constant</td>\n      <td>3.412661e+01</td>\n      <td>NaN</td>\n    </tr>\n    <tr>\n      <th>3</th>\n      <td>2012</td>\n      <td>one_core_oda_flow</td>\n      <td>12</td>\n      <td>United Kingdom</td>\n      <td>total_oda_flow_net</td>\n      <td>GBP</td>\n      <td>constant</td>\n      <td>1.039835e+04</td>\n      <td>98.61670</td>\n    </tr>\n    <tr>\n      <th>4</th>\n      <td>2012</td>\n      <td>total_oda_bilateral_flow_net</td>\n      <td>12</td>\n      <td>United Kingdom</td>\n      <td>total_oda_flow_net</td>\n      <td>GBP</td>\n      <td>constant</td>\n      <td>6.577411e+03</td>\n      <td>62.37935</td>\n    </tr>\n    <tr>\n      <th>...</th>\n      <td>...</td>\n      <td>...</td>\n      <td>...</td>\n      <td>...</td>\n      <td>...</td>\n      <td>...</td>\n      <td>...</td>\n      <td>...</td>\n      <td>...</td>\n    </tr>\n    <tr>\n      <th>151</th>\n      <td>2021</td>\n      <td>total_oda_multilateral_ge</td>\n      <td>12</td>\n      <td>United Kingdom</td>\n      <td>total_oda_ge</td>\n      <td>GBP</td>\n      <td>constant</td>\n      <td>4.276919e+03</td>\n      <td>37.44250</td>\n    </tr>\n    <tr>\n      <th>152</th>\n      <td>2021</td>\n      <td>total_oda_non_grants_flow</td>\n      <td>12</td>\n      <td>United Kingdom</td>\n      <td>total_oda_flow_net</td>\n      <td>GBP</td>\n      <td>constant</td>\n      <td>8.975469e+02</td>\n      <td>7.58451</td>\n    </tr>\n    <tr>\n      <th>153</th>\n      <td>2021</td>\n      <td>total_oda_non_grants_ge</td>\n      <td>12</td>\n      <td>United Kingdom</td>\n      <td>total_oda_ge</td>\n      <td>GBP</td>\n      <td>constant</td>\n      <td>8.734614e+02</td>\n      <td>7.64676</td>\n    </tr>\n    <tr>\n      <th>154</th>\n      <td>2021</td>\n      <td>total_oda_official_definition</td>\n      <td>12</td>\n      <td>United Kingdom</td>\n      <td>total_oda_official_definition</td>\n      <td>GBP</td>\n      <td>constant</td>\n      <td>1.142263e+04</td>\n      <td>100.00000</td>\n    </tr>\n    <tr>\n      <th>155</th>\n      <td>2021</td>\n      <td>total_psi_ge</td>\n      <td>12</td>\n      <td>United Kingdom</td>\n      <td>total_oda_ge</td>\n      <td>GBP</td>\n      <td>constant</td>\n      <td>6.691962e+02</td>\n      <td>5.85851</td>\n    </tr>\n  </tbody>\n</table>\n<p>156 rows × 9 columns</p>\n</div>"
     },
     "execution_count": 8,
     "metadata": {},
     "output_type": "execute_result"
    }
   ],
   "source": [
    "# Add all the indicators in our `indicators` list\n",
    "for indicator in indicators:\n",
    "    oda.load_indicator(indicator)\n",
    "\n",
    "# get a DataFrame with all the dat\n",
    "df = oda.add_share_of_total(True).get_data('all')\n",
    "\n",
    "# show the resulting dataframe\n",
    "df"
   ],
   "metadata": {
    "collapsed": false,
    "pycharm": {
     "name": "#%%\n"
    }
   }
  },
  {
   "cell_type": "markdown",
   "source": [
    "## Optionally export DataFrame as CSV\n",
    "\n",
    "Finally, we export the DataFrame as a CSV."
   ],
   "metadata": {
    "collapsed": false,
    "pycharm": {
     "name": "#%% md\n"
    }
   }
  },
  {
   "cell_type": "code",
   "execution_count": 9,
   "outputs": [],
   "source": [
    "df.to_csv(r'../uk_oda_test/output/UK_oda_DAC1.csv', index = False)"
   ],
   "metadata": {
    "collapsed": false,
    "pycharm": {
     "name": "#%%\n"
    }
   }
  },
  {
   "cell_type": "code",
   "execution_count": 9,
   "outputs": [],
   "source": [],
   "metadata": {
    "collapsed": false,
    "pycharm": {
     "name": "#%%\n"
    }
   }
  }
 ],
 "metadata": {
  "kernelspec": {
   "display_name": "Python 3",
   "language": "python",
   "name": "python3"
  },
  "language_info": {
   "codemirror_mode": {
    "name": "ipython",
    "version": 2
   },
   "file_extension": ".py",
   "mimetype": "text/x-python",
   "name": "python",
   "nbconvert_exporter": "python",
   "pygments_lexer": "ipython2",
   "version": "2.7.6"
  }
 },
 "nbformat": 4,
 "nbformat_minor": 0
}