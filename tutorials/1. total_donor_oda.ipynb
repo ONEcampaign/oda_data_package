{
 "cells": [
  {
   "cell_type": "markdown",
   "source": [
    "# ODA data by Donor\n",
    "This tutorial shows you how to build a Pandas DataFrame containing ODA data from any number of donors over a range of years and multiple different indicators.\n",
    "\n",
    "The tutorial has the following steps:\n",
    "1. Import `ODAData`, the main tool used to interact with the data\n",
    "2. Create an instance of `ODAData` with the specific arguments you would like to use\n",
    "3. Load the indicators and get the DataFrame\n",
    "4. Optionally, export the DataFrame"
   ],
   "metadata": {
    "collapsed": false
   }
  },
  {
   "cell_type": "markdown",
   "source": [
    "## 1. Import ODAData\n",
    "\n",
    "We can gather the data we need using the `ODAData` class. An object from this class can:\n",
    "    - Get data for specific indicators\n",
    "    - Optionally, filter the data for specific donors, recipients and years\n",
    "    - Optionally, exchange and deflate data\n",
    "\n",
    "The `oda_data` package automatically downloads the relevant datasets (i.e. DAC1, DAC2a or CRS tables) depending on the indicators selected in step 2.\n",
    "\n",
    "It is highly recommended that you specify the folder where you want to store, and from where you want to read, this raw data. This must be done once in each notebook or script where we use the `oda_data` package. You can specify the data path if the raw data has already been downloaded, or if you haven't yet specified the download path in your notebook and script."
   ],
   "metadata": {
    "collapsed": false
   }
  },
  {
   "cell_type": "code",
   "execution_count": 1,
   "outputs": [],
   "source": [
    "from oda_data import ODAData, set_data_path\n",
    "\n",
    "# If you haven't set the data path, you can do it now.\n",
    "set_data_path(path=\"../tutorials/data\")"
   ],
   "metadata": {
    "collapsed": false
   }
  },
  {
   "cell_type": "markdown",
   "source": [
    "# 2. Create an instance of ODAData\n",
    "\n",
    "Next, we need to set the right arguments which are used to create an instance of ODAData to produce the right DataFrame. The arguments required are:\n",
    "- *years*: you must specify the `years`, as an `int`, `list` or `range`\n",
    "- *donors*: you can _optionally_ specify the `donors` you want the output to have (as `int`, or `list`) of donor codes.\n",
    "- *recipients*: you can _optionally_ specify the `recipients` you want the output to have. Not all indicators\n",
    "    need or accept recipients. If using an indicator for which recipients are not an option, a warning will be logged to\n",
    "    the console and the recipients ignored for that indicator.\n",
    "- *currency*: you can _optionally_ specify the `currency` in which you want your data to be shown. If not specified,\n",
    "    by default, `USD` will be used. Other options include `EUR`, `GBP` and `CAN`.\n",
    "- *prices*: you can _optionally_ specify the `prices` in which you want your data to be shown. If not specified,\n",
    "    by default, `current` will be used. The other option is `constant`. If specifying `constant` a `base_year` must be set.\n",
    "- *base_year*: you must specify a `base_year` if you have set `prices = 'constant'`. If you have chosen `current` prices,\n",
    "    by default, `base_year` will be `None`."
   ],
   "metadata": {
    "collapsed": false
   }
  },
  {
   "cell_type": "markdown",
   "source": [
    "You can use a few methods provided by the ODAData object to see the available donors and currencies. If relevant, you can also see available recipients using the `available_recipients()` method.\n",
    "\n",
    "For example:"
   ],
   "metadata": {
    "collapsed": false
   }
  },
  {
   "cell_type": "code",
   "execution_count": 2,
   "outputs": [
    {
     "name": "stderr",
     "output_type": "stream",
     "text": [
      "INFO 2023-02-06 12:47:10,214 [oda_data.py:available_donors:445] Note that not all donors may be available for all indicators\n"
     ]
    },
    {
     "data": {
      "text/plain": "{\n1: Austria,\n2: Belgium,\n3: Denmark,\n4: France,\n5: Germany,\n6: Italy,\n7: Netherlands,\n8: Norway,\n9: Portugal,\n10: Sweden,\n11: Switzerland,\n12: United Kingdom,\n18: Finland,\n20: Iceland,\n21: Ireland,\n22: Luxembourg,\n40: Greece,\n50: Spain,\n61: Slovenia,\n68: Czech Republic,\n69: Slovak Republic,\n75: Hungary,\n76: Poland,\n301: Canada,\n302: United States,\n701: Japan,\n742: Korea,\n801: Australia,\n820: New Zealand,\n30: Cyprus,\n45: Malta,\n55: Turkey,\n62: Croatia,\n70: Liechtenstein,\n72: Bulgaria,\n77: Romania,\n82: Estonia,\n83: Latvia,\n84: Lithuania,\n87: Russia,\n130: Algeria,\n133: Libya,\n358: Mexico,\n543: Iraq,\n546: Israel,\n552: Kuwait,\n561: Qatar,\n566: Saudi Arabia,\n576: United Arab Emirates,\n611: Azerbaijan,\n613: Kazakhstan,\n732: Chinese Taipei,\n764: Thailand,\n765: Timor-Leste,\n104: Nordic Development Fund,\n807: UNEP,\n811: Global Environment Facility,\n812: Montreal Protocol,\n901: International Bank for Reconstruction and Development,\n902: Multilateral Investment Guarantee Agency,\n903: International Finance Corporation,\n905: International Development Association,\n906: Caribbean Development Bank,\n907: International Monetary Fund,\n909: Inter-American Development Bank,\n913: African Development Bank,\n914: African Development Fund,\n915: Asian Development Bank,\n921: Arab Fund (AFESD),\n923: UN Peacebuilding Fund,\n926: Council of Europe,\n928: World Health Organisation,\n932: Food and Agriculture Organisation,\n940: International Labour Organisation,\n944: International Atomic Energy Agency,\n948: UNECE,\n951: OPEC Fund for International Development,\n952: OAPEC,\n953: Arab Bank for Economic Development in Africa,\n954: Special Arab Aid Fund for Africa,\n956: IMF Trust Fund,\n958: IMF (Concessional Trust Funds),\n959: UNDP,\n960: UNTA,\n963: UNICEF,\n964: UNRWA,\n966: WFP,\n967: UNHCR,\n971: UNAIDS,\n974: UNFPA,\n976: Islamic Development Bank,\n978: OSCE,\n979: Islamic Monetary Fund,\n980: Arab Fund for Technical Assistance to African and Arab Countries,\n981: Black Sea Trade & Development Bank,\n982: GODE,\n983: Other Arab Agencies,\n988: IFAD,\n990: European Bank for Reconstruction and Development,\n992: UN AGENCIES,\n997: Global Partnership for Education,\n1011: Climate Investment Funds,\n1012: Adaptation Fund,\n1013: Council of Europe Development Bank,\n1014: Private Infrastructure Development Group,\n1015: Development Bank of Latin America,\n1016: Green Climate Fund,\n1017: Credit Guarantee and Investment Facility,\n1018: Global Energy Efficiency and Renewable Energy Fund,\n1019: IDB Invest,\n1020: Central Emergency Response Fund,\n1023: World Tourism Organisation,\n1024: Asian Infrastructure Investment Bank,\n1025: Center of Excellence in Finance,\n1037: International Investment Bank,\n1311: Global Alliance for Vaccines and Immunization,\n1312: Global Fund,\n1313: Global Green Growth Institute,\n918: EU Institutions,\n20001: DAC Countries, Total,\n20002: Multilaterals, Total,\n20003: G7 Countries, Total,\n20005: Official Donors, Total,\n20006: Non-DAC Countries, Total,\n20012: World Bank Group, Total,\n20013: International Monetary Fund, Total,\n20014: Inter-American Development Bank, Total,\n20015: Asian Development Bank, Total,\n20016: African Development Bank, Total,\n20021: United Nations, Total,\n20022: Regional Development Banks, Total,\n20033: World Bank, Total,\n20034: Other Multilateral, Total,\n20035: United Postcode Lotteries, Total,\n21600: Private Donors, Total\n}"
     },
     "execution_count": 2,
     "metadata": {},
     "output_type": "execute_result"
    }
   ],
   "source": [
    "# print a list of available donors\n",
    "ODAData().available_donors()"
   ],
   "metadata": {
    "collapsed": false
   }
  },
  {
   "cell_type": "markdown",
   "source": [
    "Next, in order to get the data we want, we will create an instance of the `ODAData` class by specifying the correct arguments.\n",
    "\n",
    "We will store this instance in a variable called `oda`, which we will use later to load the indicators and get the DataFrame we're after.\n",
    "\n",
    "Below are some example settings for this tutorial. For clarity, we will first store them in variables, but you can\n",
    "always pass them directly as arguments to the `ODAData` class."
   ],
   "metadata": {
    "collapsed": false
   }
  },
  {
   "cell_type": "code",
   "execution_count": 3,
   "outputs": [],
   "source": [
    "# Select years as (for example) a range. Remember ranges are exclusive of the upper bound.\n",
    "years = range(2012, 2021)\n",
    "\n",
    "# Select donors, which must be specified by their codes. To get all donors, do not use this argument.\n",
    "donors = [4, 12, 302]\n",
    "\n",
    "# Select the currency. By default 'USD' is shown but we'll get the data in Euros.\n",
    "currency = 'EUR'\n",
    "\n",
    "# Select the prices. By default, 'current' is shown, but we'll get the data in constant prices.\n",
    "prices = 'constant'\n",
    "\n",
    "# Set the base year. We must set this given that we've asked for constant data.\n",
    "base_year = 2021\n",
    "\n",
    "# Instantiate the `ODAData` class and store it in a variable called 'oda'\n",
    "oda = ODAData(years=years,\n",
    "              donors=donors,\n",
    "              currency=currency,\n",
    "              prices=prices,\n",
    "              base_year=base_year,\n",
    "              include_names=True)"
   ],
   "metadata": {
    "collapsed": false
   }
  },
  {
   "cell_type": "markdown",
   "source": [
    "## 3. Load the indicators and get the DataFrame\n",
    "\n",
    "Then we tell `oda` to load the indicator(s) that are useful for our analysis. For this tutorial, we will use the *\"total_oda_official_definition\"* indicator, which follows the official standards of measuring total ODA set by the OECD (i.e. grant equivalent measure from 2018). You can also set a list of indicators if needed.\n",
    "\n",
    "A full list of indicators can be seen by using the `.available_indicators()` method.\n",
    "\n"
   ],
   "metadata": {
    "collapsed": false
   }
  },
  {
   "cell_type": "code",
   "execution_count": 4,
   "outputs": [
    {
     "data": {
      "text/plain": "[\ntotal_oda_flow_net,\ntotal_oda_ge,\ntotal_oda_official_definition,\ntotal_oda_bilateral_flow_net,\ntotal_oda_bilateral_ge,\ntotal_oda_multilateral_flow_net,\ntotal_oda_multilateral_ge,\ntotal_oda_flow_gross,\ntotal_oda_flow_commitments,\ntotal_oda_grants_flow,\ntotal_oda_grants_ge,\ntotal_oda_non_grants_flow,\ntotal_oda_non_grants_ge,\ntotal_covid_oda_ge,\ntotal_covid_oda_flow,\ntotal_covid_oda_ge_linked,\ntotal_health_covid_oda_ge,\ntotal_health_covid_oda_flow,\ntotal_health_covid_oda_ge_linked,\ntotal_covid_vaccine_donations_oda_ge,\ntotal_covid_vaccine_donations_oda_flow,\ntotal_covid_vaccine_donations_oda_ge_linked,\ntotal_covid_vaccine_donations_domestic_supply_oda_ge,\ntotal_covid_vaccine_donations_domestic_supply_oda_flow,\ntotal_covid_vaccine_donations_domestic_supply_oda_ge_linked,\ntotal_covid_vaccine_donations_dev_purchase_oda_ge,\ntotal_covid_vaccine_donations_dev_purchase_oda_flow,\ntotal_covid_vaccine_donations_dev_purchase_oda_ge_linked,\ntotal_covid_ancillary_oda_ge,\ntotal_covid_ancillary_oda_flow,\ntotal_covid_ancillary_oda_ge_linked,\ngni,\noda_gni_flow,\noda_gni_ge,\ntotal_in_donor_students_flow,\ntotal_in_donor_students_ge,\ntotal_in_donor_students_ge_linked,\nscholarships_flow,\nscholarships_ge,\nscholarships_ge_linked,\nimputed_students_flow,\nimputed_students_ge,\nimputed_students_linked,\ndebt_relief_flow,\ndebt_relief_ge,\nidrc_flow,\nidrc_ge,\nidrc_ge_linked,\neu_core_flow,\neu_core_ge,\neu_core_ge_linked,\none_non_core_oda_flow,\none_non_core_oda_ge,\none_non_core_oda_ge_linked,\none_core_oda_flow,\none_core_oda_ge,\none_core_oda_ge_linked,\ntotal_psi_flow,\ntotal_psi_ge,\ntotal_psi_flow_linked,\ninstitutional_psi_flow,\ninstitutional_psi_ge,\ninstitutional_psi_flow_linked,\ninstrument_psi_flow,\ninstrument_psi_ge,\ninstrument_psi_flow_linked,\nrecipient_imputed_multi_flow_net,\nrecipient_bilateral_flow_net,\nrecipient_bilateral_flow_gross,\nrecipient_loans_flow_gross,\nrecipient_loans_flow_net,\nrecipient_interest_received_flow,\nrecipient_humanitarian_flow,\nrecipient_grants_flow,\nrecipient_total_flow_net,\ncrs_bilateral_flow_disbursement_gross,\ncrs_bilateral_all_flows_disbursement_gross,\ncrs_gender_significant_flow_disbursement_gross,\ncrs_gender_principal_flow_disbursement_gross,\ncrs_gender_not_targeted_flow_disbursement_gross,\ncrs_gender_not_screened_flow_disbursement_gross,\ncrs_gender_allocable_flow_disbursement_gross,\ncrs_gender_allocable_total_flow_disbursement_gross,\ncrs_gender_total_flow_gross,\ncrs_bilateral_total_flow_gross_by_purpose,\nmultisystem_multilateral_contributions_disbursement_gross,\nmultisystem_multilateral_contributions_commitments_gross,\nimputed_multi_flow_disbursement_gross,\ntotal_bi_multi_flow_disbursement_gross,\ncrs_climate_allocable_flow_disbursement_gross,\ncrs_climate_mitigation_significant_flow_disbursement_gross,\ncrs_climate_mitigation_principal_flow_disbursement_gross,\ncrs_climate_mitigation_not_targeted_flow_disbursement_gross,\ncrs_climate_mitigation_not_screened_flow_disbursement_gross,\ncrs_climate_mitigation_total_flow_gross,\ncrs_climate_adaptation_significant_flow_disbursement_gross,\ncrs_climate_adaptation_principal_flow_disbursement_gross,\ncrs_climate_adaptation_not_targeted_flow_disbursement_gross,\ncrs_climate_adaptation_not_screened_flow_disbursement_gross,\ncrs_climate_adaptation_total_flow_gross,\ncrs_climate_mitigation_adaptation_overlap_significant_flow_disbursement_gross\n]"
     },
     "execution_count": 4,
     "metadata": {},
     "output_type": "execute_result"
    }
   ],
   "source": [
    "# print available indicators\n",
    "ODAData().available_indicators()"
   ],
   "metadata": {
    "collapsed": false
   }
  },
  {
   "cell_type": "code",
   "execution_count": 5,
   "outputs": [
    {
     "name": "stderr",
     "output_type": "stream",
     "text": [
      "INFO 2023-02-06 12:47:10,229 [read.py:read_dac1:50] DAC1 data not found. Downloading...\n",
      "INFO 2023-02-06 12:47:10,229 [dac1.py:download_dac1:13] Downloading DAC1 data... This may take a while.\n",
      "INFO 2023-02-06 12:47:23,335 [common.py:download_single_table:188] Table1_Data.csv data downloaded and saved.\n"
     ]
    },
    {
     "name": "stdout",
     "output_type": "stream",
     "text": [
      "Data not found, downloading...\n",
      "Downloading DAC1 data, which may take a bit\n",
      "Successfully downloaded DAC1 data\n"
     ]
    },
    {
     "data": {
      "text/plain": "    year                      indicator  donor_code      donor_name currency  \\\n0   2012  total_oda_official_definition           4          France      EUR   \n1   2012  total_oda_official_definition          12  United Kingdom      EUR   \n2   2012  total_oda_official_definition         302   United States      EUR   \n3   2013  total_oda_official_definition           4          France      EUR   \n4   2013  total_oda_official_definition          12  United Kingdom      EUR   \n5   2013  total_oda_official_definition         302   United States      EUR   \n6   2014  total_oda_official_definition           4          France      EUR   \n7   2014  total_oda_official_definition          12  United Kingdom      EUR   \n8   2014  total_oda_official_definition         302   United States      EUR   \n9   2015  total_oda_official_definition           4          France      EUR   \n10  2015  total_oda_official_definition          12  United Kingdom      EUR   \n11  2015  total_oda_official_definition         302   United States      EUR   \n12  2016  total_oda_official_definition           4          France      EUR   \n13  2016  total_oda_official_definition          12  United Kingdom      EUR   \n14  2016  total_oda_official_definition         302   United States      EUR   \n15  2017  total_oda_official_definition           4          France      EUR   \n16  2017  total_oda_official_definition          12  United Kingdom      EUR   \n17  2017  total_oda_official_definition         302   United States      EUR   \n18  2018  total_oda_official_definition           4          France      EUR   \n19  2018  total_oda_official_definition          12  United Kingdom      EUR   \n20  2018  total_oda_official_definition         302   United States      EUR   \n21  2019  total_oda_official_definition           4          France      EUR   \n22  2019  total_oda_official_definition          12  United Kingdom      EUR   \n23  2019  total_oda_official_definition         302   United States      EUR   \n24  2020  total_oda_official_definition           4          France      EUR   \n25  2020  total_oda_official_definition          12  United Kingdom      EUR   \n26  2020  total_oda_official_definition         302   United States      EUR   \n\n      prices         value  \n0   constant  10242.146429  \n1   constant  12264.354703  \n2   constant  30632.718362  \n3   constant   9275.462892  \n4   constant  15640.452866  \n5   constant  30708.893215  \n6   constant   8643.610837  \n7   constant  15759.209299  \n8   constant  31908.451418  \n9   constant   8700.266955  \n10  constant  16271.817208  \n11  constant  29578.235759  \n12  constant   9241.330146  \n13  constant  17591.369223  \n14  constant  32531.615504  \n15  constant  10620.722527  \n16  constant  18147.849421  \n17  constant  32214.156600  \n18  constant  10758.172980  \n19  constant  18413.625530  \n20  constant  30937.355936  \n21  constant  11268.598264  \n22  constant  18629.950714  \n23  constant  29806.403945  \n24  constant  12487.898040  \n25  constant  16974.644074  \n26  constant  31283.993190  ",
      "text/html": "<div>\n<style scoped>\n    .dataframe tbody tr th:only-of-type {\n        vertical-align: middle;\n    }\n\n    .dataframe tbody tr th {\n        vertical-align: top;\n    }\n\n    .dataframe thead th {\n        text-align: right;\n    }\n</style>\n<table border=\"1\" class=\"dataframe\">\n  <thead>\n    <tr style=\"text-align: right;\">\n      <th></th>\n      <th>year</th>\n      <th>indicator</th>\n      <th>donor_code</th>\n      <th>donor_name</th>\n      <th>currency</th>\n      <th>prices</th>\n      <th>value</th>\n    </tr>\n  </thead>\n  <tbody>\n    <tr>\n      <th>0</th>\n      <td>2012</td>\n      <td>total_oda_official_definition</td>\n      <td>4</td>\n      <td>France</td>\n      <td>EUR</td>\n      <td>constant</td>\n      <td>10242.146429</td>\n    </tr>\n    <tr>\n      <th>1</th>\n      <td>2012</td>\n      <td>total_oda_official_definition</td>\n      <td>12</td>\n      <td>United Kingdom</td>\n      <td>EUR</td>\n      <td>constant</td>\n      <td>12264.354703</td>\n    </tr>\n    <tr>\n      <th>2</th>\n      <td>2012</td>\n      <td>total_oda_official_definition</td>\n      <td>302</td>\n      <td>United States</td>\n      <td>EUR</td>\n      <td>constant</td>\n      <td>30632.718362</td>\n    </tr>\n    <tr>\n      <th>3</th>\n      <td>2013</td>\n      <td>total_oda_official_definition</td>\n      <td>4</td>\n      <td>France</td>\n      <td>EUR</td>\n      <td>constant</td>\n      <td>9275.462892</td>\n    </tr>\n    <tr>\n      <th>4</th>\n      <td>2013</td>\n      <td>total_oda_official_definition</td>\n      <td>12</td>\n      <td>United Kingdom</td>\n      <td>EUR</td>\n      <td>constant</td>\n      <td>15640.452866</td>\n    </tr>\n    <tr>\n      <th>5</th>\n      <td>2013</td>\n      <td>total_oda_official_definition</td>\n      <td>302</td>\n      <td>United States</td>\n      <td>EUR</td>\n      <td>constant</td>\n      <td>30708.893215</td>\n    </tr>\n    <tr>\n      <th>6</th>\n      <td>2014</td>\n      <td>total_oda_official_definition</td>\n      <td>4</td>\n      <td>France</td>\n      <td>EUR</td>\n      <td>constant</td>\n      <td>8643.610837</td>\n    </tr>\n    <tr>\n      <th>7</th>\n      <td>2014</td>\n      <td>total_oda_official_definition</td>\n      <td>12</td>\n      <td>United Kingdom</td>\n      <td>EUR</td>\n      <td>constant</td>\n      <td>15759.209299</td>\n    </tr>\n    <tr>\n      <th>8</th>\n      <td>2014</td>\n      <td>total_oda_official_definition</td>\n      <td>302</td>\n      <td>United States</td>\n      <td>EUR</td>\n      <td>constant</td>\n      <td>31908.451418</td>\n    </tr>\n    <tr>\n      <th>9</th>\n      <td>2015</td>\n      <td>total_oda_official_definition</td>\n      <td>4</td>\n      <td>France</td>\n      <td>EUR</td>\n      <td>constant</td>\n      <td>8700.266955</td>\n    </tr>\n    <tr>\n      <th>10</th>\n      <td>2015</td>\n      <td>total_oda_official_definition</td>\n      <td>12</td>\n      <td>United Kingdom</td>\n      <td>EUR</td>\n      <td>constant</td>\n      <td>16271.817208</td>\n    </tr>\n    <tr>\n      <th>11</th>\n      <td>2015</td>\n      <td>total_oda_official_definition</td>\n      <td>302</td>\n      <td>United States</td>\n      <td>EUR</td>\n      <td>constant</td>\n      <td>29578.235759</td>\n    </tr>\n    <tr>\n      <th>12</th>\n      <td>2016</td>\n      <td>total_oda_official_definition</td>\n      <td>4</td>\n      <td>France</td>\n      <td>EUR</td>\n      <td>constant</td>\n      <td>9241.330146</td>\n    </tr>\n    <tr>\n      <th>13</th>\n      <td>2016</td>\n      <td>total_oda_official_definition</td>\n      <td>12</td>\n      <td>United Kingdom</td>\n      <td>EUR</td>\n      <td>constant</td>\n      <td>17591.369223</td>\n    </tr>\n    <tr>\n      <th>14</th>\n      <td>2016</td>\n      <td>total_oda_official_definition</td>\n      <td>302</td>\n      <td>United States</td>\n      <td>EUR</td>\n      <td>constant</td>\n      <td>32531.615504</td>\n    </tr>\n    <tr>\n      <th>15</th>\n      <td>2017</td>\n      <td>total_oda_official_definition</td>\n      <td>4</td>\n      <td>France</td>\n      <td>EUR</td>\n      <td>constant</td>\n      <td>10620.722527</td>\n    </tr>\n    <tr>\n      <th>16</th>\n      <td>2017</td>\n      <td>total_oda_official_definition</td>\n      <td>12</td>\n      <td>United Kingdom</td>\n      <td>EUR</td>\n      <td>constant</td>\n      <td>18147.849421</td>\n    </tr>\n    <tr>\n      <th>17</th>\n      <td>2017</td>\n      <td>total_oda_official_definition</td>\n      <td>302</td>\n      <td>United States</td>\n      <td>EUR</td>\n      <td>constant</td>\n      <td>32214.156600</td>\n    </tr>\n    <tr>\n      <th>18</th>\n      <td>2018</td>\n      <td>total_oda_official_definition</td>\n      <td>4</td>\n      <td>France</td>\n      <td>EUR</td>\n      <td>constant</td>\n      <td>10758.172980</td>\n    </tr>\n    <tr>\n      <th>19</th>\n      <td>2018</td>\n      <td>total_oda_official_definition</td>\n      <td>12</td>\n      <td>United Kingdom</td>\n      <td>EUR</td>\n      <td>constant</td>\n      <td>18413.625530</td>\n    </tr>\n    <tr>\n      <th>20</th>\n      <td>2018</td>\n      <td>total_oda_official_definition</td>\n      <td>302</td>\n      <td>United States</td>\n      <td>EUR</td>\n      <td>constant</td>\n      <td>30937.355936</td>\n    </tr>\n    <tr>\n      <th>21</th>\n      <td>2019</td>\n      <td>total_oda_official_definition</td>\n      <td>4</td>\n      <td>France</td>\n      <td>EUR</td>\n      <td>constant</td>\n      <td>11268.598264</td>\n    </tr>\n    <tr>\n      <th>22</th>\n      <td>2019</td>\n      <td>total_oda_official_definition</td>\n      <td>12</td>\n      <td>United Kingdom</td>\n      <td>EUR</td>\n      <td>constant</td>\n      <td>18629.950714</td>\n    </tr>\n    <tr>\n      <th>23</th>\n      <td>2019</td>\n      <td>total_oda_official_definition</td>\n      <td>302</td>\n      <td>United States</td>\n      <td>EUR</td>\n      <td>constant</td>\n      <td>29806.403945</td>\n    </tr>\n    <tr>\n      <th>24</th>\n      <td>2020</td>\n      <td>total_oda_official_definition</td>\n      <td>4</td>\n      <td>France</td>\n      <td>EUR</td>\n      <td>constant</td>\n      <td>12487.898040</td>\n    </tr>\n    <tr>\n      <th>25</th>\n      <td>2020</td>\n      <td>total_oda_official_definition</td>\n      <td>12</td>\n      <td>United Kingdom</td>\n      <td>EUR</td>\n      <td>constant</td>\n      <td>16974.644074</td>\n    </tr>\n    <tr>\n      <th>26</th>\n      <td>2020</td>\n      <td>total_oda_official_definition</td>\n      <td>302</td>\n      <td>United States</td>\n      <td>EUR</td>\n      <td>constant</td>\n      <td>31283.993190</td>\n    </tr>\n  </tbody>\n</table>\n</div>"
     },
     "execution_count": 5,
     "metadata": {},
     "output_type": "execute_result"
    }
   ],
   "source": [
    "# Create a variable with the list of indicators for this analysis.\n",
    "# The indicator can also be directly passed as an argument in the step below.\n",
    "indicators = ['total_oda_official_definition']\n",
    "\n",
    "#load the indicator(s)\n",
    "oda.load_indicator(indicators=indicators)\n",
    "\n",
    "# get a DataFrame with all the data. By default 'all' indicators are returned\n",
    "df = oda.get_data()\n",
    "\n",
    "# show the resulting dataframe\n",
    "df"
   ],
   "metadata": {
    "collapsed": false
   }
  },
  {
   "cell_type": "markdown",
   "source": [
    "## 4. Optionally export DataFrame as CSV\n",
    "\n",
    "Finally, we can export the DataFrame as a CSV if required."
   ],
   "metadata": {
    "collapsed": false
   }
  },
  {
   "cell_type": "code",
   "execution_count": 6,
   "outputs": [],
   "source": [
    "df.to_csv(r'../tutorials/output/total_donor.csv', index=False)"
   ],
   "metadata": {
    "collapsed": false
   }
  }
 ],
 "metadata": {
  "kernelspec": {
   "display_name": "Python 3",
   "language": "python",
   "name": "python3"
  },
  "language_info": {
   "codemirror_mode": {
    "name": "ipython",
    "version": 2
   },
   "file_extension": ".py",
   "mimetype": "text/x-python",
   "name": "python",
   "nbconvert_exporter": "python",
   "pygments_lexer": "ipython2",
   "version": "2.7.6"
  }
 },
 "nbformat": 4,
 "nbformat_minor": 0
}
