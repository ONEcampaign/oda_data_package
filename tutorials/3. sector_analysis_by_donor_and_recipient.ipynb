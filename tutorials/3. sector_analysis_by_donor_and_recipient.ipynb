{
 "cells": [
  {
   "cell_type": "markdown",
   "source": [
    "# ODA data by Sector (with donor and recipient)\n",
    "This tutorial shows you how to build a Pandas DataFrame containing ODA data from any number of donors to any number of recipients, across sectors available in the list of indicators, over a range of years.\n",
    "\n",
    "The tutorial has the following steps:\n",
    "1. Import `ODAData`, the main tool used to interact with the data\n",
    "2. Create an instance of `ODAData` with the specific arguments you would like to use\n",
    "3. Load the indicators and get the DataFrame\n",
    "4. Optionally, export the DataFrame"
   ],
   "metadata": {
    "collapsed": false
   }
  },
  {
   "cell_type": "markdown",
   "source": [
    "## 1. Import ODAData\n",
    "\n",
    "We can gather the data we need using the `ODAData` class. An object from this class can:\n",
    "    - Get data for specific indicators\n",
    "    - Optionally, filter the data for specific donors, recipients and years\n",
    "    - Optionally, exchange and deflate data\n",
    "\n",
    "The `oda_data` package automatically downloads the relevant datasets (i.e. DAC1, DAC2a or CRS tables) depending on the indicators selected in step 3.\n",
    "\n",
    "It is highly recommended that you specify the folder where you want to store, and from where you want to read, this raw data. This must be done once in each notebook or script where we use the `oda_data` package. You can specify the data path if the raw data has already been downloaded, or if you haven't yet specified the download path in your notebook and script."
   ],
   "metadata": {
    "collapsed": false
   }
  },
  {
   "cell_type": "code",
   "execution_count": 2,
   "outputs": [],
   "source": [
    "from oda_data import ODAData, set_data_path\n",
    "\n",
    "# in section 3, we give the option to retreive data for specific donor and recipient groupings, so we need to import the following\n",
    "from oda_data.tools.groupings import donor_groupings, recipient_groupings\n",
    "\n",
    "# If you haven't set the data path, you can do it now.\n",
    "set_data_path(path=\"../tutorials/data\")"
   ],
   "metadata": {
    "collapsed": false
   }
  },
  {
   "cell_type": "markdown",
   "source": [
    "# 2. Create an instance of ODAData\n",
    "\n",
    "Next, we need to set the right arguments which are used to create an instance of ODAData to produce the right DataFrame. The arguments required are:\n",
    "- *years*: you must specify the `years`, as an `int`, `list` or `range`\n",
    "- *donors*: you can _optionally_ specify the `donors` you want the output to have (as `int`, or `list`) of donor codes.\n",
    "- *recipients*: you can _optionally_ specify the `recipients` you want the output to have. Not all indicators\n",
    "    need or accept recipients. If using an indicator for which recipients are not an option, a warning will be logged to\n",
    "    the console and the recipients ignored for that indicator.\n",
    "- *currency*: you can _optionally_ specify the `currency` in which you want your data to be shown. If not specified,\n",
    "    by default, `USD` will be used. Other options include `EUR`, `GBP` and `CAN`.\n",
    "- *prices*: you can _optionally_ specify the `prices` in which you want your data to be shown. If not specified,\n",
    "    by default, `current` will be used. The other option is `constant`. If specifying `constant` a `base_year` must be set.\n",
    "- *base_year*: you must specify a `base_year` if you have set `prices = 'constant'`. If you have chosen `current` prices,\n",
    "    by default, `base_year` will be `None`."
   ],
   "metadata": {
    "collapsed": false
   }
  },
  {
   "cell_type": "markdown",
   "source": [
    "You can use a few methods provided by the ODAData object to see the available donors, recipients and donor/recipient groupings."
   ],
   "metadata": {
    "collapsed": false
   }
  },
  {
   "cell_type": "code",
   "execution_count": 6,
   "outputs": [
    {
     "name": "stderr",
     "output_type": "stream",
     "text": [
      "INFO 2023-02-06 12:42:25,674 [oda_data.py:available_donors:445] Note that not all donors may be available for all indicators\n"
     ]
    },
    {
     "data": {
      "text/plain": "{\n1: Austria,\n2: Belgium,\n3: Denmark,\n4: France,\n5: Germany,\n6: Italy,\n7: Netherlands,\n8: Norway,\n9: Portugal,\n10: Sweden,\n11: Switzerland,\n12: United Kingdom,\n18: Finland,\n20: Iceland,\n21: Ireland,\n22: Luxembourg,\n40: Greece,\n50: Spain,\n61: Slovenia,\n68: Czech Republic,\n69: Slovak Republic,\n75: Hungary,\n76: Poland,\n301: Canada,\n302: United States,\n701: Japan,\n742: Korea,\n801: Australia,\n820: New Zealand,\n30: Cyprus,\n45: Malta,\n55: Turkey,\n62: Croatia,\n70: Liechtenstein,\n72: Bulgaria,\n77: Romania,\n82: Estonia,\n83: Latvia,\n84: Lithuania,\n87: Russia,\n130: Algeria,\n133: Libya,\n358: Mexico,\n543: Iraq,\n546: Israel,\n552: Kuwait,\n561: Qatar,\n566: Saudi Arabia,\n576: United Arab Emirates,\n611: Azerbaijan,\n613: Kazakhstan,\n732: Chinese Taipei,\n764: Thailand,\n765: Timor-Leste,\n104: Nordic Development Fund,\n807: UNEP,\n811: Global Environment Facility,\n812: Montreal Protocol,\n901: International Bank for Reconstruction and Development,\n902: Multilateral Investment Guarantee Agency,\n903: International Finance Corporation,\n905: International Development Association,\n906: Caribbean Development Bank,\n907: International Monetary Fund,\n909: Inter-American Development Bank,\n913: African Development Bank,\n914: African Development Fund,\n915: Asian Development Bank,\n921: Arab Fund (AFESD),\n923: UN Peacebuilding Fund,\n926: Council of Europe,\n928: World Health Organisation,\n932: Food and Agriculture Organisation,\n940: International Labour Organisation,\n944: International Atomic Energy Agency,\n948: UNECE,\n951: OPEC Fund for International Development,\n952: OAPEC,\n953: Arab Bank for Economic Development in Africa,\n954: Special Arab Aid Fund for Africa,\n956: IMF Trust Fund,\n958: IMF (Concessional Trust Funds),\n959: UNDP,\n960: UNTA,\n963: UNICEF,\n964: UNRWA,\n966: WFP,\n967: UNHCR,\n971: UNAIDS,\n974: UNFPA,\n976: Islamic Development Bank,\n978: OSCE,\n979: Islamic Monetary Fund,\n980: Arab Fund for Technical Assistance to African and Arab Countries,\n981: Black Sea Trade & Development Bank,\n982: GODE,\n983: Other Arab Agencies,\n988: IFAD,\n990: European Bank for Reconstruction and Development,\n992: UN AGENCIES,\n997: Global Partnership for Education,\n1011: Climate Investment Funds,\n1012: Adaptation Fund,\n1013: Council of Europe Development Bank,\n1014: Private Infrastructure Development Group,\n1015: Development Bank of Latin America,\n1016: Green Climate Fund,\n1017: Credit Guarantee and Investment Facility,\n1018: Global Energy Efficiency and Renewable Energy Fund,\n1019: IDB Invest,\n1020: Central Emergency Response Fund,\n1023: World Tourism Organisation,\n1024: Asian Infrastructure Investment Bank,\n1025: Center of Excellence in Finance,\n1037: International Investment Bank,\n1311: Global Alliance for Vaccines and Immunization,\n1312: Global Fund,\n1313: Global Green Growth Institute,\n918: EU Institutions,\n20001: DAC Countries, Total,\n20002: Multilaterals, Total,\n20003: G7 Countries, Total,\n20005: Official Donors, Total,\n20006: Non-DAC Countries, Total,\n20012: World Bank Group, Total,\n20013: International Monetary Fund, Total,\n20014: Inter-American Development Bank, Total,\n20015: Asian Development Bank, Total,\n20016: African Development Bank, Total,\n20021: United Nations, Total,\n20022: Regional Development Banks, Total,\n20033: World Bank, Total,\n20034: Other Multilateral, Total,\n20035: United Postcode Lotteries, Total,\n21600: Private Donors, Total\n}"
     },
     "execution_count": 6,
     "metadata": {},
     "output_type": "execute_result"
    }
   ],
   "source": [
    "# print a list of available donors\n",
    "ODAData().available_donors()"
   ],
   "metadata": {
    "collapsed": false
   }
  },
  {
   "cell_type": "code",
   "execution_count": 7,
   "outputs": [
    {
     "name": "stderr",
     "output_type": "stream",
     "text": [
      "INFO 2023-02-06 12:42:27,733 [oda_data.py:available_recipients:451] Note that not all recipients may be available for all indicators\n"
     ]
    },
    {
     "data": {
      "text/plain": "{\n30: Cyprus,\n35: Gibraltar,\n45: Malta,\n55: Turkey,\n57: Kosovo,\n61: Slovenia,\n62: Croatia,\n63: Serbia,\n64: Bosnia and Herzegovina,\n65: Montenegro,\n66: North Macedonia,\n71: Albania,\n85: Ukraine,\n86: Belarus,\n88: States Ex-Yugoslavia unspecified,\n89: Europe, regional,\n93: Moldova,\n130: Algeria,\n133: Libya,\n136: Morocco,\n139: Tunisia,\n142: Egypt,\n189: North of Sahara, regional,\n218: South Africa,\n225: Angola,\n227: Botswana,\n228: Burundi,\n229: Cameroon,\n230: Cabo Verde,\n231: Central African Republic,\n232: Chad,\n233: Comoros,\n234: Congo,\n235: Democratic Republic of the Congo,\n236: Benin,\n237: East African Community,\n238: Ethiopia,\n239: Gabon,\n240: Gambia,\n241: Ghana,\n243: Guinea,\n244: Guinea-Bissau,\n245: Equatorial Guinea,\n247: Cote d'Ivoire,\n248: Kenya,\n249: Lesotho,\n251: Liberia,\n252: Madagascar,\n253: Malawi,\n255: Mali,\n256: Mauritania,\n257: Mauritius,\n258: Mayotte,\n259: Mozambique,\n260: Niger,\n261: Nigeria,\n265: Zimbabwe,\n266: Rwanda,\n268: Sao Tome and Principe,\n269: Senegal,\n270: Seychelles,\n271: Eritrea,\n272: Sierra Leone,\n273: Somalia,\n274: Djibouti,\n275: Namibia,\n276: Saint Helena,\n278: Sudan,\n279: South Sudan,\n280: Eswatini,\n282: Tanzania,\n283: Togo,\n285: Uganda,\n287: Burkina Faso,\n288: Zambia,\n289: South of Sahara, regional,\n298: Africa, regional,\n328: Bahamas,\n329: Barbados,\n331: Bermuda,\n336: Costa Rica,\n338: Cuba,\n340: Dominican Republic,\n342: El Salvador,\n347: Guatemala,\n349: Haiti,\n351: Honduras,\n352: Belize,\n354: Jamaica,\n358: Mexico,\n361: Netherlands Antilles,\n364: Nicaragua,\n366: Panama,\n373: Aruba,\n375: Trinidad and Tobago,\n376: Anguilla,\n377: Antigua and Barbuda,\n378: Dominica,\n381: Grenada,\n382: Saint Kitts and Nevis,\n383: Saint Lucia,\n384: Saint Vincent and the Grenadines,\n385: Montserrat,\n386: Cayman Islands,\n387: Turks and Caicos Islands,\n388: British Virgin Islands,\n389: Caribbean & Central America, regional,\n425: Argentina,\n428: Bolivia,\n431: Brazil,\n434: Chile,\n437: Colombia,\n440: Ecuador,\n446: Guyana,\n451: Paraguay,\n454: Peru,\n457: Suriname,\n460: Uruguay,\n463: Venezuela,\n489: South America, regional,\n498: America, regional,\n530: Bahrain,\n540: Iran,\n543: Iraq,\n546: Israel,\n549: Jordan,\n550: West Bank and Gaza Strip,\n552: Kuwait,\n555: Lebanon,\n558: Oman,\n561: Qatar,\n566: Saudi Arabia,\n573: Syrian Arab Republic,\n576: United Arab Emirates,\n580: Yemen,\n589: Middle East, regional,\n610: Armenia,\n611: Azerbaijan,\n612: Georgia,\n613: Kazakhstan,\n614: Kyrgyzstan,\n615: Tajikistan,\n616: Turkmenistan,\n617: Uzbekistan,\n619: Central Asia, regional,\n625: Afghanistan,\n630: Bhutan,\n635: Myanmar,\n640: Sri Lanka,\n645: India,\n650: Indus Basin,\n655: Maldives,\n660: Nepal,\n665: Pakistan,\n666: Bangladesh,\n679: South Asia, regional,\n689: South & Central Asia, regional,\n725: Brunei Darussalam,\n728: Cambodia,\n730: China (People's Republic of),\n732: Chinese Taipei,\n735: Hong Kong (China),\n738: Indonesia,\n740: Democratic People's Republic of Korea,\n742: Korea,\n745: Lao People's Democratic Republic,\n748: Macau (China),\n751: Malaysia,\n753: Mongolia,\n755: Philippines,\n761: Singapore,\n764: Thailand,\n765: Timor-Leste,\n769: Viet Nam,\n789: Far East Asia, regional,\n798: Asia, regional,\n816: Other Regional Banks,\n831: Cook Islands,\n832: Fiji,\n836: Kiribati,\n840: French Polynesia,\n845: Nauru,\n850: New Caledonia,\n854: Vanuatu,\n856: Niue,\n858: Northern Mariana Islands,\n859: Marshall Islands,\n860: Micronesia,\n861: Palau,\n862: Papua New Guinea,\n866: Solomon Islands,\n868: Tokelau,\n870: Tonga,\n872: Tuvalu,\n876: Wallis and Futuna,\n880: Samoa,\n889: Oceania, regional,\n900: Other World Bank (AMCs),\n901: IBRD,\n902: MIGA,\n903: IFC,\n904: IDA-MDRI,\n905: IDA,\n906: Caribbean Dev. Bank,\n907: IMF,\n909: IDB,\n910: CABEI,\n912: IDB Special Oper. Fund,\n913: Af. D B,\n914: African Dev. Fund,\n915: Asian Dev. Bank,\n916: AsDB Special Funds,\n917: EC,\n918: EDF,\n919: EIB,\n927: Other EU institutions,\n959: UNDP,\n963: UNICEF,\n964: UNRWA,\n966: WFP,\n967: UNHCR,\n974: UNFPA,\n975: Other UN,\n988: IFAD,\n989: Other Multilateral,\n1031: Caribbean, regional,\n9998: Developing countries, unspecified,\n10001: Africa, Total,\n10002: North of Sahara, Total,\n10003: South of Sahara, Total,\n10004: America, Total,\n10005: Caribbean & Central America, Total,\n10006: South America, Total,\n10007: Asia, Total,\n10008: Far East Asia, Total,\n10009: South & Central Asia, Total,\n10010: Europe, Total,\n10011: Middle East, Total,\n10012: Oceania, Total,\n10013: CEEC, Total,\n10014: NIS, Total,\n10016: LDCs, Total,\n10017: Other LICs, Total,\n10018: LMICs, Total,\n10019: UMICs, Total,\n10024: Part I Unallocated by income,\n10025: MADCTs, Total,\n10026: Part II Countries, Total,\n10030: HIPCs, Total,\n10040: ACP Countries, Total,\n10041: Club du Sahel, Total,\n10045: WorldBank Low income countries,\n10046: WorldBank Lower-middle income countries,\n10047: WorldBank Upper-middle income countries,\n10048: WorldBank High income countries,\n10049: Countries not classified by the World Bank,\n10050: Eastern Africa, Total,\n10051: Middle Africa, Total,\n10052: Southern Africa, Total,\n10053: Western Africa, Total,\n10054: Caribbean, Total,\n10055: Central America, Total,\n10056: Northern America, Total,\n10057: Melanesia, Total,\n10058: Micronesia, Total,\n10059: Polynesia, Total,\n10100: Developing Countries, Total,\n10150: All Multilateral Recipients, Total,\n10200: All Recipients, Total,\n10201: Land-Locked countries, Total,\n10202: Small island states, Total,\n10203: Fragile states, Total,\n1027: Eastern Africa, regional,\n1030: Western Africa, regional,\n1028: Middle Africa, regional,\n1029: Southern Africa, regional,\n1032: Central America, regional,\n1033: Melanesia, regional,\n1034: Micronesia, regional\n}"
     },
     "execution_count": 7,
     "metadata": {},
     "output_type": "execute_result"
    }
   ],
   "source": [
    "# print a list of available recipients\n",
    "ODAData().available_recipients()"
   ],
   "metadata": {
    "collapsed": false
   }
  },
  {
   "cell_type": "code",
   "execution_count": 8,
   "outputs": [
    {
     "name": "stdout",
     "output_type": "stream",
     "text": [
      "dict_keys(['dac_members', 'dac_countries', 'non_dac_countries', 'multilateral', 'all_bilateral', 'all_official', 'g7', 'eu27_total', 'eu27_countries', 'dac1_aggregates'])\n"
     ]
    }
   ],
   "source": [
    "# Print available donor groupings\n",
    "print(donor_groupings().keys())"
   ],
   "metadata": {
    "collapsed": false
   }
  },
  {
   "cell_type": "code",
   "execution_count": 9,
   "outputs": [
    {
     "name": "stdout",
     "output_type": "stream",
     "text": [
      "dict_keys(['all_recipients', 'all_developing_countries_regions', 'african_countries', 'africa_regional', 'african_countries_regional', 'sahel', 'ldc_countries', 'france_priority', 'dac2a_aggregates'])\n"
     ]
    }
   ],
   "source": [
    "# Print available recipient groupings\n",
    "print(recipient_groupings().keys())"
   ],
   "metadata": {
    "collapsed": false
   }
  },
  {
   "cell_type": "markdown",
   "source": [
    "Next, in order to get the data we want, we will create an instance of the `ODAData` class by specifying the correct arguments.\n",
    "\n",
    "We will store this instance in a variable called `oda`, which we will use later to load the indicators and get the DataFrame we're after.\n",
    "\n",
    "Below are some example settings for this tutorial. For clarity, we will first store them in variables, but you can\n",
    "always pass them directly as arguments to the `ODAData` class."
   ],
   "metadata": {
    "collapsed": false
   }
  },
  {
   "cell_type": "code",
   "execution_count": 18,
   "outputs": [],
   "source": [
    "# Select years as (for example) a range. Remember ranges are exclusive of the upper bound.\n",
    "years = range(2018,2021)\n",
    "\n",
    "# Select donors, which must be specified by their codes. To get all donors, do not use this argument.\n",
    "donors = [4, 5, 12, 302]\n",
    "\n",
    "# Select recipients, which must be specified by their codes or available country groupings. In this example, we are selecting LDCs (which we define below).\n",
    "recipients = list(recipient_groupings()['ldc_countries'])\n",
    "\n",
    "# Select the currency. By default 'USD' is shown but we'll get the data in Euros.\n",
    "currency = 'EUR'\n",
    "\n",
    "# Select the prices. By default, 'current' is shown, but we'll get the data in constant prices.\n",
    "prices = 'constant'\n",
    "\n",
    "# Set the base year. We must set this given that we've asked for constant data.\n",
    "base_year = 2021\n",
    "\n",
    "# Instantiate the `ODAData` class and store it in a variable called 'oda'\n",
    "oda = ODAData(years=years,\n",
    "              donors=donors,\n",
    "              currency=currency,\n",
    "              prices=prices,\n",
    "              base_year=base_year,\n",
    "              include_names=True)"
   ],
   "metadata": {
    "collapsed": false
   }
  },
  {
   "cell_type": "markdown",
   "source": [
    "## 3. Load the indicators and get the DataFrame\n",
    "\n",
    "Then we tell `oda` to load the indicator(s) that are useful for our analysis. For this tutorial, we will use the *\"crs_gender_significant_flow_disbursement_gross\"*, *\"crs_gender_principal_flow_disbursement_gross\"*, and *\"crs_gender_total_flow_gross\"* indicators to get total gender relevant ODA from our 4 donors to LDCs.\n",
    "\n",
    "A full list of indicators can be seen by using the `.available_indicators()` method."
   ],
   "metadata": {
    "collapsed": false
   }
  },
  {
   "cell_type": "code",
   "execution_count": 19,
   "outputs": [
    {
     "data": {
      "text/plain": "[\ntotal_oda_flow_net,\ntotal_oda_ge,\ntotal_oda_official_definition,\ntotal_oda_bilateral_flow_net,\ntotal_oda_bilateral_ge,\ntotal_oda_multilateral_flow_net,\ntotal_oda_multilateral_ge,\ntotal_oda_flow_gross,\ntotal_oda_flow_commitments,\ntotal_oda_grants_flow,\ntotal_oda_grants_ge,\ntotal_oda_non_grants_flow,\ntotal_oda_non_grants_ge,\ntotal_covid_oda_ge,\ntotal_covid_oda_flow,\ntotal_covid_oda_ge_linked,\ntotal_health_covid_oda_ge,\ntotal_health_covid_oda_flow,\ntotal_health_covid_oda_ge_linked,\ntotal_covid_vaccine_donations_oda_ge,\ntotal_covid_vaccine_donations_oda_flow,\ntotal_covid_vaccine_donations_oda_ge_linked,\ntotal_covid_vaccine_donations_domestic_supply_oda_ge,\ntotal_covid_vaccine_donations_domestic_supply_oda_flow,\ntotal_covid_vaccine_donations_domestic_supply_oda_ge_linked,\ntotal_covid_vaccine_donations_dev_purchase_oda_ge,\ntotal_covid_vaccine_donations_dev_purchase_oda_flow,\ntotal_covid_vaccine_donations_dev_purchase_oda_ge_linked,\ntotal_covid_ancillary_oda_ge,\ntotal_covid_ancillary_oda_flow,\ntotal_covid_ancillary_oda_ge_linked,\ngni,\noda_gni_flow,\noda_gni_ge,\ntotal_in_donor_students_flow,\ntotal_in_donor_students_ge,\ntotal_in_donor_students_ge_linked,\nscholarships_flow,\nscholarships_ge,\nscholarships_ge_linked,\nimputed_students_flow,\nimputed_students_ge,\nimputed_students_linked,\ndebt_relief_flow,\ndebt_relief_ge,\nidrc_flow,\nidrc_ge,\nidrc_ge_linked,\neu_core_flow,\neu_core_ge,\neu_core_ge_linked,\none_non_core_oda_flow,\none_non_core_oda_ge,\none_non_core_oda_ge_linked,\none_core_oda_flow,\none_core_oda_ge,\none_core_oda_ge_linked,\ntotal_psi_flow,\ntotal_psi_ge,\ntotal_psi_flow_linked,\ninstitutional_psi_flow,\ninstitutional_psi_ge,\ninstitutional_psi_flow_linked,\ninstrument_psi_flow,\ninstrument_psi_ge,\ninstrument_psi_flow_linked,\nrecipient_imputed_multi_flow_net,\nrecipient_bilateral_flow_net,\nrecipient_bilateral_flow_gross,\nrecipient_loans_flow_gross,\nrecipient_loans_flow_net,\nrecipient_interest_received_flow,\nrecipient_humanitarian_flow,\nrecipient_grants_flow,\nrecipient_total_flow_net,\ncrs_bilateral_flow_disbursement_gross,\ncrs_bilateral_all_flows_disbursement_gross,\ncrs_gender_significant_flow_disbursement_gross,\ncrs_gender_principal_flow_disbursement_gross,\ncrs_gender_not_targeted_flow_disbursement_gross,\ncrs_gender_not_screened_flow_disbursement_gross,\ncrs_gender_allocable_flow_disbursement_gross,\ncrs_gender_allocable_total_flow_disbursement_gross,\ncrs_gender_total_flow_gross,\ncrs_bilateral_total_flow_gross_by_purpose,\nmultisystem_multilateral_contributions_disbursement_gross,\nmultisystem_multilateral_contributions_commitments_gross,\nimputed_multi_flow_disbursement_gross,\ntotal_bi_multi_flow_disbursement_gross\n]"
     },
     "execution_count": 19,
     "metadata": {},
     "output_type": "execute_result"
    }
   ],
   "source": [
    "# print available indicators\n",
    "ODAData().available_indicators()"
   ],
   "metadata": {
    "collapsed": false
   }
  },
  {
   "cell_type": "code",
   "execution_count": 22,
   "outputs": [
    {
     "data": {
      "text/plain": "        donor_name  year currency    prices  \\\n0           France  2018      EUR  constant   \n1           France  2018      EUR  constant   \n2           France  2018      EUR  constant   \n3           France  2019      EUR  constant   \n4           France  2019      EUR  constant   \n5           France  2019      EUR  constant   \n6           France  2020      EUR  constant   \n7           France  2020      EUR  constant   \n8           France  2020      EUR  constant   \n9          Germany  2018      EUR  constant   \n10         Germany  2018      EUR  constant   \n11         Germany  2018      EUR  constant   \n12         Germany  2019      EUR  constant   \n13         Germany  2019      EUR  constant   \n14         Germany  2019      EUR  constant   \n15         Germany  2020      EUR  constant   \n16         Germany  2020      EUR  constant   \n17         Germany  2020      EUR  constant   \n18  United Kingdom  2018      EUR  constant   \n19  United Kingdom  2018      EUR  constant   \n20  United Kingdom  2018      EUR  constant   \n21  United Kingdom  2019      EUR  constant   \n22  United Kingdom  2019      EUR  constant   \n23  United Kingdom  2019      EUR  constant   \n24  United Kingdom  2020      EUR  constant   \n25  United Kingdom  2020      EUR  constant   \n26  United Kingdom  2020      EUR  constant   \n27   United States  2018      EUR  constant   \n28   United States  2018      EUR  constant   \n29   United States  2018      EUR  constant   \n30   United States  2019      EUR  constant   \n31   United States  2019      EUR  constant   \n32   United States  2019      EUR  constant   \n33   United States  2020      EUR  constant   \n34   United States  2020      EUR  constant   \n35   United States  2020      EUR  constant   \n\n                                         indicator        value  \n0     crs_gender_principal_flow_disbursement_gross   275.432951  \n1   crs_gender_significant_flow_disbursement_gross   945.007322  \n2                      crs_gender_total_flow_gross  1220.440273  \n3     crs_gender_principal_flow_disbursement_gross   193.153019  \n4   crs_gender_significant_flow_disbursement_gross  1390.450238  \n5                      crs_gender_total_flow_gross  1583.603257  \n6     crs_gender_principal_flow_disbursement_gross   276.828589  \n7   crs_gender_significant_flow_disbursement_gross  2716.558708  \n8                      crs_gender_total_flow_gross  2993.387297  \n9     crs_gender_principal_flow_disbursement_gross   227.704653  \n10  crs_gender_significant_flow_disbursement_gross  6219.444328  \n11                     crs_gender_total_flow_gross  6447.148981  \n12    crs_gender_principal_flow_disbursement_gross   307.555834  \n13  crs_gender_significant_flow_disbursement_gross  6229.717737  \n14                     crs_gender_total_flow_gross  6537.273571  \n15    crs_gender_principal_flow_disbursement_gross   339.537428  \n16  crs_gender_significant_flow_disbursement_gross  7727.446798  \n17                     crs_gender_total_flow_gross  8066.984227  \n18    crs_gender_principal_flow_disbursement_gross   522.762654  \n19  crs_gender_significant_flow_disbursement_gross  5649.967233  \n20                     crs_gender_total_flow_gross  6172.729887  \n21    crs_gender_principal_flow_disbursement_gross   645.716294  \n22  crs_gender_significant_flow_disbursement_gross  6203.915955  \n23                     crs_gender_total_flow_gross  6849.632249  \n24    crs_gender_principal_flow_disbursement_gross   592.802950  \n25  crs_gender_significant_flow_disbursement_gross  5429.906851  \n26                     crs_gender_total_flow_gross  6022.709801  \n27    crs_gender_principal_flow_disbursement_gross   607.840023  \n28  crs_gender_significant_flow_disbursement_gross  4525.164987  \n29                     crs_gender_total_flow_gross  5133.005010  \n30    crs_gender_principal_flow_disbursement_gross   968.349849  \n31  crs_gender_significant_flow_disbursement_gross  5085.580732  \n32                     crs_gender_total_flow_gross  6053.930581  \n33    crs_gender_principal_flow_disbursement_gross   747.953369  \n34  crs_gender_significant_flow_disbursement_gross  4620.356118  \n35                     crs_gender_total_flow_gross  5368.309487  ",
      "text/html": "<div>\n<style scoped>\n    .dataframe tbody tr th:only-of-type {\n        vertical-align: middle;\n    }\n\n    .dataframe tbody tr th {\n        vertical-align: top;\n    }\n\n    .dataframe thead th {\n        text-align: right;\n    }\n</style>\n<table border=\"1\" class=\"dataframe\">\n  <thead>\n    <tr style=\"text-align: right;\">\n      <th></th>\n      <th>donor_name</th>\n      <th>year</th>\n      <th>currency</th>\n      <th>prices</th>\n      <th>indicator</th>\n      <th>value</th>\n    </tr>\n  </thead>\n  <tbody>\n    <tr>\n      <th>0</th>\n      <td>France</td>\n      <td>2018</td>\n      <td>EUR</td>\n      <td>constant</td>\n      <td>crs_gender_principal_flow_disbursement_gross</td>\n      <td>275.432951</td>\n    </tr>\n    <tr>\n      <th>1</th>\n      <td>France</td>\n      <td>2018</td>\n      <td>EUR</td>\n      <td>constant</td>\n      <td>crs_gender_significant_flow_disbursement_gross</td>\n      <td>945.007322</td>\n    </tr>\n    <tr>\n      <th>2</th>\n      <td>France</td>\n      <td>2018</td>\n      <td>EUR</td>\n      <td>constant</td>\n      <td>crs_gender_total_flow_gross</td>\n      <td>1220.440273</td>\n    </tr>\n    <tr>\n      <th>3</th>\n      <td>France</td>\n      <td>2019</td>\n      <td>EUR</td>\n      <td>constant</td>\n      <td>crs_gender_principal_flow_disbursement_gross</td>\n      <td>193.153019</td>\n    </tr>\n    <tr>\n      <th>4</th>\n      <td>France</td>\n      <td>2019</td>\n      <td>EUR</td>\n      <td>constant</td>\n      <td>crs_gender_significant_flow_disbursement_gross</td>\n      <td>1390.450238</td>\n    </tr>\n    <tr>\n      <th>5</th>\n      <td>France</td>\n      <td>2019</td>\n      <td>EUR</td>\n      <td>constant</td>\n      <td>crs_gender_total_flow_gross</td>\n      <td>1583.603257</td>\n    </tr>\n    <tr>\n      <th>6</th>\n      <td>France</td>\n      <td>2020</td>\n      <td>EUR</td>\n      <td>constant</td>\n      <td>crs_gender_principal_flow_disbursement_gross</td>\n      <td>276.828589</td>\n    </tr>\n    <tr>\n      <th>7</th>\n      <td>France</td>\n      <td>2020</td>\n      <td>EUR</td>\n      <td>constant</td>\n      <td>crs_gender_significant_flow_disbursement_gross</td>\n      <td>2716.558708</td>\n    </tr>\n    <tr>\n      <th>8</th>\n      <td>France</td>\n      <td>2020</td>\n      <td>EUR</td>\n      <td>constant</td>\n      <td>crs_gender_total_flow_gross</td>\n      <td>2993.387297</td>\n    </tr>\n    <tr>\n      <th>9</th>\n      <td>Germany</td>\n      <td>2018</td>\n      <td>EUR</td>\n      <td>constant</td>\n      <td>crs_gender_principal_flow_disbursement_gross</td>\n      <td>227.704653</td>\n    </tr>\n    <tr>\n      <th>10</th>\n      <td>Germany</td>\n      <td>2018</td>\n      <td>EUR</td>\n      <td>constant</td>\n      <td>crs_gender_significant_flow_disbursement_gross</td>\n      <td>6219.444328</td>\n    </tr>\n    <tr>\n      <th>11</th>\n      <td>Germany</td>\n      <td>2018</td>\n      <td>EUR</td>\n      <td>constant</td>\n      <td>crs_gender_total_flow_gross</td>\n      <td>6447.148981</td>\n    </tr>\n    <tr>\n      <th>12</th>\n      <td>Germany</td>\n      <td>2019</td>\n      <td>EUR</td>\n      <td>constant</td>\n      <td>crs_gender_principal_flow_disbursement_gross</td>\n      <td>307.555834</td>\n    </tr>\n    <tr>\n      <th>13</th>\n      <td>Germany</td>\n      <td>2019</td>\n      <td>EUR</td>\n      <td>constant</td>\n      <td>crs_gender_significant_flow_disbursement_gross</td>\n      <td>6229.717737</td>\n    </tr>\n    <tr>\n      <th>14</th>\n      <td>Germany</td>\n      <td>2019</td>\n      <td>EUR</td>\n      <td>constant</td>\n      <td>crs_gender_total_flow_gross</td>\n      <td>6537.273571</td>\n    </tr>\n    <tr>\n      <th>15</th>\n      <td>Germany</td>\n      <td>2020</td>\n      <td>EUR</td>\n      <td>constant</td>\n      <td>crs_gender_principal_flow_disbursement_gross</td>\n      <td>339.537428</td>\n    </tr>\n    <tr>\n      <th>16</th>\n      <td>Germany</td>\n      <td>2020</td>\n      <td>EUR</td>\n      <td>constant</td>\n      <td>crs_gender_significant_flow_disbursement_gross</td>\n      <td>7727.446798</td>\n    </tr>\n    <tr>\n      <th>17</th>\n      <td>Germany</td>\n      <td>2020</td>\n      <td>EUR</td>\n      <td>constant</td>\n      <td>crs_gender_total_flow_gross</td>\n      <td>8066.984227</td>\n    </tr>\n    <tr>\n      <th>18</th>\n      <td>United Kingdom</td>\n      <td>2018</td>\n      <td>EUR</td>\n      <td>constant</td>\n      <td>crs_gender_principal_flow_disbursement_gross</td>\n      <td>522.762654</td>\n    </tr>\n    <tr>\n      <th>19</th>\n      <td>United Kingdom</td>\n      <td>2018</td>\n      <td>EUR</td>\n      <td>constant</td>\n      <td>crs_gender_significant_flow_disbursement_gross</td>\n      <td>5649.967233</td>\n    </tr>\n    <tr>\n      <th>20</th>\n      <td>United Kingdom</td>\n      <td>2018</td>\n      <td>EUR</td>\n      <td>constant</td>\n      <td>crs_gender_total_flow_gross</td>\n      <td>6172.729887</td>\n    </tr>\n    <tr>\n      <th>21</th>\n      <td>United Kingdom</td>\n      <td>2019</td>\n      <td>EUR</td>\n      <td>constant</td>\n      <td>crs_gender_principal_flow_disbursement_gross</td>\n      <td>645.716294</td>\n    </tr>\n    <tr>\n      <th>22</th>\n      <td>United Kingdom</td>\n      <td>2019</td>\n      <td>EUR</td>\n      <td>constant</td>\n      <td>crs_gender_significant_flow_disbursement_gross</td>\n      <td>6203.915955</td>\n    </tr>\n    <tr>\n      <th>23</th>\n      <td>United Kingdom</td>\n      <td>2019</td>\n      <td>EUR</td>\n      <td>constant</td>\n      <td>crs_gender_total_flow_gross</td>\n      <td>6849.632249</td>\n    </tr>\n    <tr>\n      <th>24</th>\n      <td>United Kingdom</td>\n      <td>2020</td>\n      <td>EUR</td>\n      <td>constant</td>\n      <td>crs_gender_principal_flow_disbursement_gross</td>\n      <td>592.802950</td>\n    </tr>\n    <tr>\n      <th>25</th>\n      <td>United Kingdom</td>\n      <td>2020</td>\n      <td>EUR</td>\n      <td>constant</td>\n      <td>crs_gender_significant_flow_disbursement_gross</td>\n      <td>5429.906851</td>\n    </tr>\n    <tr>\n      <th>26</th>\n      <td>United Kingdom</td>\n      <td>2020</td>\n      <td>EUR</td>\n      <td>constant</td>\n      <td>crs_gender_total_flow_gross</td>\n      <td>6022.709801</td>\n    </tr>\n    <tr>\n      <th>27</th>\n      <td>United States</td>\n      <td>2018</td>\n      <td>EUR</td>\n      <td>constant</td>\n      <td>crs_gender_principal_flow_disbursement_gross</td>\n      <td>607.840023</td>\n    </tr>\n    <tr>\n      <th>28</th>\n      <td>United States</td>\n      <td>2018</td>\n      <td>EUR</td>\n      <td>constant</td>\n      <td>crs_gender_significant_flow_disbursement_gross</td>\n      <td>4525.164987</td>\n    </tr>\n    <tr>\n      <th>29</th>\n      <td>United States</td>\n      <td>2018</td>\n      <td>EUR</td>\n      <td>constant</td>\n      <td>crs_gender_total_flow_gross</td>\n      <td>5133.005010</td>\n    </tr>\n    <tr>\n      <th>30</th>\n      <td>United States</td>\n      <td>2019</td>\n      <td>EUR</td>\n      <td>constant</td>\n      <td>crs_gender_principal_flow_disbursement_gross</td>\n      <td>968.349849</td>\n    </tr>\n    <tr>\n      <th>31</th>\n      <td>United States</td>\n      <td>2019</td>\n      <td>EUR</td>\n      <td>constant</td>\n      <td>crs_gender_significant_flow_disbursement_gross</td>\n      <td>5085.580732</td>\n    </tr>\n    <tr>\n      <th>32</th>\n      <td>United States</td>\n      <td>2019</td>\n      <td>EUR</td>\n      <td>constant</td>\n      <td>crs_gender_total_flow_gross</td>\n      <td>6053.930581</td>\n    </tr>\n    <tr>\n      <th>33</th>\n      <td>United States</td>\n      <td>2020</td>\n      <td>EUR</td>\n      <td>constant</td>\n      <td>crs_gender_principal_flow_disbursement_gross</td>\n      <td>747.953369</td>\n    </tr>\n    <tr>\n      <th>34</th>\n      <td>United States</td>\n      <td>2020</td>\n      <td>EUR</td>\n      <td>constant</td>\n      <td>crs_gender_significant_flow_disbursement_gross</td>\n      <td>4620.356118</td>\n    </tr>\n    <tr>\n      <th>35</th>\n      <td>United States</td>\n      <td>2020</td>\n      <td>EUR</td>\n      <td>constant</td>\n      <td>crs_gender_total_flow_gross</td>\n      <td>5368.309487</td>\n    </tr>\n  </tbody>\n</table>\n</div>"
     },
     "execution_count": 22,
     "metadata": {},
     "output_type": "execute_result"
    }
   ],
   "source": [
    "# Create a variable with the list of indicators for this analysis.\n",
    "# The indicator can also be directly passed as an argument in the step below.\n",
    "indicators = ['crs_gender_significant_flow_disbursement_gross',\n",
    "              'crs_gender_principal_flow_disbursement_gross',\n",
    "              'crs_gender_total_flow_gross']\n",
    "\n",
    "# Add all the indicators in our `indicators` list\n",
    "for indicator in indicators:\n",
    "    oda.load_indicator(indicator)\n",
    "\n",
    "# Get a DataFrame with all the data. Here, we also add the share of total.\n",
    "df = oda.add_share_of_total(True).get_data('all')\n",
    "\n",
    "# Finally, group the DataFrame rows by year, currency, prices and indicator\n",
    "df = df.groupby(['donor_name','year','currency','prices','indicator'], observed=True, dropna=False)['value'].sum(numeric_only=True).reset_index(drop=False)\n",
    "\n",
    "# show the resulting dataframe\n",
    "df"
   ],
   "metadata": {
    "collapsed": false
   }
  },
  {
   "cell_type": "markdown",
   "source": [
    "## 4. Optionally export DataFrame as CSV\n",
    "\n",
    "Finally, we can export the DataFrame as a CSV if required."
   ],
   "metadata": {
    "collapsed": false
   }
  },
  {
   "cell_type": "code",
   "execution_count": 17,
   "outputs": [],
   "source": [
    "df.to_csv(r'../tutorials/output/total_gender_oda.csv', index = False)"
   ],
   "metadata": {
    "collapsed": false
   }
  }
 ],
 "metadata": {
  "kernelspec": {
   "display_name": "Python 3",
   "language": "python",
   "name": "python3"
  },
  "language_info": {
   "codemirror_mode": {
    "name": "ipython",
    "version": 2
   },
   "file_extension": ".py",
   "mimetype": "text/x-python",
   "name": "python",
   "nbconvert_exporter": "python",
   "pygments_lexer": "ipython2",
   "version": "2.7.6"
  }
 },
 "nbformat": 4,
 "nbformat_minor": 0
}
