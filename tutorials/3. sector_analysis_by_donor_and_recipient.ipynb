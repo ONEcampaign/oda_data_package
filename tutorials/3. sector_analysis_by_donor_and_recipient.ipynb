{
 "cells": [
  {
   "cell_type": "markdown",
   "source": [
    "# ODA data by Sector (with donor and recipient)\n",
    "This tutorial shows you how to build a Pandas DataFrame containing ODA data from any number of donors to any number of recipients, across sectors available in the list of indicators, over a range of years.\n",
    "\n",
    "The tutorial has the following steps:\n",
    "1. Import `ODAData`, the main tool used to interact with the data\n",
    "2. Create an instance of `ODAData` with the specific arguments you would like to use\n",
    "3. Load the indicators and get the DataFrame\n",
    "4. Optionally, export the DataFrame"
   ],
   "metadata": {
    "collapsed": false
   }
  },
  {
   "cell_type": "markdown",
   "source": [
    "## 1. Import ODAData\n",
    "\n",
    "We can gather the data we need using the `ODAData` class. An object from this class can:\n",
    "    - Get data for specific indicators\n",
    "    - Optionally, filter the data for specific donors, recipients and years\n",
    "    - Optionally, exchange and deflate data\n",
    "\n",
    "The `oda_data` package automatically downloads the relevant datasets (i.e. DAC1, DAC2a or CRS tables) depending on the indicators selected in step 3.\n",
    "\n",
    "It is highly recommended that you specify the folder where you want to store, and from where you want to read, this raw data. This must be done once in each notebook or script where we use the `oda_data` package. You can specify the data path if the raw data has already been downloaded, or if you haven't yet specified the download path in your notebook and script."
   ],
   "metadata": {
    "collapsed": false
   }
  },
  {
   "cell_type": "code",
   "source": [
    "from oda_data import ODAData, set_data_path\n",
    "\n",
    "# in section 3, we give the option to retreive data for specific donor and recipient groupings, so we need to import the following\n",
    "from oda_data.tools.groupings import donor_groupings, recipient_groupings\n",
    "\n",
    "# If you haven't set the data path, you can do it now.\n",
    "set_data_path(path=\"../tutorials/data\")"
   ],
   "metadata": {
    "collapsed": false
   },
   "outputs": [],
   "execution_count": null
  },
  {
   "cell_type": "markdown",
   "source": [
    "# 2. Create an instance of ODAData\n",
    "\n",
    "Next, we need to set the right arguments which are used to create an instance of ODAData to produce the right DataFrame. The arguments required are:\n",
    "- *years*: you must specify the `years`, as an `int`, `list` or `range`\n",
    "- *donors*: you can _optionally_ specify the `donors` you want the output to have (as `int`, or `list`) of donor codes.\n",
    "- *recipients*: you can _optionally_ specify the `recipients` you want the output to have. Not all indicators\n",
    "    need or accept recipients. If using an indicator for which recipients are not an option, a warning will be logged to\n",
    "    the console and the recipients ignored for that indicator.\n",
    "- *currency*: you can _optionally_ specify the `currency` in which you want your data to be shown. If not specified,\n",
    "    by default, `USD` will be used. Other options include `EUR`, `GBP` and `CAN`.\n",
    "- *prices*: you can _optionally_ specify the `prices` in which you want your data to be shown. If not specified,\n",
    "    by default, `current` will be used. The other option is `constant`. If specifying `constant` a `base_year` must be set.\n",
    "- *base_year*: you must specify a `base_year` if you have set `prices = 'constant'`. If you have chosen `current` prices,\n",
    "    by default, `base_year` will be `None`."
   ],
   "metadata": {
    "collapsed": false
   }
  },
  {
   "cell_type": "markdown",
   "source": [
    "You can use a few methods provided by the ODAData object to see the available donors, recipients and donor/recipient groupings."
   ],
   "metadata": {
    "collapsed": false
   }
  },
  {
   "cell_type": "code",
   "source": [
    "# print a list of available donors\n",
    "ODAData().available_donors()"
   ],
   "metadata": {
    "collapsed": false
   },
   "outputs": [],
   "execution_count": null
  },
  {
   "cell_type": "code",
   "source": [
    "# print a list of available recipients\n",
    "ODAData().available_recipients()"
   ],
   "metadata": {
    "collapsed": false
   },
   "outputs": [],
   "execution_count": null
  },
  {
   "cell_type": "code",
   "source": [
    "# Print available donor groupings\n",
    "print(donor_groupings().keys())"
   ],
   "metadata": {
    "collapsed": false
   },
   "outputs": [],
   "execution_count": null
  },
  {
   "cell_type": "code",
   "source": [
    "# Print available recipient groupings\n",
    "print(recipient_groupings().keys())"
   ],
   "metadata": {
    "collapsed": false
   },
   "outputs": [],
   "execution_count": null
  },
  {
   "cell_type": "markdown",
   "source": [
    "Next, in order to get the data we want, we will create an instance of the `ODAData` class by specifying the correct arguments.\n",
    "\n",
    "We will store this instance in a variable called `oda`, which we will use later to load the indicators and get the DataFrame we're after.\n",
    "\n",
    "Below are some example settings for this tutorial. For clarity, we will first store them in variables, but you can\n",
    "always pass them directly as arguments to the `ODAData` class."
   ],
   "metadata": {
    "collapsed": false
   }
  },
  {
   "cell_type": "code",
   "source": [
    "# Select years as (for example) a range. Remember ranges are exclusive of the upper bound.\n",
    "years = range(2018, 2021)\n",
    "\n",
    "# Select donors, which must be specified by their codes. To get all donors, do not use this argument.\n",
    "donors = [4, 5, 12, 302]\n",
    "\n",
    "# Select recipients, which must be specified by their codes or available country groupings. In this example, we are selecting LDCs (which we define below).\n",
    "recipients = list(recipient_groupings()['ldc_countries'])\n",
    "\n",
    "# Set the base year. We must set this given that we've asked for constant data.\n",
    "base_year = 2021\n",
    "\n",
    "# Instantiate the `ODAData` class and store it in a variable called 'oda'\n",
    "oda = ODAData(years=years,\n",
    "              donors=donors,\n",
    "              recipients=recipients)"
   ],
   "metadata": {
    "collapsed": false
   },
   "outputs": [],
   "execution_count": null
  },
  {
   "cell_type": "markdown",
   "source": [
    "## 3. Load the indicators and get the DataFrame\n",
    "\n",
    "Then we tell `oda` to load the indicator(s) that are useful for our analysis. For this tutorial, we will use the *\"recipient_bilateral_flow_disbursement_gross\"*, and *\"imputed_multi_flow_disbursement_gross\"* indicators\n",
    "\n",
    "A full list of indicators can be seen by using the `.available_indicators()` method."
   ],
   "metadata": {
    "collapsed": false
   }
  },
  {
   "cell_type": "code",
   "source": [
    "# print available indicators\n",
    "ODAData().available_indicators()"
   ],
   "metadata": {
    "collapsed": false
   },
   "outputs": [],
   "execution_count": null
  },
  {
   "cell_type": "code",
   "source": [
    "# Create a variable with the list of indicators for this analysis.\n",
    "# The indicator can also be directly passed as an argument in the step below.\n",
    "indicators = ['crs_bilateral_flow_disbursement_gross',\n",
    "              'imputed_multi_flow_disbursement_gross']\n",
    "\n",
    "# Add all the indicators in our `indicators` list\n",
    "for indicator in indicators:\n",
    "    oda.load_indicator(indicator)\n",
    "\n",
    "# Get a DataFrame with all the data.\n",
    "df = oda.get_data('all')\n",
    "\n",
    "# # Finally, group the DataFrame rows by year, currency, prices and indicator\n",
    "df = df.groupby(['year','donor_code', \"recipient_code\", \"indicator\", 'purpose_code', 'currency', 'prices'], observed=True,\n",
    "           dropna=False)['value'].sum(numeric_only=True).reset_index(drop=False)\n",
    "\n",
    "# show the resulting dataframe\n",
    "df.sample(10)"
   ],
   "metadata": {
    "collapsed": false
   },
   "outputs": [],
   "execution_count": null
  },
  {
   "cell_type": "markdown",
   "source": [
    "## 4. Optionally export DataFrame as CSV\n",
    "\n",
    "Finally, we can export the DataFrame as a CSV if required."
   ],
   "metadata": {
    "collapsed": false
   }
  },
  {
   "cell_type": "code",
   "source": "df.to_csv(r'../tutorials/output/oda_by_sectors_oda.csv', index=False)",
   "metadata": {
    "collapsed": false
   },
   "outputs": [],
   "execution_count": null
  }
 ],
 "metadata": {
  "kernelspec": {
   "display_name": "Python 3",
   "language": "python",
   "name": "python3"
  },
  "language_info": {
   "codemirror_mode": {
    "name": "ipython",
    "version": 2
   },
   "file_extension": ".py",
   "mimetype": "text/x-python",
   "name": "python",
   "nbconvert_exporter": "python",
   "pygments_lexer": "ipython2",
   "version": "2.7.6"
  }
 },
 "nbformat": 4,
 "nbformat_minor": 0
}
