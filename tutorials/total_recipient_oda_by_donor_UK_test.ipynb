{
 "cells": [
  {
   "cell_type": "markdown",
   "source": [
    "# ODA data by Recipient\n",
    "This tutorial shows you how to build a Pandas DataFrame containing ODA data to any number of recipients from number of donors, over a range of years and multiple different indicators.\n",
    "\n",
    "The tutorial has the following steps:\n",
    "1. Optionally, download the raw data if you haven't yet done so\n",
    "2. Import `ODAData`, the main tool used to interact with the data\n",
    "3. Create an instance of `ODAData` with the specific arguments you would like to use\n",
    "4. Load the indicators\n",
    "5. Get the DataFrame\n",
    "6. Optionally, export the DataFrame"
   ],
   "metadata": {
    "collapsed": false,
    "pycharm": {
     "name": "#%% md\n"
    }
   },
   "outputs": [
    {
     "ename": "SyntaxError",
     "evalue": "unterminated string literal (detected at line 5) (2825186555.py, line 5)",
     "output_type": "error",
     "traceback": [
      "\u001B[1;36m  Cell \u001B[1;32mIn [1], line 5\u001B[1;36m\u001B[0m\n\u001B[1;33m    0. Optionally, download the raw data if you haven't yet done so\u001B[0m\n\u001B[1;37m                                                     ^\u001B[0m\n\u001B[1;31mSyntaxError\u001B[0m\u001B[1;31m:\u001B[0m unterminated string literal (detected at line 5)\n"
     ]
    }
   ],
   "execution_count": 1
  },
  {
   "cell_type": "markdown",
   "source": [
    "## 1. Download the raw data\n",
    "\n",
    "The raw data must be downloaded every time you do a fresh installation of the `oda_data` package. The raw data is not distributed with the package given its size, and to make sure users are accessing the latest data when they start working with the package.\n",
    "\n",
    "Before getting started with analysis for the first time, you must download the raw data. This process can take a while depending on your internet connection, and on the files that you decide to download.\n",
    "\n",
    "It is highly recommended that you specify the folder where you want to store and read the raw data. This must be done once in each notebook or script where we use the `oda_data` package.\n",
    "\n",
    "First we will import the necessary functions. In this example, we will only download the Table 2a using `download_dac2a()`, but other options include `download_crs(years)`, `download_dac1()`, and `download_multisystem()`."
   ],
   "metadata": {
    "collapsed": false,
    "pycharm": {
     "name": "#%% md\n"
    }
   }
  },
  {
   "cell_type": "code",
   "execution_count": null,
   "outputs": [],
   "source": [
    "from oda_data import set_data_path, download_dac2a\n",
    "\n",
    "# set the path to the folder where we want to store the data\n",
    "set_data_path(path=\"../tutorials\")\n",
    "\n",
    "# download the raw data, which will be stored in the folder above.\n",
    "# it will be read from there, too\n",
    "\n",
    "download_dac2a()"
   ],
   "metadata": {
    "collapsed": false,
    "pycharm": {
     "name": "#%%\n"
    }
   }
  },
  {
   "cell_type": "markdown",
   "source": [
    "## 2. Import ODAData\n",
    "\n",
    "We can gather the data we need using the `ODAData` class. An object from this class can:\n",
    "    - Get data for specific indicators\n",
    "    - Optionally, filter the data for specific donors, recipients and years\n",
    "    - Optionally, exchange and deflate data\n",
    "\n",
    "You can specify the data path if the raw data has already been downloaded, or if you haven't yet specified the download path in your notebook and script."
   ],
   "metadata": {
    "collapsed": false,
    "pycharm": {
     "name": "#%% md\n"
    }
   }
  },
  {
   "cell_type": "code",
   "execution_count": 1,
   "outputs": [
    {
     "name": "stderr",
     "output_type": "stream",
     "text": [
      "C:\\Users\\MatthewPrice\\anaconda3\\envs\\oda_data_package_tutorials\\lib\\site-packages\\pydeflate\\utils.py:37: UserWarning: \n",
      "\n",
      "The underlying data for \"imf\" has not been updated in over 69 days. \n",
      "In order to use pydeflate with the most recent data, please run:\n",
      "`pydeflate.update_all_data()`\n",
      "  warnings.warn(message)\n",
      "C:\\Users\\MatthewPrice\\anaconda3\\envs\\oda_data_package_tutorials\\lib\\site-packages\\pydeflate\\utils.py:37: UserWarning: \n",
      "\n",
      "The underlying data for \"wb\" has not been updated in over 69 days. \n",
      "In order to use pydeflate with the most recent data, please run:\n",
      "`pydeflate.update_all_data()`\n",
      "  warnings.warn(message)\n"
     ]
    }
   ],
   "source": [
    "from oda_data import ODAData, set_data_path\n",
    "\n",
    "# If you haven't set the data path, you can do it now.\n",
    "# If you haven't downloaded the raw data before, please see step 1\n",
    "set_data_path(path=\"../tutorials\")"
   ],
   "metadata": {
    "collapsed": false,
    "pycharm": {
     "name": "#%%\n"
    }
   }
  },
  {
   "cell_type": "markdown",
   "source": [
    "## 3. Instantiating the ODAData object with the desired arguments\n",
    "\n",
    "Next, we need to set the right arguments, which are used to create the right DataFrame.\n",
    "- *years*: you must specify the `years`, as an `int`, `list` or `range`.\n",
    "- *donors*: you can _optionally_ specify the `donors` you want the output to have (as `int`, or `list`) of donor codes.\n",
    "- *recipients*: you can _optionally_ specify the `recipients` you want the output to have. Not all indicators need or accept recipients. If using an indicator for which recipients aren't an option, a warning will be logged to the console and the recipients ignored for that indicator.\n",
    "- *currency*: you can _optionally_ specify the `currency` in which you want your data to be shown. If not specified, by default, `USD` will be used. Other options include `EUR`, `GBP` and `CAN`.\n",
    "- *prices*: you can _optionally_ specify the `prices` in which you want your data to be shown. If not specified, by default, `current` will be used. The other option is `constant`. If specifying `constant` a `base_year` must be set.\n",
    "- *base_year*: you must specify a `base_year` if you have set `prices = 'constant'`. If you have chosen `current` prices,\n",
    "by default, `base_year` will be `None`.\n",
    "\n",
    "\n",
    "Below are some example settings for this tutorial. For clarity, we will first store them in variables, but you can always pass them directly as arguments to the `ODAData` class.\n",
    "You can see the available options using the .available_xxx() methods below."
   ],
   "metadata": {
    "collapsed": false,
    "pycharm": {
     "name": "#%% md\n"
    }
   }
  },
  {
   "cell_type": "code",
   "execution_count": 5,
   "outputs": [],
   "source": [
    "# Select years as (for example) a range. Remember ranges are exclusive of the upper bound.\n",
    "years = range(2012, 2022)\n",
    "\n",
    "# Select donors, which must be specified by their codes. To get all donors, do not use this argument. Here, we are showing France.\n",
    "donors = 12\n",
    "\n",
    "# Select recipients, which must be specified by their codes. In this example, we have used Africa, total.\n",
    "recipients = [10001,10016]\n",
    "\n",
    "# Select the currency. By default 'USD' is shown but we'll get the data in Euros.\n",
    "currency = 'GBP'\n",
    "\n",
    "# Select the prices. By default, 'current' is shown, but we'll get the data in constant prices.\n",
    "prices = 'constant'\n",
    "\n",
    "# Set the base year. We must set this given that we've asked for constant data.\n",
    "base_year = 2021"
   ],
   "metadata": {
    "collapsed": false,
    "pycharm": {
     "name": "#%%\n"
    }
   }
  },
  {
   "cell_type": "markdown",
   "source": [],
   "metadata": {
    "collapsed": false,
    "pycharm": {
     "name": "#%% md\n"
    }
   }
  },
  {
   "cell_type": "code",
   "execution_count": null,
   "outputs": [],
   "source": [
    "ODAData().available_donors()"
   ],
   "metadata": {
    "collapsed": false,
    "pycharm": {
     "name": "#%%\n"
    }
   }
  },
  {
   "cell_type": "code",
   "execution_count": null,
   "outputs": [],
   "source": [
    "ODAData().available_recipients()"
   ],
   "metadata": {
    "collapsed": false,
    "pycharm": {
     "name": "#%%\n"
    }
   }
  },
  {
   "cell_type": "code",
   "execution_count": null,
   "outputs": [],
   "source": [
    "ODAData().available_currencies()"
   ],
   "metadata": {
    "collapsed": false,
    "pycharm": {
     "name": "#%%\n"
    }
   }
  },
  {
   "cell_type": "markdown",
   "source": [
    "Finally, we can specify the indicators we want to retrieve for our analysis.\n",
    "A full list of indicators can be seen by using the `.available_indicators()` method."
   ],
   "metadata": {
    "collapsed": false,
    "pycharm": {
     "name": "#%% md\n"
    }
   }
  },
  {
   "cell_type": "code",
   "execution_count": 3,
   "outputs": [
    {
     "data": {
      "text/plain": "[\ntotal_oda_flow_net,\ntotal_oda_ge,\ntotal_oda_bilateral_flow_net,\ntotal_oda_bilateral_ge,\ntotal_oda_multilateral_flow_net,\ntotal_oda_multilateral_ge,\ntotal_oda_flow_gross,\ntotal_oda_flow_commitments,\ntotal_oda_grants_flow,\ntotal_oda_grants_ge,\ntotal_oda_non_grants_flow,\ntotal_oda_non_grants_ge,\ngni,\noda_gni_flow,\nod_gni_ge,\ntotal_in_donor_students_flow,\ntotal_in_donor_students_ge,\ntotal_in_donor_students_ge_linked,\nscholarships_flow,\nscholarships_ge,\nscholarships_ge_linked,\nimputed_students_flow,\nimputed_students_ge,\nimputed_students_linked,\ndebt_relief_flow,\ndebt_relief_ge,\nidrc_flow,\nidrc_ge,\nidrc_ge_linked,\neu_core_flow,\neu_core_ge,\neu_core_ge_linked,\ntotal_psi_flow,\ntotal_psi_ge,\ntotal_psi_flow_linked,\ninstitutional_psi_flow,\ninstitutional_psi_ge,\ninstitutional_psi_flow_linked,\ninstrument_psi_flow,\ninstrument_psi_ge,\ninstrument_psi_flow_linked,\nrecipient_imputed_multi_flow_net,\nrecipient_bilateral_flow_net,\nrecipient_bilateral_flow_gross,\nrecipient_loans_flow_gross,\nrecipient_loans_flow_net,\nrecipient_interest_received_flow,\nrecipient_humanitarian_flow,\nrecipient_grants_flow,\nrecipient_total_flow_net,\ncrs_bilateral_flow_disbursement_gross,\ncrs_gender_significant_flow_disbursement_gross,\ncrs_gender_principal_flow_disbursement_gross,\ncrs_gender_not_targeted_flow_disbursement_gross,\ncrs_gender_not_screened_flow_disbursement_gross,\ncrs_gender_allocable_flow_disbursement_gross,\ncrs_gender_allocable_total_flow_disbursement_gross,\ncrs_gender_total_flow_gross,\ncrs_bilateral_total_flow_gross_by_purpose,\nmultisystem_multilateral_contributions_disbursement_gross,\nmultisystem_multilateral_contributions_commitments_gross,\nimputed_multi_flow_disbursement_gross,\ntotal_bi_multi_flow_disbursement_gross\n]"
     },
     "execution_count": 3,
     "metadata": {},
     "output_type": "execute_result"
    }
   ],
   "source": [
    "ODAData().available_indicators()"
   ],
   "metadata": {
    "collapsed": false,
    "pycharm": {
     "name": "#%%\n"
    }
   }
  },
  {
   "cell_type": "code",
   "execution_count": 4,
   "outputs": [],
   "source": [
    "indicators = ['recipient_imputed_multi_flow_net','recipient_bilateral_flow_net','recipient_total_flow_net']"
   ],
   "metadata": {
    "collapsed": false,
    "pycharm": {
     "name": "#%%\n"
    }
   }
  },
  {
   "cell_type": "markdown",
   "source": [
    "For this tutorial, we will use the \"recipient_imputed_multi_flow_net\", \"recipient_bilateral_flow_net\", and \"recipient_total_flow_net\" indicators."
   ],
   "metadata": {
    "collapsed": false,
    "pycharm": {
     "name": "#%% md\n"
    }
   }
  },
  {
   "cell_type": "markdown",
   "source": [
    "## 4. Create an instance of ODAData\n",
    "\n",
    "In order to get the data we want, we will create an instance of the `ODAData` class using the arguments we specified above.\n",
    "\n",
    "We will store this instance in a variable called `oda`, which we will use later to load the indicators and get the DataFrame we're after."
   ],
   "metadata": {
    "collapsed": false,
    "pycharm": {
     "name": "#%% md\n"
    }
   }
  },
  {
   "cell_type": "code",
   "execution_count": 6,
   "outputs": [],
   "source": [
    "oda = ODAData(years=years,\n",
    "              recipients=recipients,\n",
    "              donors=donors,\n",
    "              currency=currency,\n",
    "              prices=prices,\n",
    "              base_year=base_year,\n",
    "              include_names=True)"
   ],
   "metadata": {
    "collapsed": false,
    "pycharm": {
     "name": "#%%\n"
    }
   }
  },
  {
   "cell_type": "markdown",
   "source": [
    "Then we loop through all your assigned indicators and tell ODAData to load them."
   ],
   "metadata": {
    "collapsed": false,
    "pycharm": {
     "name": "#%% md\n"
    }
   }
  },
  {
   "cell_type": "code",
   "execution_count": 7,
   "outputs": [],
   "source": [
    "# Add all the indicators in our `indicators` list\n",
    "for indicator in indicators:\n",
    "    oda.load_indicator(indicator)\n",
    "\n"
   ],
   "metadata": {
    "collapsed": false,
    "pycharm": {
     "name": "#%%\n"
    }
   }
  },
  {
   "cell_type": "markdown",
   "source": [
    "## 5. Get the DataFrame\n",
    "Finally, we tell ODAData to get the data from the loaded indicators to populate the DataFrame."
   ],
   "metadata": {
    "collapsed": false,
    "pycharm": {
     "name": "#%% md\n"
    }
   }
  },
  {
   "cell_type": "code",
   "execution_count": 8,
   "outputs": [
    {
     "data": {
      "text/plain": "    year                         indicator  donor_code      donor_name  \\\n0   2012  recipient_imputed_multi_flow_net          12  United Kingdom   \n1   2013  recipient_imputed_multi_flow_net          12  United Kingdom   \n2   2014  recipient_imputed_multi_flow_net          12  United Kingdom   \n3   2015  recipient_imputed_multi_flow_net          12  United Kingdom   \n4   2016  recipient_imputed_multi_flow_net          12  United Kingdom   \n5   2017  recipient_imputed_multi_flow_net          12  United Kingdom   \n6   2018  recipient_imputed_multi_flow_net          12  United Kingdom   \n7   2019  recipient_imputed_multi_flow_net          12  United Kingdom   \n8   2020  recipient_imputed_multi_flow_net          12  United Kingdom   \n9   2014  recipient_imputed_multi_flow_net          12  United Kingdom   \n10  2017  recipient_imputed_multi_flow_net          12  United Kingdom   \n11  2012  recipient_imputed_multi_flow_net          12  United Kingdom   \n12  2013  recipient_imputed_multi_flow_net          12  United Kingdom   \n13  2014  recipient_imputed_multi_flow_net          12  United Kingdom   \n14  2015  recipient_imputed_multi_flow_net          12  United Kingdom   \n15  2016  recipient_imputed_multi_flow_net          12  United Kingdom   \n16  2017  recipient_imputed_multi_flow_net          12  United Kingdom   \n17  2018  recipient_imputed_multi_flow_net          12  United Kingdom   \n18  2019  recipient_imputed_multi_flow_net          12  United Kingdom   \n19  2020  recipient_imputed_multi_flow_net          12  United Kingdom   \n20  2012      recipient_bilateral_flow_net          12  United Kingdom   \n21  2013      recipient_bilateral_flow_net          12  United Kingdom   \n22  2014      recipient_bilateral_flow_net          12  United Kingdom   \n23  2015      recipient_bilateral_flow_net          12  United Kingdom   \n24  2016      recipient_bilateral_flow_net          12  United Kingdom   \n25  2017      recipient_bilateral_flow_net          12  United Kingdom   \n26  2018      recipient_bilateral_flow_net          12  United Kingdom   \n27  2019      recipient_bilateral_flow_net          12  United Kingdom   \n28  2020      recipient_bilateral_flow_net          12  United Kingdom   \n29  2012      recipient_bilateral_flow_net          12  United Kingdom   \n30  2013      recipient_bilateral_flow_net          12  United Kingdom   \n31  2014      recipient_bilateral_flow_net          12  United Kingdom   \n32  2015      recipient_bilateral_flow_net          12  United Kingdom   \n33  2016      recipient_bilateral_flow_net          12  United Kingdom   \n34  2017      recipient_bilateral_flow_net          12  United Kingdom   \n35  2018      recipient_bilateral_flow_net          12  United Kingdom   \n36  2019      recipient_bilateral_flow_net          12  United Kingdom   \n37  2020      recipient_bilateral_flow_net          12  United Kingdom   \n38  2012          recipient_total_flow_net          12  United Kingdom   \n39  2013          recipient_total_flow_net          12  United Kingdom   \n40  2014          recipient_total_flow_net          12  United Kingdom   \n41  2015          recipient_total_flow_net          12  United Kingdom   \n42  2016          recipient_total_flow_net          12  United Kingdom   \n43  2017          recipient_total_flow_net          12  United Kingdom   \n44  2018          recipient_total_flow_net          12  United Kingdom   \n45  2019          recipient_total_flow_net          12  United Kingdom   \n46  2020          recipient_total_flow_net          12  United Kingdom   \n47  2012          recipient_total_flow_net          12  United Kingdom   \n48  2013          recipient_total_flow_net          12  United Kingdom   \n49  2014          recipient_total_flow_net          12  United Kingdom   \n50  2015          recipient_total_flow_net          12  United Kingdom   \n51  2016          recipient_total_flow_net          12  United Kingdom   \n52  2017          recipient_total_flow_net          12  United Kingdom   \n53  2018          recipient_total_flow_net          12  United Kingdom   \n54  2019          recipient_total_flow_net          12  United Kingdom   \n55  2020          recipient_total_flow_net          12  United Kingdom   \n\n    recipient_code currency    prices        value  \n0            10001      GBP  constant  1694.041220  \n1            10001      GBP  constant  2364.601426  \n2            10001      GBP  constant  2645.031473  \n3            10001      GBP  constant  2346.940484  \n4            10001      GBP  constant  2622.059288  \n5            10001      GBP  constant  2989.340873  \n6            10001      GBP  constant  2758.301855  \n7            10001      GBP  constant  2413.389329  \n8            10001      GBP  constant  2790.871745  \n9            10001      GBP  constant     0.000000  \n10           10001      GBP  constant     0.000000  \n11           10016      GBP  constant  1191.985001  \n12           10016      GBP  constant  1986.928197  \n13           10016      GBP  constant  1974.134400  \n14           10016      GBP  constant  1732.720887  \n15           10016      GBP  constant  2046.349621  \n16           10016      GBP  constant  2379.831459  \n17           10016      GBP  constant  2610.157348  \n18           10016      GBP  constant  1914.807000  \n19           10016      GBP  constant  2134.865912  \n20           10001      GBP  constant  2615.345503  \n21           10001      GBP  constant  2941.144284  \n22           10001      GBP  constant  3052.923502  \n23           10001      GBP  constant  3169.401169  \n24           10001      GBP  constant  3231.296167  \n25           10001      GBP  constant  3324.315374  \n26           10001      GBP  constant  3102.350986  \n27           10001      GBP  constant  3185.408003  \n28           10001      GBP  constant  2630.593529  \n29           10016      GBP  constant  2308.069486  \n30           10016      GBP  constant  2668.827117  \n31           10016      GBP  constant  2675.626540  \n32           10016      GBP  constant  2874.024113  \n33           10016      GBP  constant  2659.523980  \n34           10016      GBP  constant  2861.261372  \n35           10016      GBP  constant  2601.204366  \n36           10016      GBP  constant  2891.443026  \n37           10016      GBP  constant  2312.921382  \n38           10001      GBP  constant  4309.386722  \n39           10001      GBP  constant  5305.745710  \n40           10001      GBP  constant  5697.954975  \n41           10001      GBP  constant  5516.341653  \n42           10001      GBP  constant  5853.355455  \n43           10001      GBP  constant  6313.656247  \n44           10001      GBP  constant  5860.652841  \n45           10001      GBP  constant  5598.797332  \n46           10001      GBP  constant  5421.465274  \n47           10016      GBP  constant  3500.054488  \n48           10016      GBP  constant  4655.755313  \n49           10016      GBP  constant  4649.760940  \n50           10016      GBP  constant  4606.745000  \n51           10016      GBP  constant  4705.873601  \n52           10016      GBP  constant  5241.092831  \n53           10016      GBP  constant  5211.361715  \n54           10016      GBP  constant  4806.250027  \n55           10016      GBP  constant  4447.787294  ",
      "text/html": "<div>\n<style scoped>\n    .dataframe tbody tr th:only-of-type {\n        vertical-align: middle;\n    }\n\n    .dataframe tbody tr th {\n        vertical-align: top;\n    }\n\n    .dataframe thead th {\n        text-align: right;\n    }\n</style>\n<table border=\"1\" class=\"dataframe\">\n  <thead>\n    <tr style=\"text-align: right;\">\n      <th></th>\n      <th>year</th>\n      <th>indicator</th>\n      <th>donor_code</th>\n      <th>donor_name</th>\n      <th>recipient_code</th>\n      <th>currency</th>\n      <th>prices</th>\n      <th>value</th>\n    </tr>\n  </thead>\n  <tbody>\n    <tr>\n      <th>0</th>\n      <td>2012</td>\n      <td>recipient_imputed_multi_flow_net</td>\n      <td>12</td>\n      <td>United Kingdom</td>\n      <td>10001</td>\n      <td>GBP</td>\n      <td>constant</td>\n      <td>1694.041220</td>\n    </tr>\n    <tr>\n      <th>1</th>\n      <td>2013</td>\n      <td>recipient_imputed_multi_flow_net</td>\n      <td>12</td>\n      <td>United Kingdom</td>\n      <td>10001</td>\n      <td>GBP</td>\n      <td>constant</td>\n      <td>2364.601426</td>\n    </tr>\n    <tr>\n      <th>2</th>\n      <td>2014</td>\n      <td>recipient_imputed_multi_flow_net</td>\n      <td>12</td>\n      <td>United Kingdom</td>\n      <td>10001</td>\n      <td>GBP</td>\n      <td>constant</td>\n      <td>2645.031473</td>\n    </tr>\n    <tr>\n      <th>3</th>\n      <td>2015</td>\n      <td>recipient_imputed_multi_flow_net</td>\n      <td>12</td>\n      <td>United Kingdom</td>\n      <td>10001</td>\n      <td>GBP</td>\n      <td>constant</td>\n      <td>2346.940484</td>\n    </tr>\n    <tr>\n      <th>4</th>\n      <td>2016</td>\n      <td>recipient_imputed_multi_flow_net</td>\n      <td>12</td>\n      <td>United Kingdom</td>\n      <td>10001</td>\n      <td>GBP</td>\n      <td>constant</td>\n      <td>2622.059288</td>\n    </tr>\n    <tr>\n      <th>5</th>\n      <td>2017</td>\n      <td>recipient_imputed_multi_flow_net</td>\n      <td>12</td>\n      <td>United Kingdom</td>\n      <td>10001</td>\n      <td>GBP</td>\n      <td>constant</td>\n      <td>2989.340873</td>\n    </tr>\n    <tr>\n      <th>6</th>\n      <td>2018</td>\n      <td>recipient_imputed_multi_flow_net</td>\n      <td>12</td>\n      <td>United Kingdom</td>\n      <td>10001</td>\n      <td>GBP</td>\n      <td>constant</td>\n      <td>2758.301855</td>\n    </tr>\n    <tr>\n      <th>7</th>\n      <td>2019</td>\n      <td>recipient_imputed_multi_flow_net</td>\n      <td>12</td>\n      <td>United Kingdom</td>\n      <td>10001</td>\n      <td>GBP</td>\n      <td>constant</td>\n      <td>2413.389329</td>\n    </tr>\n    <tr>\n      <th>8</th>\n      <td>2020</td>\n      <td>recipient_imputed_multi_flow_net</td>\n      <td>12</td>\n      <td>United Kingdom</td>\n      <td>10001</td>\n      <td>GBP</td>\n      <td>constant</td>\n      <td>2790.871745</td>\n    </tr>\n    <tr>\n      <th>9</th>\n      <td>2014</td>\n      <td>recipient_imputed_multi_flow_net</td>\n      <td>12</td>\n      <td>United Kingdom</td>\n      <td>10001</td>\n      <td>GBP</td>\n      <td>constant</td>\n      <td>0.000000</td>\n    </tr>\n    <tr>\n      <th>10</th>\n      <td>2017</td>\n      <td>recipient_imputed_multi_flow_net</td>\n      <td>12</td>\n      <td>United Kingdom</td>\n      <td>10001</td>\n      <td>GBP</td>\n      <td>constant</td>\n      <td>0.000000</td>\n    </tr>\n    <tr>\n      <th>11</th>\n      <td>2012</td>\n      <td>recipient_imputed_multi_flow_net</td>\n      <td>12</td>\n      <td>United Kingdom</td>\n      <td>10016</td>\n      <td>GBP</td>\n      <td>constant</td>\n      <td>1191.985001</td>\n    </tr>\n    <tr>\n      <th>12</th>\n      <td>2013</td>\n      <td>recipient_imputed_multi_flow_net</td>\n      <td>12</td>\n      <td>United Kingdom</td>\n      <td>10016</td>\n      <td>GBP</td>\n      <td>constant</td>\n      <td>1986.928197</td>\n    </tr>\n    <tr>\n      <th>13</th>\n      <td>2014</td>\n      <td>recipient_imputed_multi_flow_net</td>\n      <td>12</td>\n      <td>United Kingdom</td>\n      <td>10016</td>\n      <td>GBP</td>\n      <td>constant</td>\n      <td>1974.134400</td>\n    </tr>\n    <tr>\n      <th>14</th>\n      <td>2015</td>\n      <td>recipient_imputed_multi_flow_net</td>\n      <td>12</td>\n      <td>United Kingdom</td>\n      <td>10016</td>\n      <td>GBP</td>\n      <td>constant</td>\n      <td>1732.720887</td>\n    </tr>\n    <tr>\n      <th>15</th>\n      <td>2016</td>\n      <td>recipient_imputed_multi_flow_net</td>\n      <td>12</td>\n      <td>United Kingdom</td>\n      <td>10016</td>\n      <td>GBP</td>\n      <td>constant</td>\n      <td>2046.349621</td>\n    </tr>\n    <tr>\n      <th>16</th>\n      <td>2017</td>\n      <td>recipient_imputed_multi_flow_net</td>\n      <td>12</td>\n      <td>United Kingdom</td>\n      <td>10016</td>\n      <td>GBP</td>\n      <td>constant</td>\n      <td>2379.831459</td>\n    </tr>\n    <tr>\n      <th>17</th>\n      <td>2018</td>\n      <td>recipient_imputed_multi_flow_net</td>\n      <td>12</td>\n      <td>United Kingdom</td>\n      <td>10016</td>\n      <td>GBP</td>\n      <td>constant</td>\n      <td>2610.157348</td>\n    </tr>\n    <tr>\n      <th>18</th>\n      <td>2019</td>\n      <td>recipient_imputed_multi_flow_net</td>\n      <td>12</td>\n      <td>United Kingdom</td>\n      <td>10016</td>\n      <td>GBP</td>\n      <td>constant</td>\n      <td>1914.807000</td>\n    </tr>\n    <tr>\n      <th>19</th>\n      <td>2020</td>\n      <td>recipient_imputed_multi_flow_net</td>\n      <td>12</td>\n      <td>United Kingdom</td>\n      <td>10016</td>\n      <td>GBP</td>\n      <td>constant</td>\n      <td>2134.865912</td>\n    </tr>\n    <tr>\n      <th>20</th>\n      <td>2012</td>\n      <td>recipient_bilateral_flow_net</td>\n      <td>12</td>\n      <td>United Kingdom</td>\n      <td>10001</td>\n      <td>GBP</td>\n      <td>constant</td>\n      <td>2615.345503</td>\n    </tr>\n    <tr>\n      <th>21</th>\n      <td>2013</td>\n      <td>recipient_bilateral_flow_net</td>\n      <td>12</td>\n      <td>United Kingdom</td>\n      <td>10001</td>\n      <td>GBP</td>\n      <td>constant</td>\n      <td>2941.144284</td>\n    </tr>\n    <tr>\n      <th>22</th>\n      <td>2014</td>\n      <td>recipient_bilateral_flow_net</td>\n      <td>12</td>\n      <td>United Kingdom</td>\n      <td>10001</td>\n      <td>GBP</td>\n      <td>constant</td>\n      <td>3052.923502</td>\n    </tr>\n    <tr>\n      <th>23</th>\n      <td>2015</td>\n      <td>recipient_bilateral_flow_net</td>\n      <td>12</td>\n      <td>United Kingdom</td>\n      <td>10001</td>\n      <td>GBP</td>\n      <td>constant</td>\n      <td>3169.401169</td>\n    </tr>\n    <tr>\n      <th>24</th>\n      <td>2016</td>\n      <td>recipient_bilateral_flow_net</td>\n      <td>12</td>\n      <td>United Kingdom</td>\n      <td>10001</td>\n      <td>GBP</td>\n      <td>constant</td>\n      <td>3231.296167</td>\n    </tr>\n    <tr>\n      <th>25</th>\n      <td>2017</td>\n      <td>recipient_bilateral_flow_net</td>\n      <td>12</td>\n      <td>United Kingdom</td>\n      <td>10001</td>\n      <td>GBP</td>\n      <td>constant</td>\n      <td>3324.315374</td>\n    </tr>\n    <tr>\n      <th>26</th>\n      <td>2018</td>\n      <td>recipient_bilateral_flow_net</td>\n      <td>12</td>\n      <td>United Kingdom</td>\n      <td>10001</td>\n      <td>GBP</td>\n      <td>constant</td>\n      <td>3102.350986</td>\n    </tr>\n    <tr>\n      <th>27</th>\n      <td>2019</td>\n      <td>recipient_bilateral_flow_net</td>\n      <td>12</td>\n      <td>United Kingdom</td>\n      <td>10001</td>\n      <td>GBP</td>\n      <td>constant</td>\n      <td>3185.408003</td>\n    </tr>\n    <tr>\n      <th>28</th>\n      <td>2020</td>\n      <td>recipient_bilateral_flow_net</td>\n      <td>12</td>\n      <td>United Kingdom</td>\n      <td>10001</td>\n      <td>GBP</td>\n      <td>constant</td>\n      <td>2630.593529</td>\n    </tr>\n    <tr>\n      <th>29</th>\n      <td>2012</td>\n      <td>recipient_bilateral_flow_net</td>\n      <td>12</td>\n      <td>United Kingdom</td>\n      <td>10016</td>\n      <td>GBP</td>\n      <td>constant</td>\n      <td>2308.069486</td>\n    </tr>\n    <tr>\n      <th>30</th>\n      <td>2013</td>\n      <td>recipient_bilateral_flow_net</td>\n      <td>12</td>\n      <td>United Kingdom</td>\n      <td>10016</td>\n      <td>GBP</td>\n      <td>constant</td>\n      <td>2668.827117</td>\n    </tr>\n    <tr>\n      <th>31</th>\n      <td>2014</td>\n      <td>recipient_bilateral_flow_net</td>\n      <td>12</td>\n      <td>United Kingdom</td>\n      <td>10016</td>\n      <td>GBP</td>\n      <td>constant</td>\n      <td>2675.626540</td>\n    </tr>\n    <tr>\n      <th>32</th>\n      <td>2015</td>\n      <td>recipient_bilateral_flow_net</td>\n      <td>12</td>\n      <td>United Kingdom</td>\n      <td>10016</td>\n      <td>GBP</td>\n      <td>constant</td>\n      <td>2874.024113</td>\n    </tr>\n    <tr>\n      <th>33</th>\n      <td>2016</td>\n      <td>recipient_bilateral_flow_net</td>\n      <td>12</td>\n      <td>United Kingdom</td>\n      <td>10016</td>\n      <td>GBP</td>\n      <td>constant</td>\n      <td>2659.523980</td>\n    </tr>\n    <tr>\n      <th>34</th>\n      <td>2017</td>\n      <td>recipient_bilateral_flow_net</td>\n      <td>12</td>\n      <td>United Kingdom</td>\n      <td>10016</td>\n      <td>GBP</td>\n      <td>constant</td>\n      <td>2861.261372</td>\n    </tr>\n    <tr>\n      <th>35</th>\n      <td>2018</td>\n      <td>recipient_bilateral_flow_net</td>\n      <td>12</td>\n      <td>United Kingdom</td>\n      <td>10016</td>\n      <td>GBP</td>\n      <td>constant</td>\n      <td>2601.204366</td>\n    </tr>\n    <tr>\n      <th>36</th>\n      <td>2019</td>\n      <td>recipient_bilateral_flow_net</td>\n      <td>12</td>\n      <td>United Kingdom</td>\n      <td>10016</td>\n      <td>GBP</td>\n      <td>constant</td>\n      <td>2891.443026</td>\n    </tr>\n    <tr>\n      <th>37</th>\n      <td>2020</td>\n      <td>recipient_bilateral_flow_net</td>\n      <td>12</td>\n      <td>United Kingdom</td>\n      <td>10016</td>\n      <td>GBP</td>\n      <td>constant</td>\n      <td>2312.921382</td>\n    </tr>\n    <tr>\n      <th>38</th>\n      <td>2012</td>\n      <td>recipient_total_flow_net</td>\n      <td>12</td>\n      <td>United Kingdom</td>\n      <td>10001</td>\n      <td>GBP</td>\n      <td>constant</td>\n      <td>4309.386722</td>\n    </tr>\n    <tr>\n      <th>39</th>\n      <td>2013</td>\n      <td>recipient_total_flow_net</td>\n      <td>12</td>\n      <td>United Kingdom</td>\n      <td>10001</td>\n      <td>GBP</td>\n      <td>constant</td>\n      <td>5305.745710</td>\n    </tr>\n    <tr>\n      <th>40</th>\n      <td>2014</td>\n      <td>recipient_total_flow_net</td>\n      <td>12</td>\n      <td>United Kingdom</td>\n      <td>10001</td>\n      <td>GBP</td>\n      <td>constant</td>\n      <td>5697.954975</td>\n    </tr>\n    <tr>\n      <th>41</th>\n      <td>2015</td>\n      <td>recipient_total_flow_net</td>\n      <td>12</td>\n      <td>United Kingdom</td>\n      <td>10001</td>\n      <td>GBP</td>\n      <td>constant</td>\n      <td>5516.341653</td>\n    </tr>\n    <tr>\n      <th>42</th>\n      <td>2016</td>\n      <td>recipient_total_flow_net</td>\n      <td>12</td>\n      <td>United Kingdom</td>\n      <td>10001</td>\n      <td>GBP</td>\n      <td>constant</td>\n      <td>5853.355455</td>\n    </tr>\n    <tr>\n      <th>43</th>\n      <td>2017</td>\n      <td>recipient_total_flow_net</td>\n      <td>12</td>\n      <td>United Kingdom</td>\n      <td>10001</td>\n      <td>GBP</td>\n      <td>constant</td>\n      <td>6313.656247</td>\n    </tr>\n    <tr>\n      <th>44</th>\n      <td>2018</td>\n      <td>recipient_total_flow_net</td>\n      <td>12</td>\n      <td>United Kingdom</td>\n      <td>10001</td>\n      <td>GBP</td>\n      <td>constant</td>\n      <td>5860.652841</td>\n    </tr>\n    <tr>\n      <th>45</th>\n      <td>2019</td>\n      <td>recipient_total_flow_net</td>\n      <td>12</td>\n      <td>United Kingdom</td>\n      <td>10001</td>\n      <td>GBP</td>\n      <td>constant</td>\n      <td>5598.797332</td>\n    </tr>\n    <tr>\n      <th>46</th>\n      <td>2020</td>\n      <td>recipient_total_flow_net</td>\n      <td>12</td>\n      <td>United Kingdom</td>\n      <td>10001</td>\n      <td>GBP</td>\n      <td>constant</td>\n      <td>5421.465274</td>\n    </tr>\n    <tr>\n      <th>47</th>\n      <td>2012</td>\n      <td>recipient_total_flow_net</td>\n      <td>12</td>\n      <td>United Kingdom</td>\n      <td>10016</td>\n      <td>GBP</td>\n      <td>constant</td>\n      <td>3500.054488</td>\n    </tr>\n    <tr>\n      <th>48</th>\n      <td>2013</td>\n      <td>recipient_total_flow_net</td>\n      <td>12</td>\n      <td>United Kingdom</td>\n      <td>10016</td>\n      <td>GBP</td>\n      <td>constant</td>\n      <td>4655.755313</td>\n    </tr>\n    <tr>\n      <th>49</th>\n      <td>2014</td>\n      <td>recipient_total_flow_net</td>\n      <td>12</td>\n      <td>United Kingdom</td>\n      <td>10016</td>\n      <td>GBP</td>\n      <td>constant</td>\n      <td>4649.760940</td>\n    </tr>\n    <tr>\n      <th>50</th>\n      <td>2015</td>\n      <td>recipient_total_flow_net</td>\n      <td>12</td>\n      <td>United Kingdom</td>\n      <td>10016</td>\n      <td>GBP</td>\n      <td>constant</td>\n      <td>4606.745000</td>\n    </tr>\n    <tr>\n      <th>51</th>\n      <td>2016</td>\n      <td>recipient_total_flow_net</td>\n      <td>12</td>\n      <td>United Kingdom</td>\n      <td>10016</td>\n      <td>GBP</td>\n      <td>constant</td>\n      <td>4705.873601</td>\n    </tr>\n    <tr>\n      <th>52</th>\n      <td>2017</td>\n      <td>recipient_total_flow_net</td>\n      <td>12</td>\n      <td>United Kingdom</td>\n      <td>10016</td>\n      <td>GBP</td>\n      <td>constant</td>\n      <td>5241.092831</td>\n    </tr>\n    <tr>\n      <th>53</th>\n      <td>2018</td>\n      <td>recipient_total_flow_net</td>\n      <td>12</td>\n      <td>United Kingdom</td>\n      <td>10016</td>\n      <td>GBP</td>\n      <td>constant</td>\n      <td>5211.361715</td>\n    </tr>\n    <tr>\n      <th>54</th>\n      <td>2019</td>\n      <td>recipient_total_flow_net</td>\n      <td>12</td>\n      <td>United Kingdom</td>\n      <td>10016</td>\n      <td>GBP</td>\n      <td>constant</td>\n      <td>4806.250027</td>\n    </tr>\n    <tr>\n      <th>55</th>\n      <td>2020</td>\n      <td>recipient_total_flow_net</td>\n      <td>12</td>\n      <td>United Kingdom</td>\n      <td>10016</td>\n      <td>GBP</td>\n      <td>constant</td>\n      <td>4447.787294</td>\n    </tr>\n  </tbody>\n</table>\n</div>"
     },
     "execution_count": 8,
     "metadata": {},
     "output_type": "execute_result"
    }
   ],
   "source": [
    "df = oda.get_data('all')\n",
    "\n",
    "# show the resulting dataframe\n",
    "df"
   ],
   "metadata": {
    "collapsed": false,
    "pycharm": {
     "name": "#%%\n"
    }
   }
  },
  {
   "cell_type": "markdown",
   "source": [
    "## 6. Optionally, export the DataFrame\n",
    "We will export as a CSV file here to tutorials folder."
   ],
   "metadata": {
    "collapsed": false,
    "pycharm": {
     "name": "#%% md\n"
    }
   }
  },
  {
   "cell_type": "code",
   "execution_count": 9,
   "outputs": [],
   "source": [
    "df.to_csv(r'../tutorials/total_UK_ODA_Dac2a.csv', index = False)"
   ],
   "metadata": {
    "collapsed": false,
    "pycharm": {
     "name": "#%%\n"
    }
   }
  },
  {
   "cell_type": "code",
   "execution_count": null,
   "outputs": [],
   "source": [],
   "metadata": {
    "collapsed": false,
    "pycharm": {
     "name": "#%%\n"
    }
   }
  }
 ],
 "metadata": {
  "kernelspec": {
   "display_name": "Python 3",
   "language": "python",
   "name": "python3"
  },
  "language_info": {
   "codemirror_mode": {
    "name": "ipython",
    "version": 2
   },
   "file_extension": ".py",
   "mimetype": "text/x-python",
   "name": "python",
   "nbconvert_exporter": "python",
   "pygments_lexer": "ipython2",
   "version": "2.7.6"
  }
 },
 "nbformat": 4,
 "nbformat_minor": 0
}