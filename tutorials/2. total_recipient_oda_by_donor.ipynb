{
 "cells": [
  {
   "cell_type": "markdown",
   "source": [
    "# ODA data by Donor and Recipient\n",
    "This tutorial shows you how to build a Pandas DataFrame containing ODA data to any number of recipients from any number of donors, over a range of years and multiple different indicators.\n",
    "\n",
    "The tutorial has the following steps:\n",
    "1. Import `ODAData`, the main tool used to interact with the data\n",
    "2. Create an instance of `ODAData` with the specific arguments you would like to use\n",
    "3. Load the indicators and get the DataFrame\n",
    "4. Optionally, export the DataFrame"
   ],
   "metadata": {
    "collapsed": false
   },
   "outputs": [
    {
     "ename": "SyntaxError",
     "evalue": "unterminated string literal (detected at line 5) (2825186555.py, line 5)",
     "output_type": "error",
     "traceback": [
      "\u001B[1;36m  Cell \u001B[1;32mIn [1], line 5\u001B[1;36m\u001B[0m\n\u001B[1;33m    0. Optionally, download the raw data if you haven't yet done so\u001B[0m\n\u001B[1;37m                                                     ^\u001B[0m\n\u001B[1;31mSyntaxError\u001B[0m\u001B[1;31m:\u001B[0m unterminated string literal (detected at line 5)\n"
     ]
    }
   ],
   "execution_count": 1
  },
  {
   "cell_type": "markdown",
   "source": [
    "## 1. Import ODAData\n",
    "\n",
    "We can gather the data we need using the `ODAData` class. An object from this class can:\n",
    "    - Get data for specific indicators\n",
    "    - Optionally, filter the data for specific donors, recipients and years\n",
    "    - Optionally, exchange and deflate data\n",
    "\n",
    "The `oda_data` package automatically downloads the relevant datasets (i.e. DAC1, DAC2a or CRS tables) depending on the indicators selected in step 3.\n",
    "\n",
    "It is highly recommended that you specify the folder where you want to store, and from where you want to read, this raw data. This must be done once in each notebook or script where we use the `oda_data` package. You can specify the data path if the raw data has already been downloaded, or if you haven't yet specified the download path in your notebook and script."
   ],
   "metadata": {
    "collapsed": false
   }
  },
  {
   "cell_type": "code",
   "execution_count": 2,
   "outputs": [],
   "source": [
    "from oda_data import ODAData, set_data_path\n",
    "\n",
    "# If you haven't set the data path, you can do it now.\n",
    "set_data_path(path=\"../tutorials/data\")"
   ],
   "metadata": {
    "collapsed": false
   }
  },
  {
   "cell_type": "markdown",
   "source": [
    "# 2. Create an instance of ODAData\n",
    "\n",
    "Next, we need to set the right arguments which are used to create an instance of ODAData to produce the right DataFrame. The arguments required are:\n",
    "- *years*: you must specify the `years`, as an `int`, `list` or `range`\n",
    "- *donors*: you can _optionally_ specify the `donors` you want the output to have (as `int`, or `list`) of donor codes.\n",
    "- *recipients*: you can _optionally_ specify the `recipients` you want the output to have. Not all indicators\n",
    "    need or accept recipients. If using an indicator for which recipients are not an option, a warning will be logged to\n",
    "    the console and the recipients ignored for that indicator.\n",
    "- *currency*: you can _optionally_ specify the `currency` in which you want your data to be shown. If not specified,\n",
    "    by default, `USD` will be used. Other options include `EUR`, `GBP` and `CAN`.\n",
    "- *prices*: you can _optionally_ specify the `prices` in which you want your data to be shown. If not specified,\n",
    "    by default, `current` will be used. The other option is `constant`. If specifying `constant` a `base_year` must be set.\n",
    "- *base_year*: you must specify a `base_year` if you have set `prices = 'constant'`. If you have chosen `current` prices,\n",
    "    by default, `base_year` will be `None`."
   ],
   "metadata": {
    "collapsed": false
   }
  },
  {
   "cell_type": "markdown",
   "source": [
    "You can use a few methods provided by the ODAData object to see the available donors and recipients.\n",
    "\n",
    "For example:"
   ],
   "metadata": {
    "collapsed": false
   }
  },
  {
   "cell_type": "code",
   "execution_count": 3,
   "outputs": [
    {
     "name": "stderr",
     "output_type": "stream",
     "text": [
      "INFO 2023-02-06 12:19:32,715 [oda_data.py:available_donors:445] Note that not all donors may be available for all indicators\n"
     ]
    },
    {
     "data": {
      "text/plain": "{\n1: Austria,\n2: Belgium,\n3: Denmark,\n4: France,\n5: Germany,\n6: Italy,\n7: Netherlands,\n8: Norway,\n9: Portugal,\n10: Sweden,\n11: Switzerland,\n12: United Kingdom,\n18: Finland,\n20: Iceland,\n21: Ireland,\n22: Luxembourg,\n40: Greece,\n50: Spain,\n61: Slovenia,\n68: Czech Republic,\n69: Slovak Republic,\n75: Hungary,\n76: Poland,\n301: Canada,\n302: United States,\n701: Japan,\n742: Korea,\n801: Australia,\n820: New Zealand,\n30: Cyprus,\n45: Malta,\n55: Turkey,\n62: Croatia,\n70: Liechtenstein,\n72: Bulgaria,\n77: Romania,\n82: Estonia,\n83: Latvia,\n84: Lithuania,\n87: Russia,\n130: Algeria,\n133: Libya,\n358: Mexico,\n543: Iraq,\n546: Israel,\n552: Kuwait,\n561: Qatar,\n566: Saudi Arabia,\n576: United Arab Emirates,\n611: Azerbaijan,\n613: Kazakhstan,\n732: Chinese Taipei,\n764: Thailand,\n765: Timor-Leste,\n104: Nordic Development Fund,\n807: UNEP,\n811: Global Environment Facility,\n812: Montreal Protocol,\n901: International Bank for Reconstruction and Development,\n902: Multilateral Investment Guarantee Agency,\n903: International Finance Corporation,\n905: International Development Association,\n906: Caribbean Development Bank,\n907: International Monetary Fund,\n909: Inter-American Development Bank,\n913: African Development Bank,\n914: African Development Fund,\n915: Asian Development Bank,\n921: Arab Fund (AFESD),\n923: UN Peacebuilding Fund,\n926: Council of Europe,\n928: World Health Organisation,\n932: Food and Agriculture Organisation,\n940: International Labour Organisation,\n944: International Atomic Energy Agency,\n948: UNECE,\n951: OPEC Fund for International Development,\n952: OAPEC,\n953: Arab Bank for Economic Development in Africa,\n954: Special Arab Aid Fund for Africa,\n956: IMF Trust Fund,\n958: IMF (Concessional Trust Funds),\n959: UNDP,\n960: UNTA,\n963: UNICEF,\n964: UNRWA,\n966: WFP,\n967: UNHCR,\n971: UNAIDS,\n974: UNFPA,\n976: Islamic Development Bank,\n978: OSCE,\n979: Islamic Monetary Fund,\n980: Arab Fund for Technical Assistance to African and Arab Countries,\n981: Black Sea Trade & Development Bank,\n982: GODE,\n983: Other Arab Agencies,\n988: IFAD,\n990: European Bank for Reconstruction and Development,\n992: UN AGENCIES,\n997: Global Partnership for Education,\n1011: Climate Investment Funds,\n1012: Adaptation Fund,\n1013: Council of Europe Development Bank,\n1014: Private Infrastructure Development Group,\n1015: Development Bank of Latin America,\n1016: Green Climate Fund,\n1017: Credit Guarantee and Investment Facility,\n1018: Global Energy Efficiency and Renewable Energy Fund,\n1019: IDB Invest,\n1020: Central Emergency Response Fund,\n1023: World Tourism Organisation,\n1024: Asian Infrastructure Investment Bank,\n1025: Center of Excellence in Finance,\n1037: International Investment Bank,\n1311: Global Alliance for Vaccines and Immunization,\n1312: Global Fund,\n1313: Global Green Growth Institute,\n918: EU Institutions,\n20001: DAC Countries, Total,\n20002: Multilaterals, Total,\n20003: G7 Countries, Total,\n20005: Official Donors, Total,\n20006: Non-DAC Countries, Total,\n20012: World Bank Group, Total,\n20013: International Monetary Fund, Total,\n20014: Inter-American Development Bank, Total,\n20015: Asian Development Bank, Total,\n20016: African Development Bank, Total,\n20021: United Nations, Total,\n20022: Regional Development Banks, Total,\n20033: World Bank, Total,\n20034: Other Multilateral, Total,\n20035: United Postcode Lotteries, Total,\n21600: Private Donors, Total\n}"
     },
     "execution_count": 3,
     "metadata": {},
     "output_type": "execute_result"
    }
   ],
   "source": [
    "# print a list of available donors\n",
    "ODAData().available_donors()"
   ],
   "metadata": {
    "collapsed": false
   }
  },
  {
   "cell_type": "code",
   "execution_count": 4,
   "outputs": [
    {
     "name": "stderr",
     "output_type": "stream",
     "text": [
      "INFO 2023-02-06 12:19:34,755 [oda_data.py:available_recipients:451] Note that not all recipients may be available for all indicators\n"
     ]
    },
    {
     "data": {
      "text/plain": "{\n30: Cyprus,\n35: Gibraltar,\n45: Malta,\n55: Turkey,\n57: Kosovo,\n61: Slovenia,\n62: Croatia,\n63: Serbia,\n64: Bosnia and Herzegovina,\n65: Montenegro,\n66: North Macedonia,\n71: Albania,\n85: Ukraine,\n86: Belarus,\n88: States Ex-Yugoslavia unspecified,\n89: Europe, regional,\n93: Moldova,\n130: Algeria,\n133: Libya,\n136: Morocco,\n139: Tunisia,\n142: Egypt,\n189: North of Sahara, regional,\n218: South Africa,\n225: Angola,\n227: Botswana,\n228: Burundi,\n229: Cameroon,\n230: Cabo Verde,\n231: Central African Republic,\n232: Chad,\n233: Comoros,\n234: Congo,\n235: Democratic Republic of the Congo,\n236: Benin,\n237: East African Community,\n238: Ethiopia,\n239: Gabon,\n240: Gambia,\n241: Ghana,\n243: Guinea,\n244: Guinea-Bissau,\n245: Equatorial Guinea,\n247: Cote d'Ivoire,\n248: Kenya,\n249: Lesotho,\n251: Liberia,\n252: Madagascar,\n253: Malawi,\n255: Mali,\n256: Mauritania,\n257: Mauritius,\n258: Mayotte,\n259: Mozambique,\n260: Niger,\n261: Nigeria,\n265: Zimbabwe,\n266: Rwanda,\n268: Sao Tome and Principe,\n269: Senegal,\n270: Seychelles,\n271: Eritrea,\n272: Sierra Leone,\n273: Somalia,\n274: Djibouti,\n275: Namibia,\n276: Saint Helena,\n278: Sudan,\n279: South Sudan,\n280: Eswatini,\n282: Tanzania,\n283: Togo,\n285: Uganda,\n287: Burkina Faso,\n288: Zambia,\n289: South of Sahara, regional,\n298: Africa, regional,\n328: Bahamas,\n329: Barbados,\n331: Bermuda,\n336: Costa Rica,\n338: Cuba,\n340: Dominican Republic,\n342: El Salvador,\n347: Guatemala,\n349: Haiti,\n351: Honduras,\n352: Belize,\n354: Jamaica,\n358: Mexico,\n361: Netherlands Antilles,\n364: Nicaragua,\n366: Panama,\n373: Aruba,\n375: Trinidad and Tobago,\n376: Anguilla,\n377: Antigua and Barbuda,\n378: Dominica,\n381: Grenada,\n382: Saint Kitts and Nevis,\n383: Saint Lucia,\n384: Saint Vincent and the Grenadines,\n385: Montserrat,\n386: Cayman Islands,\n387: Turks and Caicos Islands,\n388: British Virgin Islands,\n389: Caribbean & Central America, regional,\n425: Argentina,\n428: Bolivia,\n431: Brazil,\n434: Chile,\n437: Colombia,\n440: Ecuador,\n446: Guyana,\n451: Paraguay,\n454: Peru,\n457: Suriname,\n460: Uruguay,\n463: Venezuela,\n489: South America, regional,\n498: America, regional,\n530: Bahrain,\n540: Iran,\n543: Iraq,\n546: Israel,\n549: Jordan,\n550: West Bank and Gaza Strip,\n552: Kuwait,\n555: Lebanon,\n558: Oman,\n561: Qatar,\n566: Saudi Arabia,\n573: Syrian Arab Republic,\n576: United Arab Emirates,\n580: Yemen,\n589: Middle East, regional,\n610: Armenia,\n611: Azerbaijan,\n612: Georgia,\n613: Kazakhstan,\n614: Kyrgyzstan,\n615: Tajikistan,\n616: Turkmenistan,\n617: Uzbekistan,\n619: Central Asia, regional,\n625: Afghanistan,\n630: Bhutan,\n635: Myanmar,\n640: Sri Lanka,\n645: India,\n650: Indus Basin,\n655: Maldives,\n660: Nepal,\n665: Pakistan,\n666: Bangladesh,\n679: South Asia, regional,\n689: South & Central Asia, regional,\n725: Brunei Darussalam,\n728: Cambodia,\n730: China (People's Republic of),\n732: Chinese Taipei,\n735: Hong Kong (China),\n738: Indonesia,\n740: Democratic People's Republic of Korea,\n742: Korea,\n745: Lao People's Democratic Republic,\n748: Macau (China),\n751: Malaysia,\n753: Mongolia,\n755: Philippines,\n761: Singapore,\n764: Thailand,\n765: Timor-Leste,\n769: Viet Nam,\n789: Far East Asia, regional,\n798: Asia, regional,\n816: Other Regional Banks,\n831: Cook Islands,\n832: Fiji,\n836: Kiribati,\n840: French Polynesia,\n845: Nauru,\n850: New Caledonia,\n854: Vanuatu,\n856: Niue,\n858: Northern Mariana Islands,\n859: Marshall Islands,\n860: Micronesia,\n861: Palau,\n862: Papua New Guinea,\n866: Solomon Islands,\n868: Tokelau,\n870: Tonga,\n872: Tuvalu,\n876: Wallis and Futuna,\n880: Samoa,\n889: Oceania, regional,\n900: Other World Bank (AMCs),\n901: IBRD,\n902: MIGA,\n903: IFC,\n904: IDA-MDRI,\n905: IDA,\n906: Caribbean Dev. Bank,\n907: IMF,\n909: IDB,\n910: CABEI,\n912: IDB Special Oper. Fund,\n913: Af. D B,\n914: African Dev. Fund,\n915: Asian Dev. Bank,\n916: AsDB Special Funds,\n917: EC,\n918: EDF,\n919: EIB,\n927: Other EU institutions,\n959: UNDP,\n963: UNICEF,\n964: UNRWA,\n966: WFP,\n967: UNHCR,\n974: UNFPA,\n975: Other UN,\n988: IFAD,\n989: Other Multilateral,\n1031: Caribbean, regional,\n9998: Developing countries, unspecified,\n10001: Africa, Total,\n10002: North of Sahara, Total,\n10003: South of Sahara, Total,\n10004: America, Total,\n10005: Caribbean & Central America, Total,\n10006: South America, Total,\n10007: Asia, Total,\n10008: Far East Asia, Total,\n10009: South & Central Asia, Total,\n10010: Europe, Total,\n10011: Middle East, Total,\n10012: Oceania, Total,\n10013: CEEC, Total,\n10014: NIS, Total,\n10016: LDCs, Total,\n10017: Other LICs, Total,\n10018: LMICs, Total,\n10019: UMICs, Total,\n10024: Part I Unallocated by income,\n10025: MADCTs, Total,\n10026: Part II Countries, Total,\n10030: HIPCs, Total,\n10040: ACP Countries, Total,\n10041: Club du Sahel, Total,\n10045: WorldBank Low income countries,\n10046: WorldBank Lower-middle income countries,\n10047: WorldBank Upper-middle income countries,\n10048: WorldBank High income countries,\n10049: Countries not classified by the World Bank,\n10050: Eastern Africa, Total,\n10051: Middle Africa, Total,\n10052: Southern Africa, Total,\n10053: Western Africa, Total,\n10054: Caribbean, Total,\n10055: Central America, Total,\n10056: Northern America, Total,\n10057: Melanesia, Total,\n10058: Micronesia, Total,\n10059: Polynesia, Total,\n10100: Developing Countries, Total,\n10150: All Multilateral Recipients, Total,\n10200: All Recipients, Total,\n10201: Land-Locked countries, Total,\n10202: Small island states, Total,\n10203: Fragile states, Total,\n1027: Eastern Africa, regional,\n1030: Western Africa, regional,\n1028: Middle Africa, regional,\n1029: Southern Africa, regional,\n1032: Central America, regional,\n1033: Melanesia, regional,\n1034: Micronesia, regional\n}"
     },
     "execution_count": 4,
     "metadata": {},
     "output_type": "execute_result"
    }
   ],
   "source": [
    "# print a list of available recipients\n",
    "ODAData().available_recipients()"
   ],
   "metadata": {
    "collapsed": false
   }
  },
  {
   "cell_type": "markdown",
   "source": [
    "Next, in order to get the data we want, we will create an instance of the `ODAData` class by specifying the correct arguments.\n",
    "\n",
    "We will store this instance in a variable called `oda`, which we will use later to load the indicators and get the DataFrame we're after.\n",
    "\n",
    "Below are some example settings for this tutorial. For clarity, we will first store them in variables, but you can\n",
    "always pass them directly as arguments to the `ODAData` class."
   ],
   "metadata": {
    "collapsed": false
   }
  },
  {
   "cell_type": "code",
   "execution_count": 5,
   "outputs": [],
   "source": [
    "# Select years as (for example) a range. Remember ranges are exclusive of the upper bound.\n",
    "years = range(2010, 2021)\n",
    "\n",
    "# Select donors, which must be specified by their codes. To get all donors, do not use this argument. Here, we are showing France.\n",
    "donors = 4\n",
    "\n",
    "# Select recipients, which must be specified by their codes. In this example, we have used Africa, total.\n",
    "recipients = [10001]\n",
    "\n",
    "# Select the currency. By default 'USD' is shown but we'll get the data in Euros.\n",
    "currency = 'EUR'\n",
    "\n",
    "# Select the prices. By default, 'current' is shown, but we'll get the data in constant prices.\n",
    "prices = 'constant'\n",
    "\n",
    "# Set the base year. We must set this given that we've asked for constant data.\n",
    "base_year = 2021\n",
    "\n",
    "# Instantiate the `ODAData` class and store it in a variable called 'oda'\n",
    "oda = ODAData(years=years,\n",
    "              donors=donors,\n",
    "              currency=currency,\n",
    "              prices=prices,\n",
    "              base_year=base_year,\n",
    "              include_names=True)"
   ],
   "metadata": {
    "collapsed": false
   }
  },
  {
   "cell_type": "markdown",
   "source": [
    "## 3. Load the indicators and get the DataFrame\n",
    "\n",
    "Then we tell `oda` to load the indicator(s) that are useful for our analysis. For this tutorial, we will use the *\"recipient_imputed_multi_flow_net\"*, *\"recipient_bilateral_flow_net\"*, and *\"recipient_total_flow_net\"* indicators to get total ODA from donor to recipient with a bilateral and multilateral breakdown.\n",
    "\n",
    "A full list of indicators can be seen by using the `.available_indicators()` method."
   ],
   "metadata": {
    "collapsed": false
   }
  },
  {
   "cell_type": "code",
   "execution_count": 6,
   "outputs": [
    {
     "data": {
      "text/plain": "[\ntotal_oda_flow_net,\ntotal_oda_ge,\ntotal_oda_official_definition,\ntotal_oda_bilateral_flow_net,\ntotal_oda_bilateral_ge,\ntotal_oda_multilateral_flow_net,\ntotal_oda_multilateral_ge,\ntotal_oda_flow_gross,\ntotal_oda_flow_commitments,\ntotal_oda_grants_flow,\ntotal_oda_grants_ge,\ntotal_oda_non_grants_flow,\ntotal_oda_non_grants_ge,\ntotal_covid_oda_ge,\ntotal_covid_oda_flow,\ntotal_covid_oda_ge_linked,\ntotal_health_covid_oda_ge,\ntotal_health_covid_oda_flow,\ntotal_health_covid_oda_ge_linked,\ntotal_covid_vaccine_donations_oda_ge,\ntotal_covid_vaccine_donations_oda_flow,\ntotal_covid_vaccine_donations_oda_ge_linked,\ntotal_covid_vaccine_donations_domestic_supply_oda_ge,\ntotal_covid_vaccine_donations_domestic_supply_oda_flow,\ntotal_covid_vaccine_donations_domestic_supply_oda_ge_linked,\ntotal_covid_vaccine_donations_dev_purchase_oda_ge,\ntotal_covid_vaccine_donations_dev_purchase_oda_flow,\ntotal_covid_vaccine_donations_dev_purchase_oda_ge_linked,\ntotal_covid_ancillary_oda_ge,\ntotal_covid_ancillary_oda_flow,\ntotal_covid_ancillary_oda_ge_linked,\ngni,\noda_gni_flow,\noda_gni_ge,\ntotal_in_donor_students_flow,\ntotal_in_donor_students_ge,\ntotal_in_donor_students_ge_linked,\nscholarships_flow,\nscholarships_ge,\nscholarships_ge_linked,\nimputed_students_flow,\nimputed_students_ge,\nimputed_students_linked,\ndebt_relief_flow,\ndebt_relief_ge,\nidrc_flow,\nidrc_ge,\nidrc_ge_linked,\neu_core_flow,\neu_core_ge,\neu_core_ge_linked,\none_non_core_oda_flow,\none_non_core_oda_ge,\none_non_core_oda_ge_linked,\none_core_oda_flow,\none_core_oda_ge,\none_core_oda_ge_linked,\ntotal_psi_flow,\ntotal_psi_ge,\ntotal_psi_flow_linked,\ninstitutional_psi_flow,\ninstitutional_psi_ge,\ninstitutional_psi_flow_linked,\ninstrument_psi_flow,\ninstrument_psi_ge,\ninstrument_psi_flow_linked,\nrecipient_imputed_multi_flow_net,\nrecipient_bilateral_flow_net,\nrecipient_bilateral_flow_gross,\nrecipient_loans_flow_gross,\nrecipient_loans_flow_net,\nrecipient_interest_received_flow,\nrecipient_humanitarian_flow,\nrecipient_grants_flow,\nrecipient_total_flow_net,\ncrs_bilateral_flow_disbursement_gross,\ncrs_bilateral_all_flows_disbursement_gross,\ncrs_gender_significant_flow_disbursement_gross,\ncrs_gender_principal_flow_disbursement_gross,\ncrs_gender_not_targeted_flow_disbursement_gross,\ncrs_gender_not_screened_flow_disbursement_gross,\ncrs_gender_allocable_flow_disbursement_gross,\ncrs_gender_allocable_total_flow_disbursement_gross,\ncrs_gender_total_flow_gross,\ncrs_bilateral_total_flow_gross_by_purpose,\nmultisystem_multilateral_contributions_disbursement_gross,\nmultisystem_multilateral_contributions_commitments_gross,\nimputed_multi_flow_disbursement_gross,\ntotal_bi_multi_flow_disbursement_gross\n]"
     },
     "execution_count": 6,
     "metadata": {},
     "output_type": "execute_result"
    }
   ],
   "source": [
    "# print available indicators\n",
    "ODAData().available_indicators()"
   ],
   "metadata": {
    "collapsed": false
   }
  },
  {
   "cell_type": "code",
   "execution_count": 7,
   "outputs": [
    {
     "name": "stderr",
     "output_type": "stream",
     "text": [
      "INFO 2023-02-06 12:20:47,920 [read.py:read_dac2a:61] DAC2a data not found. Downloading...\n",
      "INFO 2023-02-06 12:20:47,921 [dac2a.py:download_dac2a:14] Downloading DAC2A data... This may take a while.\n",
      "INFO 2023-02-06 12:23:00,510 [common.py:download_single_table:188] Table2a_Data.csv data downloaded and saved.\n"
     ]
    },
    {
     "name": "stdout",
     "output_type": "stream",
     "text": [
      "Data not found, downloading...\n",
      "Downloading DAC1 data, which may take a bit\n",
      "Successfully downloaded DAC1 data\n"
     ]
    },
    {
     "data": {
      "text/plain": "      year                     indicator  donor_code donor_name  \\\n0     2010  recipient_bilateral_flow_net           4     France   \n1     2010  recipient_bilateral_flow_net           4     France   \n2     2010  recipient_bilateral_flow_net           4     France   \n3     2010  recipient_bilateral_flow_net           4     France   \n4     2010  recipient_bilateral_flow_net           4     France   \n...    ...                           ...         ...        ...   \n7211  2020      recipient_total_flow_net           4     France   \n7212  2020      recipient_total_flow_net           4     France   \n7213  2020      recipient_total_flow_net           4     France   \n7214  2020      recipient_total_flow_net           4     France   \n7215  2020      recipient_total_flow_net           4     France   \n\n      recipient_code                      recipient_name currency    prices  \\\n0                 55                              Turkey      EUR  constant   \n1                 57                              Kosovo      EUR  constant   \n2                 62                             Croatia      EUR  constant   \n3                 63                              Serbia      EUR  constant   \n4                 64              Bosnia and Herzegovina      EUR  constant   \n...              ...                                 ...      ...       ...   \n7211           10150  All Multilateral Recipients, Total      EUR  constant   \n7212           10200               All Recipients, Total      EUR  constant   \n7213           10201        Land-Locked countries, Total      EUR  constant   \n7214           10202          Small island states, Total      EUR  constant   \n7215           10203               Fragile states, Total      EUR  constant   \n\n             value  \n0        74.584459  \n1         1.459793  \n2         3.181168  \n3        11.771164  \n4         2.953339  \n...            ...  \n7211   4722.665283  \n7212  18559.187704  \n7213   1986.037917  \n7214    719.353569  \n7215   4411.270169  \n\n[7216 rows x 9 columns]",
      "text/html": "<div>\n<style scoped>\n    .dataframe tbody tr th:only-of-type {\n        vertical-align: middle;\n    }\n\n    .dataframe tbody tr th {\n        vertical-align: top;\n    }\n\n    .dataframe thead th {\n        text-align: right;\n    }\n</style>\n<table border=\"1\" class=\"dataframe\">\n  <thead>\n    <tr style=\"text-align: right;\">\n      <th></th>\n      <th>year</th>\n      <th>indicator</th>\n      <th>donor_code</th>\n      <th>donor_name</th>\n      <th>recipient_code</th>\n      <th>recipient_name</th>\n      <th>currency</th>\n      <th>prices</th>\n      <th>value</th>\n    </tr>\n  </thead>\n  <tbody>\n    <tr>\n      <th>0</th>\n      <td>2010</td>\n      <td>recipient_bilateral_flow_net</td>\n      <td>4</td>\n      <td>France</td>\n      <td>55</td>\n      <td>Turkey</td>\n      <td>EUR</td>\n      <td>constant</td>\n      <td>74.584459</td>\n    </tr>\n    <tr>\n      <th>1</th>\n      <td>2010</td>\n      <td>recipient_bilateral_flow_net</td>\n      <td>4</td>\n      <td>France</td>\n      <td>57</td>\n      <td>Kosovo</td>\n      <td>EUR</td>\n      <td>constant</td>\n      <td>1.459793</td>\n    </tr>\n    <tr>\n      <th>2</th>\n      <td>2010</td>\n      <td>recipient_bilateral_flow_net</td>\n      <td>4</td>\n      <td>France</td>\n      <td>62</td>\n      <td>Croatia</td>\n      <td>EUR</td>\n      <td>constant</td>\n      <td>3.181168</td>\n    </tr>\n    <tr>\n      <th>3</th>\n      <td>2010</td>\n      <td>recipient_bilateral_flow_net</td>\n      <td>4</td>\n      <td>France</td>\n      <td>63</td>\n      <td>Serbia</td>\n      <td>EUR</td>\n      <td>constant</td>\n      <td>11.771164</td>\n    </tr>\n    <tr>\n      <th>4</th>\n      <td>2010</td>\n      <td>recipient_bilateral_flow_net</td>\n      <td>4</td>\n      <td>France</td>\n      <td>64</td>\n      <td>Bosnia and Herzegovina</td>\n      <td>EUR</td>\n      <td>constant</td>\n      <td>2.953339</td>\n    </tr>\n    <tr>\n      <th>...</th>\n      <td>...</td>\n      <td>...</td>\n      <td>...</td>\n      <td>...</td>\n      <td>...</td>\n      <td>...</td>\n      <td>...</td>\n      <td>...</td>\n      <td>...</td>\n    </tr>\n    <tr>\n      <th>7211</th>\n      <td>2020</td>\n      <td>recipient_total_flow_net</td>\n      <td>4</td>\n      <td>France</td>\n      <td>10150</td>\n      <td>All Multilateral Recipients, Total</td>\n      <td>EUR</td>\n      <td>constant</td>\n      <td>4722.665283</td>\n    </tr>\n    <tr>\n      <th>7212</th>\n      <td>2020</td>\n      <td>recipient_total_flow_net</td>\n      <td>4</td>\n      <td>France</td>\n      <td>10200</td>\n      <td>All Recipients, Total</td>\n      <td>EUR</td>\n      <td>constant</td>\n      <td>18559.187704</td>\n    </tr>\n    <tr>\n      <th>7213</th>\n      <td>2020</td>\n      <td>recipient_total_flow_net</td>\n      <td>4</td>\n      <td>France</td>\n      <td>10201</td>\n      <td>Land-Locked countries, Total</td>\n      <td>EUR</td>\n      <td>constant</td>\n      <td>1986.037917</td>\n    </tr>\n    <tr>\n      <th>7214</th>\n      <td>2020</td>\n      <td>recipient_total_flow_net</td>\n      <td>4</td>\n      <td>France</td>\n      <td>10202</td>\n      <td>Small island states, Total</td>\n      <td>EUR</td>\n      <td>constant</td>\n      <td>719.353569</td>\n    </tr>\n    <tr>\n      <th>7215</th>\n      <td>2020</td>\n      <td>recipient_total_flow_net</td>\n      <td>4</td>\n      <td>France</td>\n      <td>10203</td>\n      <td>Fragile states, Total</td>\n      <td>EUR</td>\n      <td>constant</td>\n      <td>4411.270169</td>\n    </tr>\n  </tbody>\n</table>\n<p>7216 rows × 9 columns</p>\n</div>"
     },
     "execution_count": 7,
     "metadata": {},
     "output_type": "execute_result"
    }
   ],
   "source": [
    "# Create a variable with the list of indicators for this analysis.\n",
    "# The indicator can also be directly passed as an argument in the step below.\n",
    "indicators = ['recipient_imputed_multi_flow_net','recipient_bilateral_flow_net','recipient_total_flow_net']\n",
    "\n",
    "# Add all the indicators in our `indicators` list\n",
    "for indicator in indicators:\n",
    "    oda.load_indicator(indicator)\n",
    "\n",
    "df = oda.get_data('all')\n",
    "\n",
    "# show the resulting dataframe\n",
    "df"
   ],
   "metadata": {
    "collapsed": false
   }
  },
  {
   "cell_type": "markdown",
   "source": [
    "## 4. Optionally export DataFrame as CSV\n",
    "\n",
    "Finally, we can export the DataFrame as a CSV if required."
   ],
   "metadata": {
    "collapsed": false
   }
  },
  {
   "cell_type": "code",
   "execution_count": 13,
   "outputs": [],
   "source": [
    "df.to_csv(r'../tutorials/output/total_donor_by_recipient.csv', index = False)"
   ],
   "metadata": {
    "collapsed": false
   }
  }
 ],
 "metadata": {
  "kernelspec": {
   "display_name": "Python 3",
   "language": "python",
   "name": "python3"
  },
  "language_info": {
   "codemirror_mode": {
    "name": "ipython",
    "version": 2
   },
   "file_extension": ".py",
   "mimetype": "text/x-python",
   "name": "python",
   "nbconvert_exporter": "python",
   "pygments_lexer": "ipython2",
   "version": "2.7.6"
  }
 },
 "nbformat": 4,
 "nbformat_minor": 0
}
